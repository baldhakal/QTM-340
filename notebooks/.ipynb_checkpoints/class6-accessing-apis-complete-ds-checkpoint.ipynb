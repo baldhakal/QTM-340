{
 "cells": [
  {
   "cell_type": "markdown",
   "metadata": {},
   "source": [
    "## Accessing APIs\n",
    "\n",
    "Lauren F. Klein wrote version 1.0 of this notebook, based off the tutorial by [Allison Parrish](http://www.decontextualize.com/)\n",
    "\n",
    "We want to do data science with text. We can acquire text from digital libraries or web scraping. But sometimes our best option is to acquire text through web APIs.\n",
    "\n",
    "At this point, we have enough programming scaffolding to learn how to access web APIs. \n",
    "\n",
    "What is an API? [Here](https://medium.com/epfl-extension-school/an-illustrated-introduction-to-apis-10f8000313b9) is a detailed explanation.\n",
    "\n",
    "In short: **A web API is some collection of data, made available on the web, provided in a format easy for computers to parse. The data can be text but doesn't have to be.** \n",
    "\n",
    "Twitter's [Search API](https://developer.twitter.com/) is probably the most commonly used API by social scientists and computational linguists seeking to analyze text. You might want to use that for your final project.\n",
    "\n",
    "But let's start with something simple:\n",
    "\n",
    "[Yes or No?](https://yesno.wtf/) (more fun ones on [this list](https://dev.to/mkrl/apis-you-didnt-know-you-needed-38c))\n",
    "\n",
    "**Reload \"Yes or No?\" a few times. What does it do?**"
   ]
  },
  {
   "cell_type": "markdown",
   "metadata": {},
   "source": [
    "It shows a gif that accompanies either \"Yes\" or \"No\""
   ]
  },
  {
   "cell_type": "markdown",
   "metadata": {},
   "source": [
    "Now, if we wanted to use this for a project, we *could* scrape the HTML in the way we've just learned. \n",
    "\n",
    "But the site's API gives us an easier way!\n",
    "\n",
    "Take a look:\n",
    "[Yes or No API?](https://yesno.wtf/#api)\n",
    "\n",
    "**What do you think this does?**"
   ]
  },
  {
   "cell_type": "markdown",
   "metadata": {},
   "source": [
    "This gives access to the back end of the site, giving us the answer (\"yes\" or \"no\") and the site where the gif comes from."
   ]
  },
  {
   "cell_type": "markdown",
   "metadata": {},
   "source": [
    "**Can you identify the data format that's being used?**"
   ]
  },
  {
   "cell_type": "markdown",
   "metadata": {},
   "source": [
    "JSON"
   ]
  },
  {
   "cell_type": "markdown",
   "metadata": {},
   "source": [
    "And since Python has lots of ways for dealing with json, we can use this API in a Very Important Decision-Making Program:"
   ]
  },
  {
   "cell_type": "code",
   "execution_count": 1,
   "metadata": {},
   "outputs": [
    {
     "name": "stdout",
     "output_type": "stream",
     "text": [
      "This is what 'data' looks like as a string: {'answer': 'no', 'forced': False, 'image': 'https://yesno.wtf/assets/no/10-d5ddf3f82134e781c1175614c0d2bab2.gif'}\n",
      "And printing 'data['answer']' will tell us the decision in this instance, yes, no, or maybe: no\n"
     ]
    }
   ],
   "source": [
    "import requests # remember this from last time\n",
    "\n",
    "url = \"https://yesno.wtf/api/\"\n",
    "response = requests.get(url)\n",
    "data = response.json() # this turns the json into a dictionary that can be accessed by key/value pairs\n",
    "print(\"This is what 'data' looks like as a string: \" + str(data))\n",
    "print(\"And printing 'data['answer']' will tell us the decision in this instance, yes, no, or maybe: \" + data['answer'])"
   ]
  },
  {
   "cell_type": "markdown",
   "metadata": {},
   "source": [
    "How might this be useful in text analysis projects? Especially given the amount of time that we've spent scraping the web?"
   ]
  },
  {
   "cell_type": "markdown",
   "metadata": {},
   "source": [
    "It can radically speed up web scraping; it can also build in updates to source data."
   ]
  },
  {
   "cell_type": "markdown",
   "metadata": {},
   "source": [
    "How does it work?\n",
    "\n",
    "Notice that it starts with a URL, just like a regular website. \n",
    "\n",
    "You can go to the URL in your browser, as we did a moment ago, and see a version of what we used for our program. \n",
    "\n",
    "Let's slow it down. Here again is the data we receive in response to our request to the API:"
   ]
  },
  {
   "cell_type": "code",
   "execution_count": 2,
   "metadata": {},
   "outputs": [
    {
     "data": {
      "text/plain": [
       "{'answer': 'no',\n",
       " 'forced': False,\n",
       " 'image': 'https://yesno.wtf/assets/no/22-8806dbccb1edf544723b7f095ff722e8.gif'}"
      ]
     },
     "execution_count": 2,
     "metadata": {},
     "output_type": "execute_result"
    }
   ],
   "source": [
    "url = \"https://yesno.wtf/api/\"\n",
    "response = requests.get(url)\n",
    "data = response.json() # this turns the json into a dictionary that can be accessed by key/value pairs\n",
    "data"
   ]
  },
  {
   "cell_type": "markdown",
   "metadata": {},
   "source": [
    "You can [go to the same URL in your web browser](https://yesno.wtf/api/) and see a version of the same thing.\n",
    "\n",
    "If you click on the URL image link it will show you the gif associated with the yes, no, or (rarely) maybe answer."
   ]
  },
  {
   "cell_type": "markdown",
   "metadata": {},
   "source": [
    "Since we're on the subject, let's talk a bit more about URLs\n",
    "\n",
    "### URLs\n",
    "\n",
    "A URL (\"uniform resource locator\") uniquely identifies a document on the web, and provides instructions for how to access it. It's the thing you type into your web browser's address bar. It's what you cut-and-paste when you want to e-mail an article to a friend. In fact, most of what we do on the web--whether we're using a web browser or writing a program that accesses the web--boils down to manipulating URLs.\n",
    "\n",
    "It's important to understand the structure of URLs so we can take them apart and put them back together (both in our heads and programmatically). URLs have a conventional structure that is specified in internet standards documentation, and many web APIs assume knowledge of this structure. So let's take the following URL:\n",
    "\n",
    "    http://www.example.com/foo/bar?arg1=baz&arg2=quux\n",
    "    \n",
    "... and break it down into parts, so we have a common vocabulary.\n",
    "\n",
    "| Part | Name |\n",
    "|------|------|\n",
    "| `http` | scheme |\n",
    "| `www.example.com` | host |\n",
    "| `/foo/bar` | path |\n",
    "| `?arg1=baz&arg2=quux` | query string |\n",
    "\n",
    "All of these parts are required, except for the query string, which is optional. Explanations:\n",
    "\n",
    "* The *scheme* determines what *protocol* will be used to access this resource. For our purposes, this will almost always be `http` (HyperText Transfer Protocol) or `https` (HTTP, but over an encrypted connection).\n",
    "* The *host* specifies which server on the Internet we're going to talk to in order to retrieve the document we want.\n",
    "* The *path* names a resource on the server, often using slashes (`/`) to represent hierarchical relationships between resources. \n",
    "* The *query string* is a means to tell the server *how* we want the document delivered. (More examples of this soon.)\n",
    "\n",
    "Most of the work you'll do in learning how to use a web API is learning how to construct and manipulate URLs. "
   ]
  },
  {
   "cell_type": "markdown",
   "metadata": {},
   "source": [
    "### HTML, JSON, and web APIs\n",
    "\n",
    "The most common format for documents on the web is HTML (HyperText Markup Language). HTML was specifically designed to be a tool for creating web pages, and it excels at that. But it's not so great for describing structured data. \n",
    "\n",
    "Another popular format--and the format we'll be learning how to work with today--is JSON (JavaScript Object Notation). Like HTML, JSON is a format for exchanging structured data between two computer programs. Unlike HTML, JSON is primarily intended to communicate content, rather than layout.\n",
    "\n",
    "You saw that already when we accessed the reponses to the \"Yes or No\" API via our web browser just a minute ago. \n",
    "\n",
    "Roughly speaking, whenever a website exposes a URL for human readers, the document at that URL is in HTML. Whenever a website exposes a URL for programmatic use, the document at that URL is in JSON. (There are other formats commonly used for computer-readable documents, like XML. But let's keep it simple for now.) To review:\n",
    "\n",
    "Yes or No has both a human-readable version of its page found at this URL, written in HTML:\n",
    "\n",
    "> https://yesno.wtf/\n",
    "\n",
    "and a version of the same content designed to be easily readable by computers. This is the URL, and it returns a document in JSON format, as we saw:\n",
    "\n",
    "> https://yesno.wtf/api/\n",
    "\n",
    "Every website makes available a number of URLs that return human-readable documents; many websites (like Yes or No, or Twitter, or Genius, which we'll get to next class) also make available URLs that return documents intended to be read by computer programs. Often--as is the case with Facebook--these are just two views into the same data.\n",
    "\n",
    "So, another way to think about web APIs is as follows: \n",
    "\n",
    "**API: A set of URLs, and rules for manipulating URLs, that a website makes available and that are intended to be read by computer programs.** \n",
    "\n",
    "(API stands for \"application programming interface\"; a \"web API\" is an interface enables you to program applications that use the website's data.)"
   ]
  },
  {
   "cell_type": "markdown",
   "metadata": {},
   "source": [
    "### A Note about API Keys\n",
    "\n",
    "Very often, when playing around with APIs via your web browser, you will see this message (or one like it):\n",
    "\n",
    "    {\"message\": \"unauthorized\", \"type\": \"error\"}\n",
    "\n",
    "This message results from the fact that most web APIs (unlike most web pages) require some kind of *authentication*. \"Authentication\" here means some kind of information that associates the request with an individual. In many APIs, this takes the form of a \"token\" or \"key\" (also called a \"client ID\" and/or \"secret\")--most usually an extra parameter that you pass on the end of the URL (or in an HTTP header) that identifies the request as having come from a unique user. Some services (like Facebook) provide a subset of functionality to non-authenticated (\"anonymous\") requests; others require authentication for all requests.\n",
    "\n",
    "So how do you get \"keys\" or \"tokens\"? There's usually some kind of sign-up form in or near the developer documentation for the service in question. The form may ask you for a description of your application; it's usually safe to leave this blank, or to put in some placeholder text. Only rarely is this text reviewed by an actual human being; your key is usually issued automatically.\n",
    "\n",
    "Different services have different requirements regarding how to include your keys in your request; you'll have to consult the documentation to know for sure.\n",
    "\n",
    "The API we'll be using for the next exercise, Wordnik, requires a key. But we can use a pre-existing one, which you'll see below. (When we get to the exercise after that, using the Genius API, you'll need to sign up for your own.)  "
   ]
  },
  {
   "cell_type": "markdown",
   "metadata": {},
   "source": [
    "### Making API requests with `requests`\n",
    "\n",
    "All you need to make (most) web API requests is a web browser. But it would be tedious to do these requests in a web browser and then copy over the responses into Python for analysis. We may also want to make *many* requests to a web API (for example, to get the song IDs for all of the songs included in our candidate playlist), which is inconvenient to do one-by-one with a web browser. \n",
    "\n",
    "Ideally, there would be some way to make web requests *directly inside a Python program* and, in fact, we've already used it: [requests](http://docs.python-requests.org/en/master/).\n",
    "\n",
    "Here's an example of how to use `requests` to get the contents of a document intended to be read by computers. In this case, the request is for the definition of the word \"hello\":"
   ]
  },
  {
   "cell_type": "code",
   "execution_count": 3,
   "metadata": {},
   "outputs": [
    {
     "data": {
      "text/plain": [
       "[{'id': 'H5140200-1',\n",
       "  'partOfSpeech': 'interjection',\n",
       "  'attributionText': 'from The American Heritage® Dictionary of the English Language, 5th Edition.',\n",
       "  'sourceDictionary': 'ahd-5',\n",
       "  'text': 'Used to greet someone, answer the telephone, or express surprise.',\n",
       "  'sequence': '1',\n",
       "  'score': 0,\n",
       "  'labels': [],\n",
       "  'citations': [],\n",
       "  'word': 'hello',\n",
       "  'relatedWords': [],\n",
       "  'exampleUses': [],\n",
       "  'textProns': [],\n",
       "  'notes': [],\n",
       "  'attributionUrl': 'https://ahdictionary.com/',\n",
       "  'wordnikUrl': 'https://www.wordnik.com/words/hello'},\n",
       " {'id': 'H5140200-2',\n",
       "  'partOfSpeech': 'noun',\n",
       "  'attributionText': 'from The American Heritage® Dictionary of the English Language, 5th Edition.',\n",
       "  'sourceDictionary': 'ahd-5',\n",
       "  'text': 'A calling or greeting of “hello.”',\n",
       "  'sequence': '2',\n",
       "  'score': 0,\n",
       "  'labels': [],\n",
       "  'citations': [],\n",
       "  'word': 'hello',\n",
       "  'relatedWords': [],\n",
       "  'exampleUses': [],\n",
       "  'textProns': [],\n",
       "  'notes': [],\n",
       "  'attributionUrl': 'https://ahdictionary.com/',\n",
       "  'wordnikUrl': 'https://www.wordnik.com/words/hello'},\n",
       " {'id': 'H5140200-3',\n",
       "  'partOfSpeech': 'intransitive verb',\n",
       "  'attributionText': 'from The American Heritage® Dictionary of the English Language, 5th Edition.',\n",
       "  'sourceDictionary': 'ahd-5',\n",
       "  'text': 'To call “hello.”',\n",
       "  'sequence': '3',\n",
       "  'score': 0,\n",
       "  'labels': [],\n",
       "  'citations': [],\n",
       "  'word': 'hello',\n",
       "  'relatedWords': [],\n",
       "  'exampleUses': [],\n",
       "  'textProns': [],\n",
       "  'notes': [],\n",
       "  'attributionUrl': 'https://ahdictionary.com/',\n",
       "  'wordnikUrl': 'https://www.wordnik.com/words/hello'},\n",
       " {'attributionText': 'from The Century Dictionary.',\n",
       "  'sourceDictionary': 'century',\n",
       "  'text': 'An exclamation designed to attract the attention of a person at a distance; also, a mere greeting between persons meeting.',\n",
       "  'labels': [],\n",
       "  'citations': [],\n",
       "  'word': 'hello',\n",
       "  'relatedWords': [],\n",
       "  'exampleUses': [],\n",
       "  'textProns': [],\n",
       "  'notes': [],\n",
       "  'attributionUrl': 'https://www.wordnik.com/colophon#century/',\n",
       "  'wordnikUrl': 'https://www.wordnik.com/words/hello'},\n",
       " {'partOfSpeech': 'interjection',\n",
       "  'attributionText': 'from the GNU version of the Collaborative International Dictionary of English.',\n",
       "  'sourceDictionary': 'gcide',\n",
       "  'text': 'An exclamation used as a greeting, to call attention, as an exclamation of surprise, or to encourage one. This variant of <xref urlencoded=\"halloo\">halloo</xref> and <xref urlencoded=\"holloo\">holloo</xref> has become the dominant form. In the United States, it is the most common greeting used in answering a telephone.',\n",
       "  'labels': [],\n",
       "  'citations': [],\n",
       "  'word': 'hello',\n",
       "  'relatedWords': [],\n",
       "  'exampleUses': [],\n",
       "  'textProns': [],\n",
       "  'notes': [],\n",
       "  'attributionUrl': 'http://gcide.gnu.org.ua/',\n",
       "  'wordnikUrl': 'https://www.wordnik.com/words/hello'},\n",
       " {'partOfSpeech': 'interjection',\n",
       "  'attributionText': 'from Wiktionary, Creative Commons Attribution/Share-Alike License.',\n",
       "  'sourceDictionary': 'wiktionary',\n",
       "  'text': 'A <xref>greeting</xref> (<xref>salutation</xref>) said when <xref>meeting</xref> someone or <xref>acknowledging</xref> someone’s <xref>arrival</xref> or <xref>presence</xref>.',\n",
       "  'labels': [],\n",
       "  'citations': [],\n",
       "  'word': 'hello',\n",
       "  'relatedWords': [],\n",
       "  'exampleUses': [],\n",
       "  'textProns': [],\n",
       "  'notes': [],\n",
       "  'attributionUrl': 'http://creativecommons.org/licenses/by-sa/3.0/',\n",
       "  'wordnikUrl': 'https://www.wordnik.com/words/hello'},\n",
       " {'partOfSpeech': 'interjection',\n",
       "  'attributionText': 'from Wiktionary, Creative Commons Attribution/Share-Alike License.',\n",
       "  'sourceDictionary': 'wiktionary',\n",
       "  'text': 'A greeting used when <xref>answering</xref> the <xref>telephone</xref>.',\n",
       "  'labels': [],\n",
       "  'citations': [],\n",
       "  'word': 'hello',\n",
       "  'relatedWords': [],\n",
       "  'exampleUses': [],\n",
       "  'textProns': [],\n",
       "  'notes': [],\n",
       "  'attributionUrl': 'http://creativecommons.org/licenses/by-sa/3.0/',\n",
       "  'wordnikUrl': 'https://www.wordnik.com/words/hello'},\n",
       " {'partOfSpeech': 'interjection',\n",
       "  'attributionText': 'from Wiktionary, Creative Commons Attribution/Share-Alike License.',\n",
       "  'sourceDictionary': 'wiktionary',\n",
       "  'text': 'A call for <xref>response</xref> if it is not clear if anyone is present or listening, or if a telephone conversation may have been <xref>disconnected</xref>.',\n",
       "  'labels': [],\n",
       "  'citations': [],\n",
       "  'word': 'hello',\n",
       "  'relatedWords': [],\n",
       "  'exampleUses': [],\n",
       "  'textProns': [],\n",
       "  'notes': [],\n",
       "  'attributionUrl': 'http://creativecommons.org/licenses/by-sa/3.0/',\n",
       "  'wordnikUrl': 'https://www.wordnik.com/words/hello'},\n",
       " {'partOfSpeech': 'interjection',\n",
       "  'attributionText': 'from Wiktionary, Creative Commons Attribution/Share-Alike License.',\n",
       "  'sourceDictionary': 'wiktionary',\n",
       "  'text': 'Used <xref>sarcastically</xref> to imply that the person addressed or referred to has done something the speaker or writer considers to be <xref>foolish</xref>.',\n",
       "  'labels': [{'text': 'colloquial', 'type': 'register'}],\n",
       "  'citations': [],\n",
       "  'word': 'hello',\n",
       "  'relatedWords': [],\n",
       "  'exampleUses': [],\n",
       "  'textProns': [],\n",
       "  'notes': [],\n",
       "  'attributionUrl': 'http://creativecommons.org/licenses/by-sa/3.0/',\n",
       "  'wordnikUrl': 'https://www.wordnik.com/words/hello'},\n",
       " {'partOfSpeech': 'interjection',\n",
       "  'attributionText': 'from Wiktionary, Creative Commons Attribution/Share-Alike License.',\n",
       "  'sourceDictionary': 'wiktionary',\n",
       "  'text': 'An expression of <xref>puzzlement</xref> or <xref>discovery</xref>.',\n",
       "  'labels': [],\n",
       "  'citations': [],\n",
       "  'word': 'hello',\n",
       "  'relatedWords': [],\n",
       "  'exampleUses': [],\n",
       "  'textProns': [],\n",
       "  'notes': [],\n",
       "  'attributionUrl': 'http://creativecommons.org/licenses/by-sa/3.0/',\n",
       "  'wordnikUrl': 'https://www.wordnik.com/words/hello'},\n",
       " {'partOfSpeech': 'noun',\n",
       "  'attributionText': 'from Wiktionary, Creative Commons Attribution/Share-Alike License.',\n",
       "  'sourceDictionary': 'wiktionary',\n",
       "  'text': '\"<xref>Hello</xref>!\" or an equivalent greeting.',\n",
       "  'labels': [],\n",
       "  'citations': [],\n",
       "  'word': 'hello',\n",
       "  'relatedWords': [],\n",
       "  'exampleUses': [],\n",
       "  'textProns': [],\n",
       "  'notes': [],\n",
       "  'attributionUrl': 'http://creativecommons.org/licenses/by-sa/3.0/',\n",
       "  'wordnikUrl': 'https://www.wordnik.com/words/hello'},\n",
       " {'partOfSpeech': 'noun',\n",
       "  'attributionText': 'from WordNet 3.0 Copyright 2006 by Princeton University. All rights reserved.',\n",
       "  'sourceDictionary': 'wordnet',\n",
       "  'text': 'an expression of greeting',\n",
       "  'labels': [],\n",
       "  'citations': [],\n",
       "  'word': 'hello',\n",
       "  'relatedWords': [],\n",
       "  'exampleUses': [],\n",
       "  'textProns': [],\n",
       "  'notes': [],\n",
       "  'attributionUrl': 'https://wordnet.princeton.edu/',\n",
       "  'wordnikUrl': 'https://www.wordnik.com/words/hello'}]"
      ]
     },
     "execution_count": 3,
     "metadata": {},
     "output_type": "execute_result"
    }
   ],
   "source": [
    "import requests\n",
    "\n",
    "api_key = \"a80a5131f7620c32a8919063dce09d01b6239543e3d0063bf\"\n",
    "url = \"http://api.wordnik.com:80/v4/word.json/hello/definitions?api_key=\" + api_key\n",
    "response = requests.get(url)\n",
    "data = response.json()\n",
    "data"
   ]
  },
  {
   "cell_type": "markdown",
   "metadata": {},
   "source": [
    "Oh hey wow look at all the deets it gives us about \"hello\"--that's pretty rad! We'll break down *how* exactly to know what the URL for a particular resource is a bit later (and how to add the API to the request). But for now, let's just note a few key features.\n",
    "\n",
    "As with the Yes or No example above, the following lines are most important:\n",
    "\n",
    "    response = requests.get(url)\n",
    "    data = response.json()\n",
    "\n",
    "The first line calls the `get()` function in the `requests` package, with one parameter, the URL that you want to fetch (which we previously stored in a variable called `url`). When this function gets called, the `requests` library makes a network request to the specified URL and retrieves its contents, returning a special kind of value called a \"response,\" which contains information about the response generated by the remote server, along with the content of that response. \n",
    "\n",
    "Note that this is the exact same line that we used to request the contents of the NYT page when we were web scraping. \n",
    "\n",
    "The next line is different. With the NYT page, we turned the response into text with the line\n",
    "\n",
    "    html_str = response.text\n",
    "\n",
    "Here, we are using the `.json()` method, which takes data in the response in JSON format (if present) and converts it to the corresponding Python data structure. (Note that [response objects have many other methods and attributes as well](http://docs.python-requests.org/en/master/api/#requests.Response), but the one we're most interested in right now is `.json()`). \n",
    "\n",
    "If you're familiar looking at Python code, you might observe that the json object is just a list of dictionaries. That's why it starts with a `'['` up above and then seems to have sets of curly braces (`{ ... }`). \n",
    "\n",
    "This is helpful to know, since we can use standard ways of iterating through and accessing lists and dictionaries. For example, we can use a `for` loop to print out the text of each definition of \"hello.\":"
   ]
  },
  {
   "cell_type": "code",
   "execution_count": 4,
   "metadata": {},
   "outputs": [
    {
     "name": "stdout",
     "output_type": "stream",
     "text": [
      "Used to greet someone, answer the telephone, or express surprise.\n",
      "A calling or greeting of “hello.”\n",
      "To call “hello.”\n",
      "An exclamation designed to attract the attention of a person at a distance; also, a mere greeting between persons meeting.\n",
      "An exclamation used as a greeting, to call attention, as an exclamation of surprise, or to encourage one. This variant of <xref urlencoded=\"halloo\">halloo</xref> and <xref urlencoded=\"holloo\">holloo</xref> has become the dominant form. In the United States, it is the most common greeting used in answering a telephone.\n",
      "A <xref>greeting</xref> (<xref>salutation</xref>) said when <xref>meeting</xref> someone or <xref>acknowledging</xref> someone’s <xref>arrival</xref> or <xref>presence</xref>.\n",
      "A greeting used when <xref>answering</xref> the <xref>telephone</xref>.\n",
      "A call for <xref>response</xref> if it is not clear if anyone is present or listening, or if a telephone conversation may have been <xref>disconnected</xref>.\n",
      "Used <xref>sarcastically</xref> to imply that the person addressed or referred to has done something the speaker or writer considers to be <xref>foolish</xref>.\n",
      "An expression of <xref>puzzlement</xref> or <xref>discovery</xref>.\n",
      "\"<xref>Hello</xref>!\" or an equivalent greeting.\n",
      "an expression of greeting\n"
     ]
    }
   ],
   "source": [
    "for item in data:\n",
    "    print(item['text'])"
   ]
  },
  {
   "cell_type": "markdown",
   "metadata": {},
   "source": [
    "The combination of JSON, dictionaries, and for-loops is the magic stew that will allow us to automate the gathering of text from web APIs, making it often the most convenient method for developing a corpus for performing data science with text."
   ]
  },
  {
   "cell_type": "markdown",
   "metadata": {},
   "source": [
    "Believe it or not, you now know (almost) everything you need to get started with APIs.\n",
    "\n",
    "Hurray!"
   ]
  }
 ],
 "metadata": {
  "kernelspec": {
   "display_name": "Python 3",
   "language": "python",
   "name": "python3"
  },
  "language_info": {
   "codemirror_mode": {
    "name": "ipython",
    "version": 3
   },
   "file_extension": ".py",
   "mimetype": "text/x-python",
   "name": "python",
   "nbconvert_exporter": "python",
   "pygments_lexer": "ipython3",
   "version": "3.7.4"
  }
 },
 "nbformat": 4,
 "nbformat_minor": 1
}
