{
 "cells": [
  {
   "cell_type": "markdown",
   "metadata": {},
   "source": [
    "## Fun with the Genius API\n",
    "\n",
    "_Lauren F. Klein wrote version 1.0 of this notebook. I have supplemented it with material from Melanie Walsh's chapter [Song Genius API](https://melaniewalsh.github.io/Intro-Cultural-Analytics/features/Data-Collection/Genius-API.html) from her online textbook [_Introduction to Cultural Analytics & Python_](https://melaniewalsh.github.io/Intro-Cultural-Analytics/features/welcome.html)._\n",
    "\n",
    "Many web sites and organizations offer web APIs. We're going to go over how one API in particular works---the [Genius API](https://docs.genius.com/). By introducing you to this one API, you'll learn the tools necessary to sign up for, query, and interpret APIs from other providers.\n",
    "\n",
    "### Signing up for an API Key (aka Client Access Token)\n",
    "\n",
    "Before you can use the Genius API, you need to sign up for a \"client access token,\" which is another name for an API key. Do so by filling out the [New API Client form](https://genius.com/api-clients/new). If you don't yet have an account on Genius.com, you'll be prompted to register first. \n",
    "\n",
    "The next questions don't really apply to our use in class, but they're required to get your token. You'll be prompted to fill out a short form about the \"App\" that you need the Genius API for. You only need to fill out \"App Name\" and \"App Website URL.\" You can enter any words you want in \"App Name.\" Similarly, you can enter any URL in the \"App Website URL.\"\n",
    "\n",
    "When you click \"Save,\" you'll be given a series of API keys: a \"Client ID\" and a \"Client Secret.\" To generate your \"Client Access Token,\" which is the API key that we'll be using in this notebook, you need to click \"Generate Access Token\".\n",
    "\n",
    "The token is just a string of letters and numbers. It'll look something like this:\n",
    "\n",
    "    6617c28c371f0a138f7912a35365564afe538605\n",
    "    \n",
    "That's your \"key\" for that API. Whenever you make a request to that API, you'll need to include your key in the request. The exact method for including the key will be explained below. (Note: the key above is just something I made up; it's not a valid key; don't try using it in actual requests.)"
   ]
  },
  {
   "cell_type": "code",
   "execution_count": null,
   "metadata": {},
   "outputs": [],
   "source": [
    "# sign up for a client access token from Genius"
   ]
  },
  {
   "cell_type": "markdown",
   "metadata": {},
   "source": [
    "copy and paste your \"Client Access Token\" into the quotation marks below, and run the cell to save your variable"
   ]
  },
  {
   "cell_type": "code",
   "execution_count": null,
   "metadata": {},
   "outputs": [],
   "source": [
    "client_access_token = \"YOUR TOKEN HERE\""
   ]
  },
  {
   "cell_type": "markdown",
   "metadata": {},
   "source": [
    "### Making an API Request\n",
    "\n",
    "Remember: making an API request looks a lot like typing a specially-formatted URL. That's kind of what it is. But instead of getting a rendered HTML web page in return, you get some data in return.\n",
    "\n",
    "There are a few different ways that we can query the Genius API, all of which are discussed in the [Genius API documentation](https://docs.genius.com/#/getting-started-h1). (In general, an API's documentation will explain how to use the API.) The way we're going to cover in this lesson is the [basic search](https://docs.genius.com/#songs-h2), which allows you to get a bunch of Genius data about any artist or songs that you search for, and it looks something like this:\n",
    "\n",
    "http://api.genius.com/search?q={search_term}&access_token={client_access_token}\n",
    "\n",
    "Let's break it down. But first, we need to: "
   ]
  },
  {
   "cell_type": "code",
   "execution_count": null,
   "metadata": {},
   "outputs": [],
   "source": [
    "import requests # requests again"
   ]
  },
  {
   "cell_type": "markdown",
   "metadata": {},
   "source": [
    "Okay. We have the URL for the Genius API. We'll call this:"
   ]
  },
  {
   "cell_type": "code",
   "execution_count": null,
   "metadata": {},
   "outputs": [],
   "source": [
    "base_url = \"http://api.genius.com\" # this is the URL for the Genius API"
   ]
  },
  {
   "cell_type": "markdown",
   "metadata": {},
   "source": [
    "Up next, we add '/search', which tells the Genius API that we want to do a basic search. We'll add it to the end of the base_url, like so:"
   ]
  },
  {
   "cell_type": "code",
   "execution_count": null,
   "metadata": {},
   "outputs": [],
   "source": [
    "search_url = base_url + \"/search\" # remember, this is how you format the URL for a search, as described above"
   ]
  },
  {
   "cell_type": "markdown",
   "metadata": {},
   "source": [
    "Next, we have '?q={search term}'. The q is Genius's search paramater; it tells Genius that what follows is what we're searching _for_. Let's search for the first song in our candidate playlist: Aretha Franklin's \"Respect.\""
   ]
  },
  {
   "cell_type": "code",
   "execution_count": null,
   "metadata": {},
   "outputs": [],
   "source": [
    "search_term = \"Respect\" # Remember you have to put quotation marks around the term"
   ]
  },
  {
   "cell_type": "markdown",
   "metadata": {},
   "source": [
    "Finally, we have '&access_token={client_access_token}'. You've already defined this term above with your own token!\n",
    "\n",
    "We can put it all back together now:"
   ]
  },
  {
   "cell_type": "code",
   "execution_count": null,
   "metadata": {},
   "outputs": [],
   "source": [
    "genius_search_url = f'http://api.genius.com/search?q={search_term}&access_token={client_access_token}'"
   ]
  },
  {
   "cell_type": "markdown",
   "metadata": {},
   "source": [
    "But wait? What's that 'f' doing in front of the URL? See how '{search term}' and '{client_access_token}' are in black font unlike the rest of the URL? That's because of the f, which designates the string that follows as a [formatted string literal or f-string](https://cito.github.io/blog/f-strings/). It means that {search_term} will be replaced by our search_term, in this case \"Respect\", and {client_access_token} will be replaced by our client_access_token."
   ]
  },
  {
   "cell_type": "code",
   "execution_count": null,
   "metadata": {},
   "outputs": [],
   "source": [
    "# and here's the API call\n",
    "resp = requests.get(genius_search_url)\n",
    "data = resp.json()"
   ]
  },
  {
   "cell_type": "markdown",
   "metadata": {},
   "source": [
    "This request is finding all songs that include the search string `Respect`. As described in the [documentation](https://docs.genius.com/#/response-format-h1), the results take the form of a dictionary with two keys: `response` (which points to a dictionary of a list of dictionaries; phew!) and `meta`, whose value is a string (`'status'`), which gives you the HTML status code for the response (i.e. whether the request was successful). \n",
    "\n",
    "The JSON data that we get from our API query looks something like this:"
   ]
  },
  {
   "cell_type": "code",
   "execution_count": null,
   "metadata": {},
   "outputs": [],
   "source": [
    "data"
   ]
  },
  {
   "cell_type": "markdown",
   "metadata": {},
   "source": [
    "Remember, JSON data takes the form of a dictionary, so we can look isolate the keys to get a view of the top level:"
   ]
  },
  {
   "cell_type": "code",
   "execution_count": null,
   "metadata": {},
   "outputs": [],
   "source": [
    "data.keys()"
   ]
  },
  {
   "cell_type": "markdown",
   "metadata": {},
   "source": [
    "We have just two keys 'meta' and 'response'. \n",
    "\n",
    "From the output, we know that the response was successful. So we can ignore whatever is associated with the `meta` key. But let's dig a little deeper into the `response` key. It itself is a dictionary, so we can look at _its_ keys."
   ]
  },
  {
   "cell_type": "code",
   "execution_count": null,
   "metadata": {},
   "outputs": [],
   "source": [
    "data['response'].keys()"
   ]
  },
  {
   "cell_type": "markdown",
   "metadata": {},
   "source": [
    "So there is only one key, `hits`, which I will tell you contains a _further_ list of dictionaries: one for each of the hits in the search result.\n",
    "\n",
    "Let's take a look at the first result:"
   ]
  },
  {
   "cell_type": "code",
   "execution_count": null,
   "metadata": {},
   "outputs": [],
   "source": [
    "data['response']['hits'][0]"
   ]
  },
  {
   "cell_type": "markdown",
   "metadata": {},
   "source": [
    "We can tell that this data describes the song \"Respect My Cryppin'\" and contains other information about the song, such as its number of Genius annotations, its number of web page views, and links to images of its album cover.\n",
    "\n",
    "So this is what we want: the value, which is a dictionary, for each of the search results. But this value itself contains further nested data: the first three entries are 'highlights', 'index', and 'type'. We want the `result` dictionary. \n",
    "\n",
    "Important items in this dictionary are the song title itself (`title`), the URL for the song lyrics (`url`), and the `primary artist` key, which points to *another* dictionary with the name of the artist (`name`). \n",
    "\n",
    "The artist name could be used with a different API endpoint to get more detail about a particular artist. But this information is enough for our purposes today."
   ]
  },
  {
   "cell_type": "markdown",
   "metadata": {},
   "source": [
    "To get a sense of what we're looking at, let's get the full song title for each search hit:"
   ]
  },
  {
   "cell_type": "code",
   "execution_count": null,
   "metadata": {},
   "outputs": [],
   "source": [
    "# Remember list comprehension format: [ predicate expression FOR temporary variable name IN source list ]\n",
    "\n",
    "[song['result']['title'] for song in data['response']['hits']]"
   ]
  },
  {
   "cell_type": "markdown",
   "metadata": {},
   "source": [
    "We can also get the song title AND its page views (this time, for fun, using a for loop):"
   ]
  },
  {
   "cell_type": "code",
   "execution_count": null,
   "metadata": {},
   "outputs": [],
   "source": [
    "for song in data['response']['hits']:\n",
    "    print(song['result']['title'], song['result']['stats']['pageviews'])"
   ]
  },
  {
   "cell_type": "markdown",
   "metadata": {},
   "source": [
    "**Exercise:** Using the syntax above, list the URLs for the lyrics of each of these songs"
   ]
  },
  {
   "cell_type": "code",
   "execution_count": null,
   "metadata": {},
   "outputs": [],
   "source": []
  },
  {
   "cell_type": "markdown",
   "metadata": {},
   "source": [
    "**Exercise:** Adapting the syntax above, list the name of the artist for each of these songs.\n",
    "    \n",
    "Hint: Remember that `name` is contained with the dictionary `primary artist`"
   ]
  },
  {
   "cell_type": "code",
   "execution_count": null,
   "metadata": {},
   "outputs": [],
   "source": []
  },
  {
   "cell_type": "markdown",
   "metadata": {},
   "source": [
    "### Working with responses\n",
    "\n",
    "Now we have a response from the API, and we've parsed it into a Python data structure that we know how to use (a dictionary). But now what do we do with it?\n",
    "\n",
    "Let's find the URL for the lyrics for Aretha Franklin's \"Respect\"\n",
    "\n",
    "Remember that we've already got search_term stored from way back up at the top: it's what we searched for:"
   ]
  },
  {
   "cell_type": "code",
   "execution_count": null,
   "metadata": {},
   "outputs": [],
   "source": [
    "search_term"
   ]
  },
  {
   "cell_type": "code",
   "execution_count": null,
   "metadata": {},
   "outputs": [],
   "source": [
    "artist=\"Aretha Franklin\" # you should already be thinking: how can I hook this up with the NYT article data...\n",
    "lyrics_url = []"
   ]
  },
  {
   "cell_type": "code",
   "execution_count": null,
   "metadata": {},
   "outputs": [],
   "source": [
    "for song in data['response']['hits']:\n",
    "    if song['result']['primary_artist']['name'] == artist:\n",
    "        lyrics_url = (song['result']['url'])\n",
    "print(lyrics_url)"
   ]
  },
  {
   "cell_type": "markdown",
   "metadata": {},
   "source": [
    "We've got our URL!"
   ]
  }
 ],
 "metadata": {
  "kernelspec": {
   "display_name": "Python 3",
   "language": "python",
   "name": "python3"
  },
  "language_info": {
   "codemirror_mode": {
    "name": "ipython",
    "version": 3
   },
   "file_extension": ".py",
   "mimetype": "text/x-python",
   "name": "python",
   "nbconvert_exporter": "python",
   "pygments_lexer": "ipython3",
   "version": "3.7.4"
  }
 },
 "nbformat": 4,
 "nbformat_minor": 1
}
