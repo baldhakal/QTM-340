{
 "cells": [
  {
   "cell_type": "markdown",
   "metadata": {},
   "source": [
    "## Cleaning Your Song Lyrics with Regex (and more Beautiful Soup)\n",
    "\n",
    "_Lauren F. Klein wrote version 1.0 of this notebook._\n",
    "\n",
    "As part of the homework due today, you did something like this:"
   ]
  },
  {
   "cell_type": "code",
   "execution_count": null,
   "metadata": {},
   "outputs": [],
   "source": [
    "# get the text of some song lyrics\n",
    "import requests \n",
    "\n",
    "resp = requests.get(\"https://genius.com/Aretha-franklin-respect-lyrics\") \n",
    "html_str = resp.text"
   ]
  },
  {
   "cell_type": "markdown",
   "metadata": {},
   "source": [
    "## Import BeautifulSoup"
   ]
  },
  {
   "cell_type": "code",
   "execution_count": null,
   "metadata": {},
   "outputs": [],
   "source": [
    "# use BeautifulSoup to find the lyrics tag on the page\n",
    "\n",
    "from bs4 import BeautifulSoup\n",
    "document = BeautifulSoup(html_str, \"html.parser\")\n",
    "lyrics = document.find(\"p\").text"
   ]
  },
  {
   "cell_type": "markdown",
   "metadata": {},
   "source": [
    "And you ended up with something that looked like this:"
   ]
  },
  {
   "cell_type": "code",
   "execution_count": null,
   "metadata": {},
   "outputs": [],
   "source": [
    "lyrics"
   ]
  },
  {
   "cell_type": "markdown",
   "metadata": {},
   "source": [
    "This is pretty good. But It's still not perfect.\n",
    "\n",
    "What are some problems with this text?"
   ]
  },
  {
   "cell_type": "markdown",
   "metadata": {},
   "source": [
    "ANSWER HERE"
   ]
  },
  {
   "cell_type": "markdown",
   "metadata": {},
   "source": [
    "This is where regex comes in handy.\n",
    "\n",
    "Let's remove the info between brackets.\n",
    "\n",
    "**Which of the functions that we've discussed in class today should we use to remove it?**"
   ]
  },
  {
   "cell_type": "markdown",
   "metadata": {},
   "source": [
    "* ANSWER HERE\n",
    "* *\n",
    "* *\n",
    "* *\n",
    "* *\n",
    "* *\n",
    "* *\n",
    "* *\n",
    "* *\n",
    "* *\n",
    "* *\n",
    "* *\n",
    "* *\n",
    "* *\n",
    "* *\n",
    "* *\n",
    "* *\n",
    "* *\n",
    "* *\n",
    "* *\n",
    "* *\n",
    "* *\n",
    "* *\n",
    "* *\n",
    "* *\n",
    "* *\n",
    "* *\n",
    "* *\n",
    "* *\n",
    "* *\n",
    "* *\n",
    "* *\n",
    "* *\n",
    "* *\n",
    "* *\n",
    "* *\n",
    "* *\n",
    "* *\n",
    "* *"
   ]
  },
  {
   "cell_type": "markdown",
   "metadata": {},
   "source": [
    "Right! `sub`\n",
    "\n",
    "Remember that re.sub takes the format:\n",
    "\n",
    "`newstring = re.sub(pattern, replacement, original_string)`\n",
    "\n",
    "When we want to get rid of something without replacing it, we use `\"\"` as the replacement string.\n",
    "\n",
    "So, in our case, we can do something like:\n",
    "\n",
    "`cleaner_lyrics = re.sub(pattern, \"\", lyrics)`\n",
    "\n",
    "**But what goes in the pattern?**"
   ]
  },
  {
   "cell_type": "markdown",
   "metadata": {},
   "source": [
    "**Exercise: How can we use regex to remove the brackets and the info betwen them?**\n",
    "\n",
    "Hints:\n",
    "* In order to look for a `[`, you need to escape it like this `\\[`\n",
    "* A `.` represents any character\n",
    "* A `*` after a character matches zero or more instances"
   ]
  },
  {
   "cell_type": "code",
   "execution_count": null,
   "metadata": {},
   "outputs": [],
   "source": [
    "cleaner_lyrics = re.sub(\"PATTERN HERE\", \"\", lyrics)\n",
    "\n",
    "cleaner_lyrics"
   ]
  },
  {
   "cell_type": "code",
   "execution_count": null,
   "metadata": {},
   "outputs": [],
   "source": []
  },
  {
   "cell_type": "code",
   "execution_count": null,
   "metadata": {},
   "outputs": [],
   "source": []
  },
  {
   "cell_type": "code",
   "execution_count": null,
   "metadata": {},
   "outputs": [],
   "source": []
  },
  {
   "cell_type": "markdown",
   "metadata": {},
   "source": [
    "Now there are three extra newlines at the beginning.\n",
    "\n",
    "**How can we remove these?**\n",
    "\n",
    "Hints: \n",
    "* `\\n` is the same in regex\n",
    "* `^` before square brackets matches the start of a string\n",
    "* `{}` with a number inside indicates the number of chars to match"
   ]
  },
  {
   "cell_type": "code",
   "execution_count": null,
   "metadata": {},
   "outputs": [],
   "source": [
    "cleanest_lyrics = re.sub(\"PATTERN HERE\",\"\", cleaner_lyrics)"
   ]
  },
  {
   "cell_type": "code",
   "execution_count": null,
   "metadata": {},
   "outputs": [],
   "source": [
    "cleanest_lyrics"
   ]
  },
  {
   "cell_type": "markdown",
   "metadata": {},
   "source": [
    "And with that, we're done! \n",
    "\n",
    "Now, one last thing: we need to save our clean lyrics to a file:"
   ]
  },
  {
   "cell_type": "code",
   "execution_count": null,
   "metadata": {},
   "outputs": [],
   "source": [
    "# this is how you save to a file in python\n",
    "\n",
    "with open(\"lyrics.txt\", \"w\") as file:\n",
    "    file.writelines(cleanest_lyrics)"
   ]
  },
  {
   "cell_type": "markdown",
   "metadata": {},
   "source": [
    "We did it!"
   ]
  }
 ],
 "metadata": {
  "kernelspec": {
   "display_name": "Python 3",
   "language": "python",
   "name": "python3"
  },
  "language_info": {
   "codemirror_mode": {
    "name": "ipython",
    "version": 3
   },
   "file_extension": ".py",
   "mimetype": "text/x-python",
   "name": "python",
   "nbconvert_exporter": "python",
   "pygments_lexer": "ipython3",
   "version": "3.7.4"
  }
 },
 "nbformat": 4,
 "nbformat_minor": 2
}
