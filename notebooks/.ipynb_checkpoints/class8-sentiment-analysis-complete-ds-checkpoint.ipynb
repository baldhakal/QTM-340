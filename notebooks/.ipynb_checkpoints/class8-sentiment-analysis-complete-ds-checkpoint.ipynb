{
 "cells": [
  {
   "cell_type": "markdown",
   "metadata": {},
   "source": [
    "## Getting started with NLP and Sentiment Analysis ##\n",
    "\n",
    "*Lauren F. Klein wrote version 1.0 of this notebook, based off [Sentiment Analysis for Exploratory Data Analysis](https://programminghistorian.org/en/lessons/sentiment-analysis) by Zöe Wilkinson Saldaña with additional info by [Parul Pandey](https://medium.com/analytics-vidhya/simplifying-social-media-sentiment-analysis-using-vader-in-python-f9e6ec6fc52f).*\n",
    "\n",
    "Thus far, we have learned to access APIs, scrape, parse, and clean text. We're ready for NLP.\n",
    "\n",
    "But what's NLP?\n",
    "\n",
    "Natural Language Processing (NLP) names a broad range of techniques that involve applying computational analytical methods to text. (\"Natural language\" in this context just means human language as opposed to a programming language, like Python). In this unit, we'll explore many popular NLP techniques, beginning with sentiment analysis. \n",
    "\n",
    "Sentiment analysis is a method of quantifying the \"sentiment,\" or emotional intensity, of words and phrases in a text. Some sentiment analysis tools, including the one we'll be working with today, also factor in the emotional weight of other features of language, such as punctuation marks or emojis. In general, sentiment analysis processes a unit of text (a sentence, a paragraph, a book, an email, a song, a tweet) and outputs scores or other classifications that indicate whether that unit of text conveys a positive or negative sentiment (according to the particular algorithm and dictionary employed). Some tools go as far as to quantify the *degree* of positivity or degree of negativity within a text. \n",
    "\n",
    "How might this be helpful? A researcher interested in attitudes toward a political event, for example, might use sentiment analysis to characterize how people describe that event on Twitter. Combined with geographic data, sentiment analysis can be used to make comparisons across regions. Combined with demographic data, sentiment analysis can be used to understand how different groups of people view any particular event (or issue, or individual). Sentiment analysis can be easily scaled up, which makes it possible to analyze hundreds of thousands or even millions of speech events.\n",
    "\n",
    "Like any computational tool, sentiment analysis has limitations that must be taken into account. We'll explore some of those in our readings and Canvas discussion. But when wielding sentiment analysis critically *and* creatively, it can lead to interesting results."
   ]
  },
  {
   "cell_type": "markdown",
   "metadata": {},
   "source": [
    "### NLTK and VADER ###\n",
    "\n",
    "You will be using a few tools from Python's [NLTK](https://www.nltk.org/) (short for Natural Language Toolkit) to generate sentiment scores for the corpus that we created in Unit 1: the lyrics of the candidate playlists that we scraped from Genius.com. After completing today's other Jupyter notebook, you should have those lyrics in a directory on your computer.\n",
    "\n",
    "NLTK is a collection of libraries and tools that help researchers apply computational methods to texts. It's been in development since 2001--almost as old as you (or older)!--and it's used widely in the field of NLP. The tools included in NLTK range from methods of breaking up text into smaller pieces, to identifying whether a word belongs in a given language, to providing sample corpora (that's the plural of corpus) that researchers can use for training and development purposes. We'll be using NLTK a lot in the coming weeks. As with the previous unit, I'll introduce you to its features as we require them for our specific goals.   \n",
    "\n",
    "Today, we will be using one NLTK tool: [VADER](https://github.com/cjhutto/vaderSentiment) (short for Valence Aware Dictionary and sEntiment Reasoner), which generates positive, negative, and neutral sentiment scores for textual input.\n",
    "\n",
    "VADER has a lot of advantages over traditional methods of sentiment analysis, including:\n",
    "* It works well on social media text, yet readily generalizes to multiple domains;\n",
    "* It doesn’t require training data but is constructed from a generalizable, valence-based, human-curated gold standard sentiment lexicon;\n",
    "* It is fast enough to be used online with streaming data, and;\n",
    "* It does not severely suffer from a speed-performance tradeoff.\n",
    "\n",
    "The source of the above is an easy-to-read paper published by the creaters of VADER library, one of whom use to work at Georgia Tech. You can read it [here](http://comp.social.gatech.edu/papers/icwsm14.vader.hutto.pdf)."
   ]
  },
  {
   "cell_type": "markdown",
   "metadata": {},
   "source": [
    "### Sentiment Lexicons, Sentiment Intensity, and Context-Awareness ###\n",
    "\n",
    "Traditionally, sentiment analysis worked by comparing text to a list of lexical features (i.e. words) that were determined by people to be either positive or negative. These are known as *sentiment lexicons.* (It's possible to create lexicons for other types of language as well; we'll talk about this more in Unit 3, when we discuss modeling.) \n",
    "\n",
    "More recently, tools have improved upon the positive/negative binary by offering more fine-tuned distinctions between varying degrees of positivity and negativity. This is known as *sentiment intensity*, and VADER does this well. For example, VADER scores “comfort” as moderately positive and “euphoria” as extremely positive. \n",
    "\n",
    "VADER also attempts to capture and score textual features common in informal online text such as capitalizations, exclamation points, and emoticons, as shown in the table below:\n",
    "\n",
    "![VADER table](https://programminghistorian.org/images/sentiment-analysis/sentiment-analysis1.png)"
   ]
  },
  {
   "cell_type": "markdown",
   "metadata": {},
   "source": [
    "### Caveat Emptor! ###\n",
    "\n",
    "Like any text analysis tool, VADER should be evaluated critically and in the context of the assumptions it makes about communication. VADER was developed to analyze English language microblogging and social media sites (especially Twitter). This context is more informal than, for instance, political speeches; and more contemporary than, for instance, Shakespeare. But VADER was also developed as a general purpose sentiment analyzer, and the authors’ initial study shows it compares favorably against tools that have been trained for specific domains, use specialized lexicons, or resource-heavy machine learning techniques. That said, sentiment analysis continues to struggle to capture complex sentiments like irony, sarcasm, and mockery, when the average reader would be able to make the distinction between the literal text and its intended meaning.\n",
    "\n",
    "A few more caveats: while VADER is a good general purpose tool for English language texts, VADER only provides partial native support for non-English texts (it detects emojis/capitalization/etc., but not word choice). The developers encourage users to use automatic translation to pre-process non-English texts and then input the results into VADER. There might be better tools for non-English langauge texts. \n",
    "\n",
    "### Some examples of hard-to-classify sentences ###\n",
    "\n",
    "“The premise of the film was great, but it could have been better.”\n",
    "“The best I can say about the movie is that it was interesting.”\n",
    "\n",
    "* What words would you identify as being associated with either positive or negative sentiment?\n",
    "    * positive: great, better, best, interesting; negative: \n",
    "* Would you say that these sentence have a positive or negative seniment? \n",
    "    * negative\n",
    "* What are some reasons that these sentence might be tricky for a sentiment analysis tool?\n",
    "    * sentiment analysis that uses weighted dictionaries only registers individual words and misses their context, which might negate the positivity of words in isolation, as in these examples"
   ]
  },
  {
   "cell_type": "markdown",
   "metadata": {},
   "source": [
    "### Enough Talk, Time for Action! ###\n",
    "\n",
    "To use VADER, we need to import the nltk library and download and install the VADER lexicon. You do it like this:"
   ]
  },
  {
   "cell_type": "code",
   "execution_count": 1,
   "metadata": {},
   "outputs": [
    {
     "name": "stderr",
     "output_type": "stream",
     "text": [
      "[nltk_data] Downloading package vader_lexicon to\n",
      "[nltk_data]     /Users/dsinyki/nltk_data...\n",
      "[nltk_data]   Package vader_lexicon is already up-to-date!\n"
     ]
    },
    {
     "data": {
      "text/plain": [
       "True"
      ]
     },
     "execution_count": 1,
     "metadata": {},
     "output_type": "execute_result"
    }
   ],
   "source": [
    "import nltk\n",
    "nltk.download('vader_lexicon')\n",
    "# nltk.download('punkt') # took this out of today's lesson "
   ]
  },
  {
   "cell_type": "markdown",
   "metadata": {},
   "source": [
    "In order to get a sense of what VADER can do, let’s calculate the sentiment scores for one of the songs we scraped from Genius.com.\n",
    "\n",
    "The main component of VADER is its SentimentIntensityAnalyzer, so let's import that too:"
   ]
  },
  {
   "cell_type": "code",
   "execution_count": 2,
   "metadata": {},
   "outputs": [],
   "source": [
    "from nltk.sentiment.vader import SentimentIntensityAnalyzer"
   ]
  },
  {
   "cell_type": "markdown",
   "metadata": {},
   "source": [
    "(You can ignore the warning, if you get it, about not having twython installed). \n",
    "\n",
    "Technically, SentimentIntensityAnalyzer is a class, which we will use to build our own sentiment analyzer object.\n",
    "\n",
    "To do so, we call SentimentIntensityAnalyzer() and assign the output - our brand-new sentiment analyzer - to a variable, which we will name ‘sid’."
   ]
  },
  {
   "cell_type": "code",
   "execution_count": 3,
   "metadata": {},
   "outputs": [],
   "source": [
    "sid = SentimentIntensityAnalyzer()"
   ]
  },
  {
   "cell_type": "markdown",
   "metadata": {},
   "source": [
    "By doing this we have given \"sid\" all of the features of the VADER sentiment analysis object. It has become our sentiment analysis tool, but by a shorter name.\n",
    "\n",
    "Now, let's open up one of the lyrics files we created. **Be sure that you have a folder titled 'lyrics' in the same folder with this notebook on your computer.**"
   ]
  },
  {
   "cell_type": "code",
   "execution_count": 4,
   "metadata": {},
   "outputs": [
    {
     "data": {
      "text/plain": [
       "\"\\nWhat you want, baby, I got it\\nWhat you need, do you know I got it?\\n\\nAll I'm askin' is for a little respect when you come home\\n(Just a little bit) Hey baby\\n(Just a little bit) when you get home\\n(Just a little bit) mister\\n(Just a little bit)\\n\\nI ain't gonna do you wrong while you're gone\\nAin't gon' do you wrong 'cause I don't wanna\\n\\nAll I'm askin' is for a little respect when you come home\\n(Just a little bit) Baby\\n(Just a little bit) When you get home\\n(Just a little bit) Yeah\\n(Just a little bit)\\n\\nI'm about to give you all of my money\\nAnd all I'm askin' in return, honey\\nIs to give me my propers when you get home\\n\\n(Just a, just a, just a, just a) Yeah, baby\\n(Just a, just a, just a, just a) When you get home\\n(Just a little bit) Yeah\\n(Just a little bit)\\n\\nOoh, your kisses, sweeter than honey\\nAnd guess what? So is my money\\n\\nAll I want you to do for me, is give it to me when you get home\\n(Re, re, re ,re) Yeah baby\\n(Re, re, re ,re) Whip it to me\\n(Respect, just a little bit) When you get home, now\\n(Just a little bit)\\n\\nR-E-S-P-E-C-T, find out what it means to me\\nR-E-S-P-E-C-T, take care, TCB, oh\\n\\n(Sock it to me, sock it to me, sock it to me, sock it to me)\\nA little respect\\n(sock it to me, sock it to me, sock it to me, sock it to me)\\nWhoa, babe\\n(Just a little bit) A little respect\\n(Just a little bit) I get tired\\n(Just a little bit) Keep on tryin'\\n(Just a little bit) You're runnin' out of fools\\n(Just a little bit) And I ain't lyin'\\n(Just a little bit)\\n(Re, re, re, re) Start when you come home\\n(Re, re, re, respect) Or you might walk in\\n(Just a little bit) And find out I'm gone\\n(Just a little bit) I gotta have\\n(Just a little bit) A little respect\\n(Just a little bit)\""
      ]
     },
     "execution_count": 4,
     "metadata": {},
     "output_type": "execute_result"
    }
   ],
   "source": [
    "with open(\"./lyrics/Aretha-franklin-respect.txt\", \"r\") as file:\n",
    "    lyrics = file.read()\n",
    "\n",
    "# and just to be sure, print out what we've loaded in:\n",
    "lyrics"
   ]
  },
  {
   "cell_type": "markdown",
   "metadata": {},
   "source": [
    "We want what is called the ‘polarity score,’ which is either positive or negative. \n",
    "\n",
    "Calling the polarity_scores method on sid with our lyrics (or any string) outputs a dictionary with negative, neutral, positive, and compound scores for the input text. Let's do a test with some recent political slogans:"
   ]
  },
  {
   "cell_type": "code",
   "execution_count": 5,
   "metadata": {},
   "outputs": [
    {
     "name": "stdout",
     "output_type": "stream",
     "text": [
      "compound: 0.6249, neg: 0.0, neu: 0.423, pos: 0.577, "
     ]
    }
   ],
   "source": [
    "scores = sid.polarity_scores(\"Make America Great Again\")\n",
    "\n",
    "for key in sorted(scores):\n",
    "    print('{0}: {1}, '.format(key, scores[key]), end='')"
   ]
  },
  {
   "cell_type": "code",
   "execution_count": 6,
   "metadata": {},
   "outputs": [
    {
     "name": "stdout",
     "output_type": "stream",
     "text": [
      "compound: 0.3818, neg: 0.0, neu: 0.278, pos: 0.722, "
     ]
    }
   ],
   "source": [
    "scores = sid.polarity_scores(\"Stronger Together\")\n",
    "\n",
    "for key in sorted(scores):\n",
    "    print('{0}: {1}, '.format(key, scores[key]), end='')"
   ]
  },
  {
   "cell_type": "code",
   "execution_count": 7,
   "metadata": {},
   "outputs": [
    {
     "name": "stdout",
     "output_type": "stream",
     "text": [
      "compound: 0.4404, neg: 0.0, neu: 0.408, pos: 0.592, "
     ]
    }
   ],
   "source": [
    "scores = sid.polarity_scores(\"Hope and Change\")\n",
    "\n",
    "for key in sorted(scores):\n",
    "    print('{0}: {1}, '.format(key, scores[key]), end='')"
   ]
  },
  {
   "cell_type": "markdown",
   "metadata": {},
   "source": [
    "And now, the lyrics of \"Respect\""
   ]
  },
  {
   "cell_type": "code",
   "execution_count": 8,
   "metadata": {},
   "outputs": [
    {
     "name": "stdout",
     "output_type": "stream",
     "text": [
      "compound: 0.9342, neg: 0.035, neu: 0.875, pos: 0.09, "
     ]
    }
   ],
   "source": [
    "scores = sid.polarity_scores(lyrics)\n",
    "\n",
    "for key in sorted(scores):\n",
    "    print('{0}: {1}, '.format(key, scores[key]), end='')"
   ]
  },
  {
   "cell_type": "markdown",
   "metadata": {},
   "source": [
    "Amazing! We just performed our first text analysis! \n",
    "\n",
    "But how do we analyze the analysis?\n",
    "\n",
    "VADER collects and scores negative, neutral, and positive words and features (and accounts for factors like negation along the way). The “neg”, “neu”, and “pos” values describe the fraction of weighted scores that fall into each category. In this case, VADER determined our song lyrics to consist of 3.5% negative words/features, 87.5% neutral words/features, and 9% positive words/features. \n",
    "\n",
    "VADER also sums all weighted scores to calculate a compound value normalized between -1 and 1; this value attempts to describe the overall sentiment of the entire chunk of text from strongly negative (-1) to strongly positive (1). In this case, the VADER analysis describes the song as strongly positive (.9342). We can think of this value as estimating the overall impression of an average listener when considering the song as a whole.\n",
    "\n",
    "This [post](https://medium.com/analytics-vidhya/simplifying-social-media-sentiment-analysis-using-vader-in-python-f9e6ec6fc52f) has a bit more about how VADER calculates its scores.  \n",
    "\n",
    "Let's [listen to the song](https://www.youtube.com/watch?v=6FOUqQt3Kg0) and see if we agree. \n",
    "\n",
    "### A Quick Note on Thresholds ###\n",
    "\n",
    "It can be helpful to set a minimum threshold for positivity or negativity so that you can classify a text either positive or negative. The official VADER documentation suggests a threshold of -0.5 and 0.5, meaning to be counted negative it should be below -0.5 and as positive above 0.5. \"Respect\" easily meets this threshold."
   ]
  },
  {
   "cell_type": "markdown",
   "metadata": {},
   "source": [
    "To get a sense of how \"Respect\" compares to another song, let's try \"Dis Generation\" by A Tribe Called Quest."
   ]
  },
  {
   "cell_type": "code",
   "execution_count": 11,
   "metadata": {},
   "outputs": [
    {
     "data": {
      "text/plain": [
       "\"Handle rocks with the capital G, ball on the beat\\nStatus, Chris Paul and John Wall in the league\\nGrabbin' mics till the knuckles would bleed\\n('Cause I believe\\nThe potent that I'm quoting will have you geeked like speed)\\nIf rationale is naturale or a weave\\nIt's all edges and peas\\nSettin' press, we on a permanent steeze\\nI'm in a world where my princess is Leia\\nAnd she's feeling my Vader\\nAnd my lure grows greater and greater\\nChem trails, droppin' poisonous vapors\\nHave you shaking like Gator\\nBeen trill, nigga, process the data\\nBlu-ray, wave file, or a Beta, I'll DVR it for later\\nKappo Masa with a G to my waiter\\nYou can't define us, XY us, or Z us\\nYou generational elitists\\nHave your chi in virtual think pieces\\n(See, these written words are poetical science\\nBrain's defiant, thoughts heavy, baby\\nThey're a major appliance)Leave a dent when drop with the flyness, fluent giant\\nDude's nice, he tight, screwed in with some pliers\\nCool with some buyers\\nYeah, nigga, cool with some growers\\n(Never no tattletales, only I don't knowers)\\nWe a show me generation, show us what you gon' show us\\nSo listen, mami, see we could collude with a boing\\nMouthpiece like Goines, with a jubilant noise\\nDudes rude and as useless as coins, shoot 'em boys\\nVersed in, rehearsed in the soothing of loins\\nTalk to Joey, Earl, Kendrick, and Cole, gatekeepers of flow\\nThey are extensions of instinctual soulIt's the highest in commodity grade\\nAnd you could get it today\\n\\nDis generation, dis generation, dis generation\\nDis generation, dis generation, dis generation\\nRules di nation\\n\\nOne hitting reading pages of Poe\\nTelly is low, cuddle bunny ready to go\\nDay of the dead\\nBury all the zombies instead\\nAnd it's just your aftermath, Busta cuttin' your dreads\\nBruce Leein' niggas, while you niggas UFC\\nSmoke tree on niggas, sizzle out your USB\\n(Surge pricing on these Ubers, I'mma get me a cab)\\nYo, where Jarobi at?\\nImbibing on impeccable grass\\nI be in NYC waiting for that law to pass\\n(Pass shit, been waiting for a Jet's title since last\\nRichard Todd, Todd Bowles, gang green on that ass)\\nMagic Mike on the mic, David Blaine, Douglass Henning\\nIn the church of Busta Rhymes, it's my sermon you're getting\\nHorizontal spittin', I'm the exorcist of your writtens\\nDon't interrupt me, nigga, sorry, that's a sin unforgivenLike how we be skipping on beats like cooking crack in the kitchen\\nB-b-b-b-b-b-but wait\\nJust spit the package, dry it, bag up the wet\\nThis mad city's not a game, easy, quiet on set, Phife\\n(Student of the past trailblazing a daze\\nNot acknowledging a trend or swept up in a phase\\nWe still the highest of commodity grade\\nAnd you could get it, get it, get it, get it today)\\n\\nDis generation, dis generation, dis generation\\nDis generation, dis generation, dis generation\\nRules di nation\\n\\nThis is our generation, generation, uh huh, yeah\\nThis our generation, generation, uh huh\\nThis our generation, generation, uh huh\""
      ]
     },
     "execution_count": 11,
     "metadata": {},
     "output_type": "execute_result"
    }
   ],
   "source": [
    "with open(\"./lyrics/A-tribe-called-quest-dis-generation.txt\", \"r\") as file:\n",
    "    lyrics2 = file.read()\n",
    "    \n",
    "# and just to be sure, print out what we've loaded in:\n",
    "lyrics2"
   ]
  },
  {
   "cell_type": "code",
   "execution_count": 10,
   "metadata": {},
   "outputs": [
    {
     "name": "stdout",
     "output_type": "stream",
     "text": [
      "compound: -0.94, neg: 0.1, neu: 0.828, pos: 0.072, "
     ]
    }
   ],
   "source": [
    "scores2 = sid.polarity_scores(lyrics2)\n",
    "\n",
    "for key in sorted(scores2):\n",
    "    print('{0}: {1}, '.format(key, scores2[key]), end='')"
   ]
  },
  {
   "cell_type": "markdown",
   "metadata": {},
   "source": [
    "Wow! VADER sees \"Dis Generation\" as very negative. Listen for yourself [here](https://www.youtube.com/watch?v=kQaSDJYwdh4). Do you agree?"
   ]
  },
  {
   "cell_type": "markdown",
   "metadata": {},
   "source": [
    "It's a complex song that identifies negative aspects of contemporary life but also celebrates aspects of the young generation. Do call it very negative would seem to miss the point."
   ]
  },
  {
   "cell_type": "markdown",
   "metadata": {},
   "source": [
    "### Determining Appropriate Scope ###"
   ]
  },
  {
   "cell_type": "markdown",
   "metadata": {},
   "source": [
    "There isn't much calibration, or pre-processing, required of sentiment analysis. But there is one important aspect of calibration to consider when employing sentiment analysis: the unit of the text being analyzed.\n",
    "\n",
    "In the case of song lyrics, for example, we might want to analyze the entire song as a single unit, or we might want to analyze each line. \n",
    "\n",
    "* What are some research questions for which you might want to look at the entire song as a whole?\n",
    "* What are some research questions for which you might want to look at each line at a time?"
   ]
  },
  {
   "cell_type": "markdown",
   "metadata": {},
   "source": [
    "These questions require answers tailored to each student individually"
   ]
  },
  {
   "cell_type": "markdown",
   "metadata": {},
   "source": [
    "Let's redo our sentiment analysis so that we look at each line of the song individually."
   ]
  },
  {
   "cell_type": "code",
   "execution_count": 12,
   "metadata": {},
   "outputs": [
    {
     "name": "stdout",
     "output_type": "stream",
     "text": [
      "['', 'What you want, baby, I got it', 'What you need, do you know I got it?', '', \"All I'm askin' is for a little respect when you come home\", '(Just a little bit) Hey baby', '(Just a little bit) when you get home', '(Just a little bit) mister', '(Just a little bit)', '', \"I ain't gonna do you wrong while you're gone\", \"Ain't gon' do you wrong 'cause I don't wanna\", '', \"All I'm askin' is for a little respect when you come home\", '(Just a little bit) Baby', '(Just a little bit) When you get home', '(Just a little bit) Yeah', '(Just a little bit)', '', \"I'm about to give you all of my money\", \"And all I'm askin' in return, honey\", 'Is to give me my propers when you get home', '', '(Just a, just a, just a, just a) Yeah, baby', '(Just a, just a, just a, just a) When you get home', '(Just a little bit) Yeah', '(Just a little bit)', '', 'Ooh, your kisses, sweeter than honey', 'And guess what? So is my money', '', 'All I want you to do for me, is give it to me when you get home', '(Re, re, re ,re) Yeah baby', '(Re, re, re ,re) Whip it to me', '(Respect, just a little bit) When you get home, now', '(Just a little bit)', '', 'R-E-S-P-E-C-T, find out what it means to me', 'R-E-S-P-E-C-T, take care, TCB, oh', '', '(Sock it to me, sock it to me, sock it to me, sock it to me)', 'A little respect', '(sock it to me, sock it to me, sock it to me, sock it to me)', 'Whoa, babe', '(Just a little bit) A little respect', '(Just a little bit) I get tired', \"(Just a little bit) Keep on tryin'\", \"(Just a little bit) You're runnin' out of fools\", \"(Just a little bit) And I ain't lyin'\", '(Just a little bit)', '(Re, re, re, re) Start when you come home', '(Re, re, re, respect) Or you might walk in', \"(Just a little bit) And find out I'm gone\", '(Just a little bit) I gotta have', '(Just a little bit) A little respect', '(Just a little bit)']\n"
     ]
    }
   ],
   "source": [
    "# re-intialize VADER\n",
    "sid = SentimentIntensityAnalyzer()\n",
    "\n",
    "# then split our song lyrics into lines broken up by newlines \n",
    "lines = lyrics.split('\\n') # note handy built-in python string function! \n",
    "\n",
    "# let's take a look\n",
    "print(lines)"
   ]
  },
  {
   "cell_type": "code",
   "execution_count": 13,
   "metadata": {},
   "outputs": [
    {
     "name": "stdout",
     "output_type": "stream",
     "text": [
      "\n",
      "neg: 0.0, neu: 0.0, pos: 0.0, compound: 0.0, \n",
      "What you want, baby, I got it\n",
      "neg: 0.0, neu: 0.794, pos: 0.206, compound: 0.0772, \n",
      "What you need, do you know I got it?\n",
      "neg: 0.0, neu: 1.0, pos: 0.0, compound: 0.0, \n",
      "\n",
      "neg: 0.0, neu: 0.0, pos: 0.0, compound: 0.0, \n",
      "All I'm askin' is for a little respect when you come home\n",
      "neg: 0.0, neu: 0.781, pos: 0.219, compound: 0.4228, \n",
      "(Just a little bit) Hey baby\n",
      "neg: 0.0, neu: 1.0, pos: 0.0, compound: 0.0, \n",
      "(Just a little bit) when you get home\n",
      "neg: 0.0, neu: 1.0, pos: 0.0, compound: 0.0, \n",
      "(Just a little bit) mister\n",
      "neg: 0.0, neu: 1.0, pos: 0.0, compound: 0.0, \n",
      "(Just a little bit)\n",
      "neg: 0.0, neu: 1.0, pos: 0.0, compound: 0.0, \n",
      "\n",
      "neg: 0.0, neu: 0.0, pos: 0.0, compound: 0.0, \n",
      "I ain't gonna do you wrong while you're gone\n",
      "neg: 0.307, neu: 0.693, pos: 0.0, compound: -0.4767, \n",
      "Ain't gon' do you wrong 'cause I don't wanna\n",
      "neg: 0.307, neu: 0.693, pos: 0.0, compound: -0.4767, \n",
      "\n",
      "neg: 0.0, neu: 0.0, pos: 0.0, compound: 0.0, \n",
      "All I'm askin' is for a little respect when you come home\n",
      "neg: 0.0, neu: 0.781, pos: 0.219, compound: 0.4228, \n",
      "(Just a little bit) Baby\n",
      "neg: 0.0, neu: 1.0, pos: 0.0, compound: 0.0, \n",
      "(Just a little bit) When you get home\n",
      "neg: 0.0, neu: 1.0, pos: 0.0, compound: 0.0, \n",
      "(Just a little bit) Yeah\n",
      "neg: 0.0, neu: 0.61, pos: 0.39, compound: 0.2315, \n",
      "(Just a little bit)\n",
      "neg: 0.0, neu: 1.0, pos: 0.0, compound: 0.0, \n",
      "\n",
      "neg: 0.0, neu: 0.0, pos: 0.0, compound: 0.0, \n",
      "I'm about to give you all of my money\n",
      "neg: 0.0, neu: 1.0, pos: 0.0, compound: 0.0, \n",
      "And all I'm askin' in return, honey\n",
      "neg: 0.0, neu: 1.0, pos: 0.0, compound: 0.0, \n",
      "Is to give me my propers when you get home\n",
      "neg: 0.0, neu: 1.0, pos: 0.0, compound: 0.0, \n",
      "\n",
      "neg: 0.0, neu: 0.0, pos: 0.0, compound: 0.0, \n",
      "(Just a, just a, just a, just a) Yeah, baby\n",
      "neg: 0.0, neu: 0.804, pos: 0.196, compound: 0.296, \n",
      "(Just a, just a, just a, just a) When you get home\n",
      "neg: 0.0, neu: 1.0, pos: 0.0, compound: 0.0, \n",
      "(Just a little bit) Yeah\n",
      "neg: 0.0, neu: 0.61, pos: 0.39, compound: 0.2315, \n",
      "(Just a little bit)\n",
      "neg: 0.0, neu: 1.0, pos: 0.0, compound: 0.0, \n",
      "\n",
      "neg: 0.0, neu: 0.0, pos: 0.0, compound: 0.0, \n",
      "Ooh, your kisses, sweeter than honey\n",
      "neg: 0.0, neu: 0.602, pos: 0.398, compound: 0.5106, \n",
      "And guess what? So is my money\n",
      "neg: 0.0, neu: 1.0, pos: 0.0, compound: 0.0, \n",
      "\n",
      "neg: 0.0, neu: 0.0, pos: 0.0, compound: 0.0, \n",
      "All I want you to do for me, is give it to me when you get home\n",
      "neg: 0.0, neu: 0.92, pos: 0.08, compound: 0.0772, \n",
      "(Re, re, re ,re) Yeah baby\n",
      "neg: 0.0, neu: 0.694, pos: 0.306, compound: 0.296, \n",
      "(Re, re, re ,re) Whip it to me\n",
      "neg: 0.0, neu: 1.0, pos: 0.0, compound: 0.0, \n",
      "(Respect, just a little bit) When you get home, now\n",
      "neg: 0.0, neu: 1.0, pos: 0.0, compound: 0.0, \n",
      "(Just a little bit)\n",
      "neg: 0.0, neu: 1.0, pos: 0.0, compound: 0.0, \n",
      "\n",
      "neg: 0.0, neu: 0.0, pos: 0.0, compound: 0.0, \n",
      "R-E-S-P-E-C-T, find out what it means to me\n",
      "neg: 0.0, neu: 1.0, pos: 0.0, compound: 0.0, \n",
      "R-E-S-P-E-C-T, take care, TCB, oh\n",
      "neg: 0.0, neu: 0.556, pos: 0.444, compound: 0.4939, \n",
      "\n",
      "neg: 0.0, neu: 0.0, pos: 0.0, compound: 0.0, \n",
      "(Sock it to me, sock it to me, sock it to me, sock it to me)\n",
      "neg: 0.0, neu: 1.0, pos: 0.0, compound: 0.0, \n",
      "A little respect\n",
      "neg: 0.0, neu: 0.263, pos: 0.737, compound: 0.4228, \n",
      "(sock it to me, sock it to me, sock it to me, sock it to me)\n",
      "neg: 0.0, neu: 1.0, pos: 0.0, compound: 0.0, \n",
      "Whoa, babe\n",
      "neg: 0.0, neu: 1.0, pos: 0.0, compound: 0.0, \n",
      "(Just a little bit) A little respect\n",
      "neg: 0.0, neu: 0.611, pos: 0.389, compound: 0.3702, \n",
      "(Just a little bit) I get tired\n",
      "neg: 0.397, neu: 0.603, pos: 0.0, compound: -0.3892, \n",
      "(Just a little bit) Keep on tryin'\n",
      "neg: 0.0, neu: 1.0, pos: 0.0, compound: 0.0, \n",
      "(Just a little bit) You're runnin' out of fools\n",
      "neg: 0.314, neu: 0.686, pos: 0.0, compound: -0.4939, \n",
      "(Just a little bit) And I ain't lyin'\n",
      "neg: 0.0, neu: 1.0, pos: 0.0, compound: 0.0, \n",
      "(Just a little bit)\n",
      "neg: 0.0, neu: 1.0, pos: 0.0, compound: 0.0, \n",
      "(Re, re, re, re) Start when you come home\n",
      "neg: 0.0, neu: 1.0, pos: 0.0, compound: 0.0, \n",
      "(Re, re, re, respect) Or you might walk in\n",
      "neg: 0.0, neu: 1.0, pos: 0.0, compound: 0.0, \n",
      "(Just a little bit) And find out I'm gone\n",
      "neg: 0.0, neu: 1.0, pos: 0.0, compound: 0.0, \n",
      "(Just a little bit) I gotta have\n",
      "neg: 0.0, neu: 1.0, pos: 0.0, compound: 0.0, \n",
      "(Just a little bit) A little respect\n",
      "neg: 0.0, neu: 0.611, pos: 0.389, compound: 0.3702, \n",
      "(Just a little bit)\n",
      "neg: 0.0, neu: 1.0, pos: 0.0, compound: 0.0, \n"
     ]
    }
   ],
   "source": [
    "# We add the additional step of iterating through the list of lines and \n",
    "# calculating and printing polarity scores for each one.\n",
    "\n",
    "for line in lines:\n",
    "    print(line)\n",
    "    scores = sid.polarity_scores(line)\n",
    "    for key in scores:\n",
    "        print('{0}: {1}, '.format(key, scores[key]), end='')\n",
    "    print()"
   ]
  },
  {
   "cell_type": "markdown",
   "metadata": {},
   "source": [
    "Here you’ll note a much more detailed picture of the sentiment in the song. \n",
    "\n",
    "* What seems interesting?\n",
    "* Did you notice any errors?\n",
    "* What are some research questions we could ask of our song lyrics corpus with sentiment analysis?"
   ]
  },
  {
   "cell_type": "markdown",
   "metadata": {},
   "source": [
    "These questions require answers tailored to each student individually"
   ]
  }
 ],
 "metadata": {
  "kernelspec": {
   "display_name": "Python 3",
   "language": "python",
   "name": "python3"
  },
  "language_info": {
   "codemirror_mode": {
    "name": "ipython",
    "version": 3
   },
   "file_extension": ".py",
   "mimetype": "text/x-python",
   "name": "python",
   "nbconvert_exporter": "python",
   "pygments_lexer": "ipython3",
   "version": "3.7.4"
  }
 },
 "nbformat": 4,
 "nbformat_minor": 2
}
