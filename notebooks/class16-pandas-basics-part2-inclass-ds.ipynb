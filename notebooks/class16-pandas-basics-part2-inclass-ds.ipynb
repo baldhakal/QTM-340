{
 "cells": [
  {
   "cell_type": "markdown",
   "metadata": {},
   "source": [
    "# Pandas Basics — Part 2"
   ]
  },
  {
   "cell_type": "markdown",
   "metadata": {},
   "source": [
    "_I adapted this notebook from Melanie Walsh's [Pandas Basics — Part 2](https://melaniewalsh.github.io/Intro-Cultural-Analytics/features/Data-Analysis/Pandas-Basics-Part2.html), which is from her online textbook [Introduction to Cultural Analytics & Python](https://melaniewalsh.github.io/Intro-Cultural-Analytics/features/welcome.html)_"
   ]
  },
  {
   "cell_type": "markdown",
   "metadata": {},
   "source": [
    "In this lesson, we're going to introduce some more fundamentals of [pandas](https://pandas.pydata.org/pandas-docs/stable/getting_started/overview.html), a powerful Python library for working with tabular data like CSV files.\n",
    "\n",
    "We will review skills learned from the last lesson and introduce how to:\n",
    "\n",
    "* Broadly examine data\n",
    "* Work with missing data\n",
    "* Rename, drop, and add new columns\n",
    "* Perform mathematical calculations\n",
    "* Aggregate subsets of data\n",
    "* Make a simple time series"
   ]
  },
  {
   "cell_type": "markdown",
   "metadata": {},
   "source": [
    "## Dataset\n",
    "### The Trans-Atlantic Slave Trade Database"
   ]
  },
  {
   "cell_type": "markdown",
   "metadata": {},
   "source": [
    "```{epigraph}\n",
    "[D]isplaying data alone could not and did not offer the atonement descendants of slaves\n",
    "sought or capture the inhumanity of this archive’s formation.\n",
    "```\n",
    "-- Jessica Marie Johnson, <a href=\"https://read.dukeupress.edu/social-text/article/36/4%20(137)/57/137032/Markup-BodiesBlack-Life-Studies-and-Slavery-Death\">“Markup Bodies”</a>"
   ]
  },
  {
   "cell_type": "markdown",
   "metadata": {},
   "source": [
    "The dataset that we're going to be working with in this lesson is taken from [The Trans-Atlantic Slave Trade Database](https://www.slavevoyages.org/voyage/database), part of the [*Slave Voyages* project](https://www.slavevoyages.org/). The larger database includes information about 35,000 slave-trading voyages from 1514-1866. The dataset we're working with here was filtered to include the 13,000 voyages that landed in the Americas. The data was filtered to also include the percentage of enslaved men, women, and children on the voyages."
   ]
  },
  {
   "cell_type": "markdown",
   "metadata": {},
   "source": [
    "We're working with this data for a number of reasons. The *Slave Voyages* project is a major data-driven contribution to the history of slavery and to the field of the digital humanities. Before the Trans-Atlantic Slave Trade Database, as DH scholar Jessica Johnson [writes,](https://read.dukeupress.edu/social-text/article-abstract/36/4%20(137)/57/137032/Markup-BodiesBlack-Life-Studies-and-Slavery-Death?redirectedFrom=fulltext) \"historians assumed enslaved women and children played a negligible role in the slave trade.\" But evidence from the Trans-Atlantic Slave Trade Database suggested otherwise. \"The existence of the Trans-Atlantic Slave Trade Database immediately reshaped debates about numbers of women and children exported from the continent,\" Johnson says, \"influencing work on women in the slave trade on the African coast, slavery in African societies, and women in the slave trade to the Americas.\"\n",
    "\n",
    "Though the Trans-Atlantic Slave Trade Database helped shed new light on the roles of enslaved women and children, Johnson makes clear that it was not computation or data alone that shed this light: \n",
    "> [D]isplaying data alone could not and did not offer the atonement descendants of slaves sought or capture the inhumanity of this archive’s formation. Culling the lives of women and children from the data set required approaching the data with intention. It required a methodology attuned to black life and to dismantling the methods used to create the manifests in the first place, then designing and launching an interface responsive to the desire of descendants of slaves for reparation and redress.\n",
    "\n",
    "In this spirit, we want to think about how responsible data analysis requires more than just data and technical tools like pandas. It requires approaching data with intention and developing methodologies geared toward justice. This is especially necessary when dealing with data that records and perpetrates violence like the Trans-Atlantic Slave Trade Database."
   ]
  },
  {
   "cell_type": "markdown",
   "metadata": {},
   "source": [
    "## Import Pandas"
   ]
  },
  {
   "cell_type": "markdown",
   "metadata": {},
   "source": [
    "To use the Pandas library, we first need to `import` it."
   ]
  },
  {
   "cell_type": "code",
   "execution_count": 1,
   "metadata": {},
   "outputs": [],
   "source": [
    "import pandas as pd"
   ]
  },
  {
   "cell_type": "markdown",
   "metadata": {},
   "source": [
    "The above `import` statement not only imports the pandas library but also gives it an alias or nickname — `pd`. This alias will save us from having to type out the entire words `pandas` each time we need to use it. Many Python libraries have commonly used aliases like `pd`."
   ]
  },
  {
   "cell_type": "markdown",
   "metadata": {},
   "source": [
    "## Set Display Settings"
   ]
  },
  {
   "cell_type": "markdown",
   "metadata": {},
   "source": [
    "By default, pandas will display 60 rows and 20 columns. I often change [Pandas' default display settings](https://pandas.pydata.org/pandas-docs/stable/user_guide/options.html) to show more rows or columns."
   ]
  },
  {
   "cell_type": "code",
   "execution_count": 2,
   "metadata": {},
   "outputs": [],
   "source": [
    "pd.options.display.max_rows = 100"
   ]
  },
  {
   "cell_type": "markdown",
   "metadata": {},
   "source": [
    "## Read in CSV File"
   ]
  },
  {
   "cell_type": "markdown",
   "metadata": {},
   "source": [
    "To read in a CSV file, we will use the function `pd.read_csv()` and insert the name of our desired file path. "
   ]
  },
  {
   "cell_type": "code",
   "execution_count": 4,
   "metadata": {},
   "outputs": [],
   "source": [
    "slave_voyages_df = pd.read_csv('../docs/Trans-Atlantic-Slave-Trade_Americas.csv', delimiter=\",\", encoding='utf-8')"
   ]
  },
  {
   "cell_type": "markdown",
   "metadata": {},
   "source": [
    "This creates a pandas [DataFrame object](https://pandas.pydata.org/pandas-docs/stable/user_guide/dsintro.html#DataFrame) — often abbreviated as *df*, e.g., *slave_voyages_df*. A DataFrame looks and acts a lot like a spreadsheet. But it has special powers and functions that we will discuss in the next few lessons."
   ]
  },
  {
   "cell_type": "markdown",
   "metadata": {},
   "source": [
    "When reading in the CSV file, we also specified the `encoding` and `delimiter`. The `delimiter` specifies the character that separates or \"delimits\" the columns in our dataset. For CSV files, the delimiter will most often be a comma. (CSV is short for *Comma Separated Values*.) Sometimes, however, the delimiter of a CSV file might be a tab (`/t`) or, more rarely, another character."
   ]
  },
  {
   "cell_type": "markdown",
   "metadata": {},
   "source": [
    "## Display Data"
   ]
  },
  {
   "cell_type": "markdown",
   "metadata": {},
   "source": [
    "We can display a DataFrame in a Jupyter notebook simply by running a cell with the variable name of the DataFrame."
   ]
  },
  {
   "cell_type": "markdown",
   "metadata": {},
   "source": [
    "`NaN` is the Pandas value for any missing data. See [\"Working with missing data\"](https://pandas.pydata.org/pandas-docs/stable/user_guide/missing_data.html?highlight=nan) for more information"
   ]
  },
  {
   "cell_type": "code",
   "execution_count": 5,
   "metadata": {},
   "outputs": [
    {
     "data": {
      "text/html": [
       "<div>\n",
       "<style scoped>\n",
       "    .dataframe tbody tr th:only-of-type {\n",
       "        vertical-align: middle;\n",
       "    }\n",
       "\n",
       "    .dataframe tbody tr th {\n",
       "        vertical-align: top;\n",
       "    }\n",
       "\n",
       "    .dataframe thead th {\n",
       "        text-align: right;\n",
       "    }\n",
       "</style>\n",
       "<table border=\"1\" class=\"dataframe\">\n",
       "  <thead>\n",
       "    <tr style=\"text-align: right;\">\n",
       "      <th></th>\n",
       "      <th>Voyage ID</th>\n",
       "      <th>Vessel name</th>\n",
       "      <th>Voyage itinerary imputed port where began (ptdepimp) place</th>\n",
       "      <th>Voyage itinerary imputed principal place of slave purchase (mjbyptimp)</th>\n",
       "      <th>Voyage itinerary imputed principal port of slave disembarkation (mjslptimp) place</th>\n",
       "      <th>Year of arrival at port of disembarkation</th>\n",
       "      <th>Slaves arrived at 1st port</th>\n",
       "      <th>Percent men</th>\n",
       "      <th>Percent women</th>\n",
       "      <th>Percent children</th>\n",
       "      <th>Captain's name</th>\n",
       "    </tr>\n",
       "  </thead>\n",
       "  <tbody>\n",
       "    <tr>\n",
       "      <td>0</td>\n",
       "      <td>1</td>\n",
       "      <td>Pastora de Lima</td>\n",
       "      <td>Rio de Janeiro</td>\n",
       "      <td>Mozambique</td>\n",
       "      <td>Bahia, port unspecified</td>\n",
       "      <td>1817</td>\n",
       "      <td>290.0</td>\n",
       "      <td>NaN</td>\n",
       "      <td>NaN</td>\n",
       "      <td>NaN</td>\n",
       "      <td>Dias, Manoel José</td>\n",
       "    </tr>\n",
       "    <tr>\n",
       "      <td>1</td>\n",
       "      <td>2</td>\n",
       "      <td>Tibério</td>\n",
       "      <td>Bahia, port unspecified</td>\n",
       "      <td>Mozambique</td>\n",
       "      <td>Bahia, port unspecified</td>\n",
       "      <td>1817</td>\n",
       "      <td>223.0</td>\n",
       "      <td>NaN</td>\n",
       "      <td>NaN</td>\n",
       "      <td>NaN</td>\n",
       "      <td>Mata, José Maria da</td>\n",
       "    </tr>\n",
       "    <tr>\n",
       "      <td>2</td>\n",
       "      <td>3</td>\n",
       "      <td>Paquete Real</td>\n",
       "      <td>Bahia, port unspecified</td>\n",
       "      <td>Cabinda</td>\n",
       "      <td>Bahia, port unspecified</td>\n",
       "      <td>1817</td>\n",
       "      <td>350.0</td>\n",
       "      <td>NaN</td>\n",
       "      <td>NaN</td>\n",
       "      <td>NaN</td>\n",
       "      <td>Ferreira, José dos Santos</td>\n",
       "    </tr>\n",
       "    <tr>\n",
       "      <td>3</td>\n",
       "      <td>4</td>\n",
       "      <td>Bom Caminho</td>\n",
       "      <td>Bahia, port unspecified</td>\n",
       "      <td>Quilimane</td>\n",
       "      <td>Bahia, port unspecified</td>\n",
       "      <td>1817</td>\n",
       "      <td>342.0</td>\n",
       "      <td>NaN</td>\n",
       "      <td>NaN</td>\n",
       "      <td>NaN</td>\n",
       "      <td>Dias, Domingos Francisco</td>\n",
       "    </tr>\n",
       "    <tr>\n",
       "      <td>4</td>\n",
       "      <td>5</td>\n",
       "      <td>Benigretta</td>\n",
       "      <td>Bahia, port unspecified</td>\n",
       "      <td>Cabinda</td>\n",
       "      <td>Bahia, port unspecified</td>\n",
       "      <td>1817</td>\n",
       "      <td>516.0</td>\n",
       "      <td>NaN</td>\n",
       "      <td>NaN</td>\n",
       "      <td>NaN</td>\n",
       "      <td>NaN</td>\n",
       "    </tr>\n",
       "    <tr>\n",
       "      <td>...</td>\n",
       "      <td>...</td>\n",
       "      <td>...</td>\n",
       "      <td>...</td>\n",
       "      <td>...</td>\n",
       "      <td>...</td>\n",
       "      <td>...</td>\n",
       "      <td>...</td>\n",
       "      <td>...</td>\n",
       "      <td>...</td>\n",
       "      <td>...</td>\n",
       "      <td>...</td>\n",
       "    </tr>\n",
       "    <tr>\n",
       "      <td>13357</td>\n",
       "      <td>900232</td>\n",
       "      <td>Tourville</td>\n",
       "      <td>Rio de Janeiro</td>\n",
       "      <td>West Central Africa and St. Helena, port unspe...</td>\n",
       "      <td>Rio de Janeiro</td>\n",
       "      <td>1848</td>\n",
       "      <td>NaN</td>\n",
       "      <td>NaN</td>\n",
       "      <td>NaN</td>\n",
       "      <td>NaN</td>\n",
       "      <td>Alex</td>\n",
       "    </tr>\n",
       "    <tr>\n",
       "      <td>13358</td>\n",
       "      <td>900233</td>\n",
       "      <td>General Rêgo</td>\n",
       "      <td>Southeast Brazil, port unspecified</td>\n",
       "      <td>Benguela</td>\n",
       "      <td>Rio de Janeiro</td>\n",
       "      <td>1849</td>\n",
       "      <td>NaN</td>\n",
       "      <td>NaN</td>\n",
       "      <td>NaN</td>\n",
       "      <td>NaN</td>\n",
       "      <td>NaN</td>\n",
       "    </tr>\n",
       "    <tr>\n",
       "      <td>13359</td>\n",
       "      <td>900234</td>\n",
       "      <td>Duas Clementinas</td>\n",
       "      <td>Rio de Janeiro</td>\n",
       "      <td>Benguela</td>\n",
       "      <td>Rio de Janeiro</td>\n",
       "      <td>1850</td>\n",
       "      <td>NaN</td>\n",
       "      <td>NaN</td>\n",
       "      <td>NaN</td>\n",
       "      <td>NaN</td>\n",
       "      <td>NaN</td>\n",
       "    </tr>\n",
       "    <tr>\n",
       "      <td>13360</td>\n",
       "      <td>900236</td>\n",
       "      <td>Rio Tâmega</td>\n",
       "      <td>Southeast Brazil, port unspecified</td>\n",
       "      <td>Benguela</td>\n",
       "      <td>Rio de Janeiro</td>\n",
       "      <td>1851</td>\n",
       "      <td>NaN</td>\n",
       "      <td>NaN</td>\n",
       "      <td>NaN</td>\n",
       "      <td>NaN</td>\n",
       "      <td>NaN</td>\n",
       "    </tr>\n",
       "    <tr>\n",
       "      <td>13361</td>\n",
       "      <td>900237</td>\n",
       "      <td>Rosa</td>\n",
       "      <td>Rio de Janeiro</td>\n",
       "      <td>Benguela</td>\n",
       "      <td>Rio de Janeiro</td>\n",
       "      <td>1851</td>\n",
       "      <td>NaN</td>\n",
       "      <td>NaN</td>\n",
       "      <td>NaN</td>\n",
       "      <td>NaN</td>\n",
       "      <td>NaN</td>\n",
       "    </tr>\n",
       "  </tbody>\n",
       "</table>\n",
       "<p>13362 rows × 11 columns</p>\n",
       "</div>"
      ],
      "text/plain": [
       "       Voyage ID       Vessel name  \\\n",
       "0              1   Pastora de Lima   \n",
       "1              2           Tibério   \n",
       "2              3      Paquete Real   \n",
       "3              4       Bom Caminho   \n",
       "4              5        Benigretta   \n",
       "...          ...               ...   \n",
       "13357     900232         Tourville   \n",
       "13358     900233      General Rêgo   \n",
       "13359     900234  Duas Clementinas   \n",
       "13360     900236        Rio Tâmega   \n",
       "13361     900237              Rosa   \n",
       "\n",
       "      Voyage itinerary imputed port where began (ptdepimp) place  \\\n",
       "0                                         Rio de Janeiro           \n",
       "1                                Bahia, port unspecified           \n",
       "2                                Bahia, port unspecified           \n",
       "3                                Bahia, port unspecified           \n",
       "4                                Bahia, port unspecified           \n",
       "...                                                  ...           \n",
       "13357                                     Rio de Janeiro           \n",
       "13358                 Southeast Brazil, port unspecified           \n",
       "13359                                     Rio de Janeiro           \n",
       "13360                 Southeast Brazil, port unspecified           \n",
       "13361                                     Rio de Janeiro           \n",
       "\n",
       "      Voyage itinerary imputed principal place of slave purchase (mjbyptimp)   \\\n",
       "0                                             Mozambique                        \n",
       "1                                             Mozambique                        \n",
       "2                                                Cabinda                        \n",
       "3                                              Quilimane                        \n",
       "4                                                Cabinda                        \n",
       "...                                                  ...                        \n",
       "13357  West Central Africa and St. Helena, port unspe...                        \n",
       "13358                                           Benguela                        \n",
       "13359                                           Benguela                        \n",
       "13360                                           Benguela                        \n",
       "13361                                           Benguela                        \n",
       "\n",
       "      Voyage itinerary imputed principal port of slave disembarkation (mjslptimp) place  \\\n",
       "0                                Bahia, port unspecified                                  \n",
       "1                                Bahia, port unspecified                                  \n",
       "2                                Bahia, port unspecified                                  \n",
       "3                                Bahia, port unspecified                                  \n",
       "4                                Bahia, port unspecified                                  \n",
       "...                                                  ...                                  \n",
       "13357                                     Rio de Janeiro                                  \n",
       "13358                                     Rio de Janeiro                                  \n",
       "13359                                     Rio de Janeiro                                  \n",
       "13360                                     Rio de Janeiro                                  \n",
       "13361                                     Rio de Janeiro                                  \n",
       "\n",
       "       Year of arrival at port of disembarkation  Slaves arrived at 1st port  \\\n",
       "0                                           1817                       290.0   \n",
       "1                                           1817                       223.0   \n",
       "2                                           1817                       350.0   \n",
       "3                                           1817                       342.0   \n",
       "4                                           1817                       516.0   \n",
       "...                                          ...                         ...   \n",
       "13357                                       1848                         NaN   \n",
       "13358                                       1849                         NaN   \n",
       "13359                                       1850                         NaN   \n",
       "13360                                       1851                         NaN   \n",
       "13361                                       1851                         NaN   \n",
       "\n",
       "       Percent men  Percent women  Percent children             Captain's name  \n",
       "0              NaN            NaN               NaN          Dias, Manoel José  \n",
       "1              NaN            NaN               NaN        Mata, José Maria da  \n",
       "2              NaN            NaN               NaN  Ferreira, José dos Santos  \n",
       "3              NaN            NaN               NaN   Dias, Domingos Francisco  \n",
       "4              NaN            NaN               NaN                        NaN  \n",
       "...            ...            ...               ...                        ...  \n",
       "13357          NaN            NaN               NaN                       Alex  \n",
       "13358          NaN            NaN               NaN                        NaN  \n",
       "13359          NaN            NaN               NaN                        NaN  \n",
       "13360          NaN            NaN               NaN                        NaN  \n",
       "13361          NaN            NaN               NaN                        NaN  \n",
       "\n",
       "[13362 rows x 11 columns]"
      ]
     },
     "execution_count": 5,
     "metadata": {},
     "output_type": "execute_result"
    }
   ],
   "source": [
    "slave_voyages_df"
   ]
  },
  {
   "cell_type": "markdown",
   "metadata": {},
   "source": [
    "There are a few important things to note about the DataFrame displayed here:\n",
    "\n",
    "* Index\n",
    "    * The ascending numbers in the very left-hand column of the DataFrame is called the pandas *Index*. You can select rows based on the Index.\n",
    "    * By default, the Index is a sequence of numbers starting with zero. However, you can change the Index to something else, such as one of the columns in your dataset.\n",
    "\n",
    "* Truncation\n",
    "    * The DataFrame is truncated, signaled by the ellipses in the middle `...` of every column.\n",
    "    * The DataFrame is truncated because we set our default display settings to 100 rows. Anything more than 100 rows will be truncated. To display all the rows, we would need to alter pandas' default display settings yet again.\n",
    "\n",
    "* Rows x Columns\n",
    "    * Pandas reports how many rows and columns are in this dataset at the bottom of the output (13,362 x 11 columns)."
   ]
  },
  {
   "cell_type": "markdown",
   "metadata": {},
   "source": [
    "## Display First *n* Rows\n",
    "\n",
    "To look at the first *n* rows in a DataFrame, we can use a method called `.head()`."
   ]
  },
  {
   "cell_type": "code",
   "execution_count": 6,
   "metadata": {},
   "outputs": [
    {
     "data": {
      "text/html": [
       "<div>\n",
       "<style scoped>\n",
       "    .dataframe tbody tr th:only-of-type {\n",
       "        vertical-align: middle;\n",
       "    }\n",
       "\n",
       "    .dataframe tbody tr th {\n",
       "        vertical-align: top;\n",
       "    }\n",
       "\n",
       "    .dataframe thead th {\n",
       "        text-align: right;\n",
       "    }\n",
       "</style>\n",
       "<table border=\"1\" class=\"dataframe\">\n",
       "  <thead>\n",
       "    <tr style=\"text-align: right;\">\n",
       "      <th></th>\n",
       "      <th>Voyage ID</th>\n",
       "      <th>Vessel name</th>\n",
       "      <th>Voyage itinerary imputed port where began (ptdepimp) place</th>\n",
       "      <th>Voyage itinerary imputed principal place of slave purchase (mjbyptimp)</th>\n",
       "      <th>Voyage itinerary imputed principal port of slave disembarkation (mjslptimp) place</th>\n",
       "      <th>Year of arrival at port of disembarkation</th>\n",
       "      <th>Slaves arrived at 1st port</th>\n",
       "      <th>Percent men</th>\n",
       "      <th>Percent women</th>\n",
       "      <th>Percent children</th>\n",
       "      <th>Captain's name</th>\n",
       "    </tr>\n",
       "  </thead>\n",
       "  <tbody>\n",
       "    <tr>\n",
       "      <td>0</td>\n",
       "      <td>1</td>\n",
       "      <td>Pastora de Lima</td>\n",
       "      <td>Rio de Janeiro</td>\n",
       "      <td>Mozambique</td>\n",
       "      <td>Bahia, port unspecified</td>\n",
       "      <td>1817</td>\n",
       "      <td>290.0</td>\n",
       "      <td>NaN</td>\n",
       "      <td>NaN</td>\n",
       "      <td>NaN</td>\n",
       "      <td>Dias, Manoel José</td>\n",
       "    </tr>\n",
       "    <tr>\n",
       "      <td>1</td>\n",
       "      <td>2</td>\n",
       "      <td>Tibério</td>\n",
       "      <td>Bahia, port unspecified</td>\n",
       "      <td>Mozambique</td>\n",
       "      <td>Bahia, port unspecified</td>\n",
       "      <td>1817</td>\n",
       "      <td>223.0</td>\n",
       "      <td>NaN</td>\n",
       "      <td>NaN</td>\n",
       "      <td>NaN</td>\n",
       "      <td>Mata, José Maria da</td>\n",
       "    </tr>\n",
       "    <tr>\n",
       "      <td>2</td>\n",
       "      <td>3</td>\n",
       "      <td>Paquete Real</td>\n",
       "      <td>Bahia, port unspecified</td>\n",
       "      <td>Cabinda</td>\n",
       "      <td>Bahia, port unspecified</td>\n",
       "      <td>1817</td>\n",
       "      <td>350.0</td>\n",
       "      <td>NaN</td>\n",
       "      <td>NaN</td>\n",
       "      <td>NaN</td>\n",
       "      <td>Ferreira, José dos Santos</td>\n",
       "    </tr>\n",
       "    <tr>\n",
       "      <td>3</td>\n",
       "      <td>4</td>\n",
       "      <td>Bom Caminho</td>\n",
       "      <td>Bahia, port unspecified</td>\n",
       "      <td>Quilimane</td>\n",
       "      <td>Bahia, port unspecified</td>\n",
       "      <td>1817</td>\n",
       "      <td>342.0</td>\n",
       "      <td>NaN</td>\n",
       "      <td>NaN</td>\n",
       "      <td>NaN</td>\n",
       "      <td>Dias, Domingos Francisco</td>\n",
       "    </tr>\n",
       "    <tr>\n",
       "      <td>4</td>\n",
       "      <td>5</td>\n",
       "      <td>Benigretta</td>\n",
       "      <td>Bahia, port unspecified</td>\n",
       "      <td>Cabinda</td>\n",
       "      <td>Bahia, port unspecified</td>\n",
       "      <td>1817</td>\n",
       "      <td>516.0</td>\n",
       "      <td>NaN</td>\n",
       "      <td>NaN</td>\n",
       "      <td>NaN</td>\n",
       "      <td>NaN</td>\n",
       "    </tr>\n",
       "    <tr>\n",
       "      <td>5</td>\n",
       "      <td>6</td>\n",
       "      <td>Voador</td>\n",
       "      <td>Bahia, port unspecified</td>\n",
       "      <td>Mozambique</td>\n",
       "      <td>Bahia, port unspecified</td>\n",
       "      <td>1817</td>\n",
       "      <td>515.0</td>\n",
       "      <td>NaN</td>\n",
       "      <td>NaN</td>\n",
       "      <td>NaN</td>\n",
       "      <td>NaN</td>\n",
       "    </tr>\n",
       "    <tr>\n",
       "      <td>6</td>\n",
       "      <td>7</td>\n",
       "      <td>Formiga</td>\n",
       "      <td>Bahia, port unspecified</td>\n",
       "      <td>Malembo</td>\n",
       "      <td>Bahia, port unspecified</td>\n",
       "      <td>1817</td>\n",
       "      <td>204.0</td>\n",
       "      <td>NaN</td>\n",
       "      <td>NaN</td>\n",
       "      <td>NaN</td>\n",
       "      <td>Viana, Isidoro Antônio</td>\n",
       "    </tr>\n",
       "    <tr>\n",
       "      <td>7</td>\n",
       "      <td>8</td>\n",
       "      <td>Vigilante Africano</td>\n",
       "      <td>Pernambuco, port unspecified</td>\n",
       "      <td>Luanda</td>\n",
       "      <td>Bahia, port unspecified</td>\n",
       "      <td>1817</td>\n",
       "      <td>374.0</td>\n",
       "      <td>NaN</td>\n",
       "      <td>NaN</td>\n",
       "      <td>NaN</td>\n",
       "      <td>Amorim, José Gomes de</td>\n",
       "    </tr>\n",
       "    <tr>\n",
       "      <td>8</td>\n",
       "      <td>9</td>\n",
       "      <td>Constante</td>\n",
       "      <td>Bahia, port unspecified</td>\n",
       "      <td>Cabinda</td>\n",
       "      <td>Bahia, port unspecified</td>\n",
       "      <td>1817</td>\n",
       "      <td>345.0</td>\n",
       "      <td>NaN</td>\n",
       "      <td>NaN</td>\n",
       "      <td>NaN</td>\n",
       "      <td>Narciso, Antônio</td>\n",
       "    </tr>\n",
       "    <tr>\n",
       "      <td>9</td>\n",
       "      <td>10</td>\n",
       "      <td>Comerciante</td>\n",
       "      <td>Bahia, port unspecified</td>\n",
       "      <td>Cabinda</td>\n",
       "      <td>Bahia, port unspecified</td>\n",
       "      <td>1817</td>\n",
       "      <td>478.0</td>\n",
       "      <td>NaN</td>\n",
       "      <td>NaN</td>\n",
       "      <td>NaN</td>\n",
       "      <td>Braga, Isidoro Martins</td>\n",
       "    </tr>\n",
       "  </tbody>\n",
       "</table>\n",
       "</div>"
      ],
      "text/plain": [
       "   Voyage ID         Vessel name  \\\n",
       "0          1     Pastora de Lima   \n",
       "1          2             Tibério   \n",
       "2          3        Paquete Real   \n",
       "3          4         Bom Caminho   \n",
       "4          5          Benigretta   \n",
       "5          6              Voador   \n",
       "6          7             Formiga   \n",
       "7          8  Vigilante Africano   \n",
       "8          9           Constante   \n",
       "9         10         Comerciante   \n",
       "\n",
       "  Voyage itinerary imputed port where began (ptdepimp) place  \\\n",
       "0                                     Rio de Janeiro           \n",
       "1                            Bahia, port unspecified           \n",
       "2                            Bahia, port unspecified           \n",
       "3                            Bahia, port unspecified           \n",
       "4                            Bahia, port unspecified           \n",
       "5                            Bahia, port unspecified           \n",
       "6                            Bahia, port unspecified           \n",
       "7                       Pernambuco, port unspecified           \n",
       "8                            Bahia, port unspecified           \n",
       "9                            Bahia, port unspecified           \n",
       "\n",
       "  Voyage itinerary imputed principal place of slave purchase (mjbyptimp)   \\\n",
       "0                                         Mozambique                        \n",
       "1                                         Mozambique                        \n",
       "2                                            Cabinda                        \n",
       "3                                          Quilimane                        \n",
       "4                                            Cabinda                        \n",
       "5                                         Mozambique                        \n",
       "6                                            Malembo                        \n",
       "7                                             Luanda                        \n",
       "8                                            Cabinda                        \n",
       "9                                            Cabinda                        \n",
       "\n",
       "  Voyage itinerary imputed principal port of slave disembarkation (mjslptimp) place  \\\n",
       "0                            Bahia, port unspecified                                  \n",
       "1                            Bahia, port unspecified                                  \n",
       "2                            Bahia, port unspecified                                  \n",
       "3                            Bahia, port unspecified                                  \n",
       "4                            Bahia, port unspecified                                  \n",
       "5                            Bahia, port unspecified                                  \n",
       "6                            Bahia, port unspecified                                  \n",
       "7                            Bahia, port unspecified                                  \n",
       "8                            Bahia, port unspecified                                  \n",
       "9                            Bahia, port unspecified                                  \n",
       "\n",
       "   Year of arrival at port of disembarkation  Slaves arrived at 1st port  \\\n",
       "0                                       1817                       290.0   \n",
       "1                                       1817                       223.0   \n",
       "2                                       1817                       350.0   \n",
       "3                                       1817                       342.0   \n",
       "4                                       1817                       516.0   \n",
       "5                                       1817                       515.0   \n",
       "6                                       1817                       204.0   \n",
       "7                                       1817                       374.0   \n",
       "8                                       1817                       345.0   \n",
       "9                                       1817                       478.0   \n",
       "\n",
       "   Percent men  Percent women  Percent children             Captain's name  \n",
       "0          NaN            NaN               NaN          Dias, Manoel José  \n",
       "1          NaN            NaN               NaN        Mata, José Maria da  \n",
       "2          NaN            NaN               NaN  Ferreira, José dos Santos  \n",
       "3          NaN            NaN               NaN   Dias, Domingos Francisco  \n",
       "4          NaN            NaN               NaN                        NaN  \n",
       "5          NaN            NaN               NaN                        NaN  \n",
       "6          NaN            NaN               NaN     Viana, Isidoro Antônio  \n",
       "7          NaN            NaN               NaN      Amorim, José Gomes de  \n",
       "8          NaN            NaN               NaN           Narciso, Antônio  \n",
       "9          NaN            NaN               NaN     Braga, Isidoro Martins  "
      ]
     },
     "execution_count": 6,
     "metadata": {},
     "output_type": "execute_result"
    }
   ],
   "source": [
    "slave_voyages_df.head(10)"
   ]
  },
  {
   "cell_type": "markdown",
   "metadata": {},
   "source": [
    "## Examine Data"
   ]
  },
  {
   "cell_type": "markdown",
   "metadata": {},
   "source": [
    "### Shape"
   ]
  },
  {
   "cell_type": "markdown",
   "metadata": {},
   "source": [
    "To explicitly check for how many rows vs columns make up a dataset, we can use the `.shape` method."
   ]
  },
  {
   "cell_type": "code",
   "execution_count": 7,
   "metadata": {},
   "outputs": [
    {
     "data": {
      "text/plain": [
       "(13362, 11)"
      ]
     },
     "execution_count": 7,
     "metadata": {},
     "output_type": "execute_result"
    }
   ],
   "source": [
    "slave_voyages_df.shape"
   ]
  },
  {
   "cell_type": "markdown",
   "metadata": {},
   "source": [
    "There are 13,362 rows and 11 columns."
   ]
  },
  {
   "cell_type": "markdown",
   "metadata": {},
   "source": [
    "### Data Types"
   ]
  },
  {
   "cell_type": "markdown",
   "metadata": {},
   "source": [
    "Just like Python has different data types, Pandas has different data types, too. These data types are automatically assigned to columns when we read in a CSV file. We can check these Pandas data types with the [`.dtypes` method](https://pandas.pydata.org/pandas-docs/stable/reference/api/pandas.DataFrame.dtypes.html)."
   ]
  },
  {
   "cell_type": "markdown",
   "metadata": {},
   "source": [
    "\n",
    "\n",
    "| **Pandas Data Type** |  **Explanation**                                                                                   |\n",
    "|:-------------:|:---------------------------------------------------------------------------------------------------:|\n",
    "| `object`         | string                                                                               |\n",
    "| `float64`         | float                                               |\n",
    "| `int64`       | integer                                                        |\n",
    "| `datetime64`       |  date time              "
   ]
  },
  {
   "cell_type": "code",
   "execution_count": 8,
   "metadata": {},
   "outputs": [
    {
     "data": {
      "text/plain": [
       "Voyage ID                                                                              int64\n",
       "Vessel name                                                                           object\n",
       "Voyage itinerary imputed port where began (ptdepimp) place                            object\n",
       "Voyage itinerary imputed principal place of slave purchase (mjbyptimp)                object\n",
       "Voyage itinerary imputed principal port of slave disembarkation (mjslptimp) place     object\n",
       "Year of arrival at port of disembarkation                                              int64\n",
       "Slaves arrived at 1st port                                                           float64\n",
       "Percent men                                                                          float64\n",
       "Percent women                                                                        float64\n",
       "Percent children                                                                     float64\n",
       "Captain's name                                                                        object\n",
       "dtype: object"
      ]
     },
     "execution_count": 8,
     "metadata": {},
     "output_type": "execute_result"
    }
   ],
   "source": [
    "slave_voyages_df.dtypes"
   ]
  },
  {
   "cell_type": "markdown",
   "metadata": {},
   "source": [
    "It's important to always check the data types in your DataFrame. For example, sometimes numeric values will accidentally be interpreted as a string object. To perform calculations on this data, you would need to first convert that column from a string to an integer."
   ]
  },
  {
   "cell_type": "markdown",
   "metadata": {},
   "source": [
    "### Columns"
   ]
  },
  {
   "cell_type": "markdown",
   "metadata": {},
   "source": [
    "We can also check the column names of the DataFrame with [`.columns`](https://pandas.pydata.org/pandas-docs/stable/reference/api/pandas.DataFrame.columns.html)"
   ]
  },
  {
   "cell_type": "code",
   "execution_count": 9,
   "metadata": {},
   "outputs": [
    {
     "data": {
      "text/plain": [
       "Index(['Voyage ID', 'Vessel name',\n",
       "       'Voyage itinerary imputed port where began (ptdepimp) place',\n",
       "       'Voyage itinerary imputed principal place of slave purchase (mjbyptimp) ',\n",
       "       'Voyage itinerary imputed principal port of slave disembarkation (mjslptimp) place',\n",
       "       'Year of arrival at port of disembarkation',\n",
       "       'Slaves arrived at 1st port', 'Percent men', 'Percent women',\n",
       "       'Percent children', 'Captain's name'],\n",
       "      dtype='object')"
      ]
     },
     "execution_count": 9,
     "metadata": {},
     "output_type": "execute_result"
    }
   ],
   "source": [
    "slave_voyages_df.columns"
   ]
  },
  {
   "cell_type": "markdown",
   "metadata": {},
   "source": [
    "### Summary Statistics"
   ]
  },
  {
   "cell_type": "code",
   "execution_count": 10,
   "metadata": {},
   "outputs": [
    {
     "data": {
      "text/html": [
       "<div>\n",
       "<style scoped>\n",
       "    .dataframe tbody tr th:only-of-type {\n",
       "        vertical-align: middle;\n",
       "    }\n",
       "\n",
       "    .dataframe tbody tr th {\n",
       "        vertical-align: top;\n",
       "    }\n",
       "\n",
       "    .dataframe thead th {\n",
       "        text-align: right;\n",
       "    }\n",
       "</style>\n",
       "<table border=\"1\" class=\"dataframe\">\n",
       "  <thead>\n",
       "    <tr style=\"text-align: right;\">\n",
       "      <th></th>\n",
       "      <th>Voyage ID</th>\n",
       "      <th>Vessel name</th>\n",
       "      <th>Voyage itinerary imputed port where began (ptdepimp) place</th>\n",
       "      <th>Voyage itinerary imputed principal place of slave purchase (mjbyptimp)</th>\n",
       "      <th>Voyage itinerary imputed principal port of slave disembarkation (mjslptimp) place</th>\n",
       "      <th>Year of arrival at port of disembarkation</th>\n",
       "      <th>Slaves arrived at 1st port</th>\n",
       "      <th>Percent men</th>\n",
       "      <th>Percent women</th>\n",
       "      <th>Percent children</th>\n",
       "      <th>Captain's name</th>\n",
       "    </tr>\n",
       "  </thead>\n",
       "  <tbody>\n",
       "    <tr>\n",
       "      <td>count</td>\n",
       "      <td>13362.000000</td>\n",
       "      <td>13362</td>\n",
       "      <td>12128</td>\n",
       "      <td>13352</td>\n",
       "      <td>13362</td>\n",
       "      <td>13362.000000</td>\n",
       "      <td>6661.000000</td>\n",
       "      <td>279.000000</td>\n",
       "      <td>279.000000</td>\n",
       "      <td>1012.000000</td>\n",
       "      <td>11505</td>\n",
       "    </tr>\n",
       "    <tr>\n",
       "      <td>unique</td>\n",
       "      <td>NaN</td>\n",
       "      <td>3942</td>\n",
       "      <td>117</td>\n",
       "      <td>101</td>\n",
       "      <td>113</td>\n",
       "      <td>NaN</td>\n",
       "      <td>NaN</td>\n",
       "      <td>NaN</td>\n",
       "      <td>NaN</td>\n",
       "      <td>NaN</td>\n",
       "      <td>6941</td>\n",
       "    </tr>\n",
       "    <tr>\n",
       "      <td>top</td>\n",
       "      <td>NaN</td>\n",
       "      <td></td>\n",
       "      <td>Bahia, port unspecified</td>\n",
       "      <td>Luanda</td>\n",
       "      <td>Bahia, port unspecified</td>\n",
       "      <td>NaN</td>\n",
       "      <td>NaN</td>\n",
       "      <td>NaN</td>\n",
       "      <td>NaN</td>\n",
       "      <td>NaN</td>\n",
       "      <td>Garcia, Francisco Correa</td>\n",
       "    </tr>\n",
       "    <tr>\n",
       "      <td>freq</td>\n",
       "      <td>NaN</td>\n",
       "      <td>498</td>\n",
       "      <td>4198</td>\n",
       "      <td>3364</td>\n",
       "      <td>4223</td>\n",
       "      <td>NaN</td>\n",
       "      <td>NaN</td>\n",
       "      <td>NaN</td>\n",
       "      <td>NaN</td>\n",
       "      <td>NaN</td>\n",
       "      <td>22</td>\n",
       "    </tr>\n",
       "    <tr>\n",
       "      <td>mean</td>\n",
       "      <td>44871.176471</td>\n",
       "      <td>NaN</td>\n",
       "      <td>NaN</td>\n",
       "      <td>NaN</td>\n",
       "      <td>NaN</td>\n",
       "      <td>1760.491992</td>\n",
       "      <td>304.559676</td>\n",
       "      <td>0.517071</td>\n",
       "      <td>0.249570</td>\n",
       "      <td>0.104174</td>\n",
       "      <td>NaN</td>\n",
       "    </tr>\n",
       "    <tr>\n",
       "      <td>std</td>\n",
       "      <td>101638.467895</td>\n",
       "      <td>NaN</td>\n",
       "      <td>NaN</td>\n",
       "      <td>NaN</td>\n",
       "      <td>NaN</td>\n",
       "      <td>69.993700</td>\n",
       "      <td>173.915462</td>\n",
       "      <td>0.196595</td>\n",
       "      <td>0.137858</td>\n",
       "      <td>0.140982</td>\n",
       "      <td>NaN</td>\n",
       "    </tr>\n",
       "    <tr>\n",
       "      <td>min</td>\n",
       "      <td>1.000000</td>\n",
       "      <td>NaN</td>\n",
       "      <td>NaN</td>\n",
       "      <td>NaN</td>\n",
       "      <td>NaN</td>\n",
       "      <td>1542.000000</td>\n",
       "      <td>1.000000</td>\n",
       "      <td>0.011900</td>\n",
       "      <td>0.000000</td>\n",
       "      <td>0.000000</td>\n",
       "      <td>NaN</td>\n",
       "    </tr>\n",
       "    <tr>\n",
       "      <td>25%</td>\n",
       "      <td>8968.250000</td>\n",
       "      <td>NaN</td>\n",
       "      <td>NaN</td>\n",
       "      <td>NaN</td>\n",
       "      <td>NaN</td>\n",
       "      <td>1726.000000</td>\n",
       "      <td>164.000000</td>\n",
       "      <td>0.379585</td>\n",
       "      <td>0.169155</td>\n",
       "      <td>0.015214</td>\n",
       "      <td>NaN</td>\n",
       "    </tr>\n",
       "    <tr>\n",
       "      <td>50%</td>\n",
       "      <td>40558.000000</td>\n",
       "      <td>NaN</td>\n",
       "      <td>NaN</td>\n",
       "      <td>NaN</td>\n",
       "      <td>NaN</td>\n",
       "      <td>1777.000000</td>\n",
       "      <td>290.000000</td>\n",
       "      <td>0.490800</td>\n",
       "      <td>0.243900</td>\n",
       "      <td>0.042140</td>\n",
       "      <td>NaN</td>\n",
       "    </tr>\n",
       "    <tr>\n",
       "      <td>75%</td>\n",
       "      <td>49470.750000</td>\n",
       "      <td>NaN</td>\n",
       "      <td>NaN</td>\n",
       "      <td>NaN</td>\n",
       "      <td>NaN</td>\n",
       "      <td>1815.000000</td>\n",
       "      <td>418.000000</td>\n",
       "      <td>0.621625</td>\n",
       "      <td>0.323570</td>\n",
       "      <td>0.143135</td>\n",
       "      <td>NaN</td>\n",
       "    </tr>\n",
       "    <tr>\n",
       "      <td>max</td>\n",
       "      <td>900237.000000</td>\n",
       "      <td>NaN</td>\n",
       "      <td>NaN</td>\n",
       "      <td>NaN</td>\n",
       "      <td>NaN</td>\n",
       "      <td>1860.000000</td>\n",
       "      <td>1400.000000</td>\n",
       "      <td>1.000000</td>\n",
       "      <td>0.988100</td>\n",
       "      <td>1.000000</td>\n",
       "      <td>NaN</td>\n",
       "    </tr>\n",
       "  </tbody>\n",
       "</table>\n",
       "</div>"
      ],
      "text/plain": [
       "            Voyage ID Vessel name  \\\n",
       "count    13362.000000       13362   \n",
       "unique            NaN        3942   \n",
       "top               NaN               \n",
       "freq              NaN         498   \n",
       "mean     44871.176471         NaN   \n",
       "std     101638.467895         NaN   \n",
       "min          1.000000         NaN   \n",
       "25%       8968.250000         NaN   \n",
       "50%      40558.000000         NaN   \n",
       "75%      49470.750000         NaN   \n",
       "max     900237.000000         NaN   \n",
       "\n",
       "       Voyage itinerary imputed port where began (ptdepimp) place  \\\n",
       "count                                               12128           \n",
       "unique                                                117           \n",
       "top                               Bahia, port unspecified           \n",
       "freq                                                 4198           \n",
       "mean                                                  NaN           \n",
       "std                                                   NaN           \n",
       "min                                                   NaN           \n",
       "25%                                                   NaN           \n",
       "50%                                                   NaN           \n",
       "75%                                                   NaN           \n",
       "max                                                   NaN           \n",
       "\n",
       "       Voyage itinerary imputed principal place of slave purchase (mjbyptimp)   \\\n",
       "count                                               13352                        \n",
       "unique                                                101                        \n",
       "top                                                Luanda                        \n",
       "freq                                                 3364                        \n",
       "mean                                                  NaN                        \n",
       "std                                                   NaN                        \n",
       "min                                                   NaN                        \n",
       "25%                                                   NaN                        \n",
       "50%                                                   NaN                        \n",
       "75%                                                   NaN                        \n",
       "max                                                   NaN                        \n",
       "\n",
       "       Voyage itinerary imputed principal port of slave disembarkation (mjslptimp) place  \\\n",
       "count                                               13362                                  \n",
       "unique                                                113                                  \n",
       "top                               Bahia, port unspecified                                  \n",
       "freq                                                 4223                                  \n",
       "mean                                                  NaN                                  \n",
       "std                                                   NaN                                  \n",
       "min                                                   NaN                                  \n",
       "25%                                                   NaN                                  \n",
       "50%                                                   NaN                                  \n",
       "75%                                                   NaN                                  \n",
       "max                                                   NaN                                  \n",
       "\n",
       "        Year of arrival at port of disembarkation  Slaves arrived at 1st port  \\\n",
       "count                                13362.000000                 6661.000000   \n",
       "unique                                        NaN                         NaN   \n",
       "top                                           NaN                         NaN   \n",
       "freq                                          NaN                         NaN   \n",
       "mean                                  1760.491992                  304.559676   \n",
       "std                                     69.993700                  173.915462   \n",
       "min                                   1542.000000                    1.000000   \n",
       "25%                                   1726.000000                  164.000000   \n",
       "50%                                   1777.000000                  290.000000   \n",
       "75%                                   1815.000000                  418.000000   \n",
       "max                                   1860.000000                 1400.000000   \n",
       "\n",
       "        Percent men  Percent women  Percent children            Captain's name  \n",
       "count    279.000000     279.000000       1012.000000                     11505  \n",
       "unique          NaN            NaN               NaN                      6941  \n",
       "top             NaN            NaN               NaN  Garcia, Francisco Correa  \n",
       "freq            NaN            NaN               NaN                        22  \n",
       "mean       0.517071       0.249570          0.104174                       NaN  \n",
       "std        0.196595       0.137858          0.140982                       NaN  \n",
       "min        0.011900       0.000000          0.000000                       NaN  \n",
       "25%        0.379585       0.169155          0.015214                       NaN  \n",
       "50%        0.490800       0.243900          0.042140                       NaN  \n",
       "75%        0.621625       0.323570          0.143135                       NaN  \n",
       "max        1.000000       0.988100          1.000000                       NaN  "
      ]
     },
     "execution_count": 10,
     "metadata": {},
     "output_type": "execute_result"
    }
   ],
   "source": [
    "slave_voyages_df.describe(include='all')"
   ]
  },
  {
   "cell_type": "markdown",
   "metadata": {},
   "source": [
    "## Missing Data"
   ]
  },
  {
   "cell_type": "markdown",
   "metadata": {},
   "source": [
    "```{epigraph}\n",
    "The conceit of the archive is that it is the repository of answers, of knowable conclusions, of the data needed to explain or understand the past.\n",
    "\n",
    "The reality, however, is that the archive is the troubled genesis of our always-failed effort to unravel the effects of the past on the present; rather than verifiable truths, the archive — and its silences — house the very questions that unsettle us.\n",
    "```\n",
    "-- Jennifer Morgan, [\"Accounting for 'The Most Excruciating Torment'\"](https://read.dukeupress.edu/history-of-the-present/article-abstract/6/2/184/153282/Accounting-for-The-Most-Excruciating-Torment?redirectedFrom=PDF)\n"
   ]
  },
  {
   "cell_type": "markdown",
   "metadata": {},
   "source": [
    "Responsible data analysis requires understanding missing data. The Trans-Atlantic Slave Trade Database, as historian Jennifer Morgan [writes](https://read.dukeupress.edu/history-of-the-present/article-abstract/6/2/184/153282/Accounting-for-The-Most-Excruciating-Torment?redirectedFrom=PDF), contains innumerable \"silences\" and \"gaps.\" These silences include the thoughts, feelings, and experiences of the enslaved African people on board the voyages — silences that cannot be found in the database itself.\n",
    "\n",
    "There are other kinds of silences and gaps that can be detected in the database itself, however. For example, while some of the voyages in the the Trans-Atlantic Slave Trade Database recorded information about how many enslaved women and children were aboard, most did not. Yet focusing on the data that is there and analyzing trends in the missing data can help shed light on the history of gender and enslavement. The fact that most ship captains did not record gender information, Morgan argues, helps tells us about their \"priorities\": \"[W]e can assume that had it been financially significant to have more men than women that data would have been more scrupulously recorded.\""
   ]
  },
  {
   "cell_type": "markdown",
   "metadata": {},
   "source": [
    "### .isna() / .notna()"
   ]
  },
  {
   "cell_type": "markdown",
   "metadata": {},
   "source": [
    "Pandas has special ways of dealing with missing data. As you may have already noticed, blank rows in a CSV file show up as `NaN` in a Pandas DataFrame."
   ]
  },
  {
   "cell_type": "markdown",
   "metadata": {},
   "source": [
    "To filter and count the number of missing/not missing values in a dataset, we can use the special `.isna()` and `.notna()` methods on a DataFrame or Series object."
   ]
  },
  {
   "cell_type": "code",
   "execution_count": 13,
   "metadata": {},
   "outputs": [
    {
     "data": {
      "text/plain": [
       "0        False\n",
       "1        False\n",
       "2        False\n",
       "3        False\n",
       "4        False\n",
       "         ...  \n",
       "13357    False\n",
       "13358    False\n",
       "13359    False\n",
       "13360    False\n",
       "13361    False\n",
       "Name: Percent women, Length: 13362, dtype: bool"
      ]
     },
     "execution_count": 13,
     "metadata": {},
     "output_type": "execute_result"
    }
   ],
   "source": [
    "slave_voyages_df['Percent women'].notna()"
   ]
  },
  {
   "cell_type": "markdown",
   "metadata": {},
   "source": [
    "The `.isna()` and `.notna()` methods return True/False pairs for each row, which we can use to filter the DataFrame for any rows that have information in a given column. For example, we can filter the DataFrame for only rows that have information about the percentage of enslaved women aboard the voyage."
   ]
  },
  {
   "cell_type": "code",
   "execution_count": 15,
   "metadata": {},
   "outputs": [
    {
     "data": {
      "text/html": [
       "<div>\n",
       "<style scoped>\n",
       "    .dataframe tbody tr th:only-of-type {\n",
       "        vertical-align: middle;\n",
       "    }\n",
       "\n",
       "    .dataframe tbody tr th {\n",
       "        vertical-align: top;\n",
       "    }\n",
       "\n",
       "    .dataframe thead th {\n",
       "        text-align: right;\n",
       "    }\n",
       "</style>\n",
       "<table border=\"1\" class=\"dataframe\">\n",
       "  <thead>\n",
       "    <tr style=\"text-align: right;\">\n",
       "      <th></th>\n",
       "      <th>Voyage ID</th>\n",
       "      <th>Vessel name</th>\n",
       "      <th>Voyage itinerary imputed port where began (ptdepimp) place</th>\n",
       "      <th>Voyage itinerary imputed principal place of slave purchase (mjbyptimp)</th>\n",
       "      <th>Voyage itinerary imputed principal port of slave disembarkation (mjslptimp) place</th>\n",
       "      <th>Year of arrival at port of disembarkation</th>\n",
       "      <th>Slaves arrived at 1st port</th>\n",
       "      <th>Percent men</th>\n",
       "      <th>Percent women</th>\n",
       "      <th>Percent children</th>\n",
       "      <th>Captain's name</th>\n",
       "    </tr>\n",
       "  </thead>\n",
       "  <tbody>\n",
       "    <tr>\n",
       "      <td>414</td>\n",
       "      <td>506</td>\n",
       "      <td>Vulcano</td>\n",
       "      <td>Rio de Janeiro</td>\n",
       "      <td>Quilimane</td>\n",
       "      <td>Rio de Janeiro</td>\n",
       "      <td>1825</td>\n",
       "      <td>504.0</td>\n",
       "      <td>0.35305</td>\n",
       "      <td>0.12595</td>\n",
       "      <td>0.52099</td>\n",
       "      <td>Ferreira, Antônio José</td>\n",
       "    </tr>\n",
       "    <tr>\n",
       "      <td>967</td>\n",
       "      <td>1328</td>\n",
       "      <td>Duquesa de Bragança</td>\n",
       "      <td>Rio de Janeiro</td>\n",
       "      <td>Luanda</td>\n",
       "      <td>Rio de Janeiro</td>\n",
       "      <td>1834</td>\n",
       "      <td>275.0</td>\n",
       "      <td>0.17818</td>\n",
       "      <td>0.01091</td>\n",
       "      <td>0.81091</td>\n",
       "      <td>Barros, José Joaquim de&lt;br/&gt; Martinez, Antônio...</td>\n",
       "    </tr>\n",
       "    <tr>\n",
       "      <td>969</td>\n",
       "      <td>1330</td>\n",
       "      <td>S Antônio</td>\n",
       "      <td>Rio de Janeiro</td>\n",
       "      <td>Gabon</td>\n",
       "      <td>Rio de Janeiro</td>\n",
       "      <td>1834</td>\n",
       "      <td>91.0</td>\n",
       "      <td>0.15385</td>\n",
       "      <td>0.06593</td>\n",
       "      <td>0.78022</td>\n",
       "      <td>Vieira, Hipólito José</td>\n",
       "    </tr>\n",
       "    <tr>\n",
       "      <td>975</td>\n",
       "      <td>1420</td>\n",
       "      <td>Rio de la Plata</td>\n",
       "      <td>Montevideo</td>\n",
       "      <td>West Central Africa and St. Helena, port unspe...</td>\n",
       "      <td>Rio de Janeiro</td>\n",
       "      <td>1834</td>\n",
       "      <td>521.0</td>\n",
       "      <td>0.18489</td>\n",
       "      <td>0.07555</td>\n",
       "      <td>0.73956</td>\n",
       "      <td>Silva, Antônio Cardoso da</td>\n",
       "    </tr>\n",
       "    <tr>\n",
       "      <td>981</td>\n",
       "      <td>1426</td>\n",
       "      <td>Órion</td>\n",
       "      <td>Rio de Janeiro</td>\n",
       "      <td>Luanda</td>\n",
       "      <td>Rio de Janeiro</td>\n",
       "      <td>1835</td>\n",
       "      <td>245.0</td>\n",
       "      <td>0.23265</td>\n",
       "      <td>0.08163</td>\n",
       "      <td>0.68571</td>\n",
       "      <td>Silveira, Teotônio Flávio da</td>\n",
       "    </tr>\n",
       "    <tr>\n",
       "      <td>...</td>\n",
       "      <td>...</td>\n",
       "      <td>...</td>\n",
       "      <td>...</td>\n",
       "      <td>...</td>\n",
       "      <td>...</td>\n",
       "      <td>...</td>\n",
       "      <td>...</td>\n",
       "      <td>...</td>\n",
       "      <td>...</td>\n",
       "      <td>...</td>\n",
       "      <td>...</td>\n",
       "    </tr>\n",
       "    <tr>\n",
       "      <td>13070</td>\n",
       "      <td>96026</td>\n",
       "      <td>Susan</td>\n",
       "      <td>NaN</td>\n",
       "      <td>Gambia</td>\n",
       "      <td>Buenos Aires</td>\n",
       "      <td>1803</td>\n",
       "      <td>90.0</td>\n",
       "      <td>0.18889</td>\n",
       "      <td>0.03333</td>\n",
       "      <td>0.77778</td>\n",
       "      <td>Palmes, Eduardo</td>\n",
       "    </tr>\n",
       "    <tr>\n",
       "      <td>13084</td>\n",
       "      <td>96040</td>\n",
       "      <td>Príncipe Regente</td>\n",
       "      <td>Setubal</td>\n",
       "      <td>Saint-Louis</td>\n",
       "      <td>Montevideo</td>\n",
       "      <td>1804</td>\n",
       "      <td>80.0</td>\n",
       "      <td>0.60417</td>\n",
       "      <td>0.12500</td>\n",
       "      <td>0.27083</td>\n",
       "      <td>Paula Rodríguez, Francisco de Paula</td>\n",
       "    </tr>\n",
       "    <tr>\n",
       "      <td>13105</td>\n",
       "      <td>96073</td>\n",
       "      <td>Marques de Flori</td>\n",
       "      <td>NaN</td>\n",
       "      <td>Mauritius (Ile de France)</td>\n",
       "      <td>Montevideo</td>\n",
       "      <td>1782</td>\n",
       "      <td>40.0</td>\n",
       "      <td>0.85000</td>\n",
       "      <td>0.15000</td>\n",
       "      <td>0.00000</td>\n",
       "      <td>Moulin, François</td>\n",
       "    </tr>\n",
       "    <tr>\n",
       "      <td>13117</td>\n",
       "      <td>96085</td>\n",
       "      <td>Catalina</td>\n",
       "      <td>NaN</td>\n",
       "      <td>Africa., port unspecified</td>\n",
       "      <td>Buenos Aires</td>\n",
       "      <td>1802</td>\n",
       "      <td>237.0</td>\n",
       "      <td>0.77637</td>\n",
       "      <td>0.21941</td>\n",
       "      <td>0.00422</td>\n",
       "      <td>NaN</td>\n",
       "    </tr>\n",
       "    <tr>\n",
       "      <td>13131</td>\n",
       "      <td>96099</td>\n",
       "      <td>S Ana</td>\n",
       "      <td>NaN</td>\n",
       "      <td>Africa., port unspecified</td>\n",
       "      <td>Buenos Aires</td>\n",
       "      <td>1804</td>\n",
       "      <td>81.0</td>\n",
       "      <td>0.31667</td>\n",
       "      <td>0.63333</td>\n",
       "      <td>0.05000</td>\n",
       "      <td>Amaro, Rodriguez de Oliveira</td>\n",
       "    </tr>\n",
       "  </tbody>\n",
       "</table>\n",
       "<p>279 rows × 11 columns</p>\n",
       "</div>"
      ],
      "text/plain": [
       "       Voyage ID          Vessel name  \\\n",
       "414          506              Vulcano   \n",
       "967         1328  Duquesa de Bragança   \n",
       "969         1330            S Antônio   \n",
       "975         1420      Rio de la Plata   \n",
       "981         1426                Órion   \n",
       "...          ...                  ...   \n",
       "13070      96026                Susan   \n",
       "13084      96040     Príncipe Regente   \n",
       "13105      96073     Marques de Flori   \n",
       "13117      96085             Catalina   \n",
       "13131      96099                S Ana   \n",
       "\n",
       "      Voyage itinerary imputed port where began (ptdepimp) place  \\\n",
       "414                                       Rio de Janeiro           \n",
       "967                                       Rio de Janeiro           \n",
       "969                                       Rio de Janeiro           \n",
       "975                                           Montevideo           \n",
       "981                                       Rio de Janeiro           \n",
       "...                                                  ...           \n",
       "13070                                                NaN           \n",
       "13084                                            Setubal           \n",
       "13105                                                NaN           \n",
       "13117                                                NaN           \n",
       "13131                                                NaN           \n",
       "\n",
       "      Voyage itinerary imputed principal place of slave purchase (mjbyptimp)   \\\n",
       "414                                            Quilimane                        \n",
       "967                                               Luanda                        \n",
       "969                                                Gabon                        \n",
       "975    West Central Africa and St. Helena, port unspe...                        \n",
       "981                                               Luanda                        \n",
       "...                                                  ...                        \n",
       "13070                                             Gambia                        \n",
       "13084                                        Saint-Louis                        \n",
       "13105                          Mauritius (Ile de France)                        \n",
       "13117                          Africa., port unspecified                        \n",
       "13131                          Africa., port unspecified                        \n",
       "\n",
       "      Voyage itinerary imputed principal port of slave disembarkation (mjslptimp) place  \\\n",
       "414                                       Rio de Janeiro                                  \n",
       "967                                       Rio de Janeiro                                  \n",
       "969                                       Rio de Janeiro                                  \n",
       "975                                       Rio de Janeiro                                  \n",
       "981                                       Rio de Janeiro                                  \n",
       "...                                                  ...                                  \n",
       "13070                                       Buenos Aires                                  \n",
       "13084                                         Montevideo                                  \n",
       "13105                                         Montevideo                                  \n",
       "13117                                       Buenos Aires                                  \n",
       "13131                                       Buenos Aires                                  \n",
       "\n",
       "       Year of arrival at port of disembarkation  Slaves arrived at 1st port  \\\n",
       "414                                         1825                       504.0   \n",
       "967                                         1834                       275.0   \n",
       "969                                         1834                        91.0   \n",
       "975                                         1834                       521.0   \n",
       "981                                         1835                       245.0   \n",
       "...                                          ...                         ...   \n",
       "13070                                       1803                        90.0   \n",
       "13084                                       1804                        80.0   \n",
       "13105                                       1782                        40.0   \n",
       "13117                                       1802                       237.0   \n",
       "13131                                       1804                        81.0   \n",
       "\n",
       "       Percent men  Percent women  Percent children  \\\n",
       "414        0.35305        0.12595           0.52099   \n",
       "967        0.17818        0.01091           0.81091   \n",
       "969        0.15385        0.06593           0.78022   \n",
       "975        0.18489        0.07555           0.73956   \n",
       "981        0.23265        0.08163           0.68571   \n",
       "...            ...            ...               ...   \n",
       "13070      0.18889        0.03333           0.77778   \n",
       "13084      0.60417        0.12500           0.27083   \n",
       "13105      0.85000        0.15000           0.00000   \n",
       "13117      0.77637        0.21941           0.00422   \n",
       "13131      0.31667        0.63333           0.05000   \n",
       "\n",
       "                                          Captain's name  \n",
       "414                               Ferreira, Antônio José  \n",
       "967    Barros, José Joaquim de<br/> Martinez, Antônio...  \n",
       "969                                Vieira, Hipólito José  \n",
       "975                            Silva, Antônio Cardoso da  \n",
       "981                         Silveira, Teotônio Flávio da  \n",
       "...                                                  ...  \n",
       "13070                                    Palmes, Eduardo  \n",
       "13084                Paula Rodríguez, Francisco de Paula  \n",
       "13105                                   Moulin, François  \n",
       "13117                                                NaN  \n",
       "13131                       Amaro, Rodriguez de Oliveira  \n",
       "\n",
       "[279 rows x 11 columns]"
      ]
     },
     "execution_count": 15,
     "metadata": {},
     "output_type": "execute_result"
    }
   ],
   "source": [
    "slave_voyages_df[slave_voyages_df['Percent women'].notna()]"
   ]
  },
  {
   "cell_type": "markdown",
   "metadata": {},
   "source": [
    "The data is now filtered to only include the 279 rows with information about how many women were aboard the voyage.\n",
    "\n",
    "To explicitly count the number of blank rows, we can use the `.value_counts()` method."
   ]
  },
  {
   "cell_type": "code",
   "execution_count": 16,
   "metadata": {},
   "outputs": [
    {
     "data": {
      "text/plain": [
       "True     13083\n",
       "False      279\n",
       "Name: Percent women, dtype: int64"
      ]
     },
     "execution_count": 16,
     "metadata": {},
     "output_type": "execute_result"
    }
   ],
   "source": [
    "slave_voyages_df['Percent women'].isna().value_counts()"
   ]
  },
  {
   "cell_type": "markdown",
   "metadata": {},
   "source": [
    "There are 13,083 that do not contain information about the number of enslaved women on the voyage (`isna` = True) and 279 rows that do contain this information (`isna` = False)."
   ]
  },
  {
   "cell_type": "markdown",
   "metadata": {},
   "source": [
    "To quickly transform these numbers into percentages, we can set the `normalize=` parameter to True."
   ]
  },
  {
   "cell_type": "code",
   "execution_count": 17,
   "metadata": {},
   "outputs": [
    {
     "data": {
      "text/plain": [
       "True     0.97912\n",
       "False    0.02088\n",
       "Name: Percent women, dtype: float64"
      ]
     },
     "execution_count": 17,
     "metadata": {},
     "output_type": "execute_result"
    }
   ],
   "source": [
    "slave_voyages_df['Percent women'].isna().value_counts(normalize=True)"
   ]
  },
  {
   "cell_type": "markdown",
   "metadata": {},
   "source": [
    "About 2% of rows in this dataset have information about the number of enslaved women on the voyage while 86% do not."
   ]
  },
  {
   "cell_type": "markdown",
   "metadata": {},
   "source": [
    "### .count()"
   ]
  },
  {
   "cell_type": "markdown",
   "metadata": {},
   "source": [
    "Because the `.count()` method always excludes NaN values, we can also count the number of values in each column and divide by the total number of rows in each column (`len()`) to find the percentage of not blank data in every column."
   ]
  },
  {
   "cell_type": "code",
   "execution_count": 18,
   "metadata": {},
   "outputs": [
    {
     "data": {
      "text/plain": [
       "Voyage ID                                                                            1.000000\n",
       "Vessel name                                                                          1.000000\n",
       "Voyage itinerary imputed port where began (ptdepimp) place                           0.907649\n",
       "Voyage itinerary imputed principal place of slave purchase (mjbyptimp)               0.999252\n",
       "Voyage itinerary imputed principal port of slave disembarkation (mjslptimp) place    1.000000\n",
       "Year of arrival at port of disembarkation                                            1.000000\n",
       "Slaves arrived at 1st port                                                           0.498503\n",
       "Percent men                                                                          0.020880\n",
       "Percent women                                                                        0.020880\n",
       "Percent children                                                                     0.075737\n",
       "Captain's name                                                                       0.861024\n",
       "dtype: float64"
      ]
     },
     "execution_count": 18,
     "metadata": {},
     "output_type": "execute_result"
    }
   ],
   "source": [
    "slave_voyages_df.count() / len(slave_voyages_df)"
   ]
  },
  {
   "cell_type": "markdown",
   "metadata": {},
   "source": [
    "For example, 100% of the rows in the columns \"year_of_arrival\" contain information, while 2% of the rows in the column \"resistance_label\" contain information. The \"resistance_label\" indicates whether there is a record of the enslaved Africans aboard the voyage staging some form of resistance."
   ]
  },
  {
   "cell_type": "markdown",
   "metadata": {},
   "source": [
    "### .fillna()"
   ]
  },
  {
   "cell_type": "markdown",
   "metadata": {},
   "source": [
    "If we wanted, we could fill the `NaN` values in the DataFrame with a different value by using the `.fillna()` method."
   ]
  },
  {
   "cell_type": "code",
   "execution_count": null,
   "metadata": {},
   "outputs": [],
   "source": [
    "slave_voyages_df['percent_women'].fillna('no gender information recorded')"
   ]
  },
  {
   "cell_type": "markdown",
   "metadata": {},
   "source": [
    "## Rename Columns"
   ]
  },
  {
   "cell_type": "markdown",
   "metadata": {},
   "source": [
    "We can rename columns with the [`.rename()` method](https://pandas.pydata.org/pandas-docs/stable/reference/api/pandas.DataFrame.rename.html) and the `columns=` parameter. For example, we can rename the \"flag\" column \"national_affiliation.\""
   ]
  },
  {
   "cell_type": "code",
   "execution_count": null,
   "metadata": {},
   "outputs": [],
   "source": [
    "slave_voyages_df.rename(columns={'flag': 'national_affiliation'})"
   ]
  },
  {
   "cell_type": "markdown",
   "metadata": {},
   "source": [
    "Renaming the \"flag\" column as above will only momentarily change that column's name, however. If we display our DataFrame, we will see that the column name has *not* changed permamently."
   ]
  },
  {
   "cell_type": "code",
   "execution_count": null,
   "metadata": {},
   "outputs": [],
   "source": [
    "slave_voyages_df.head(1)"
   ]
  },
  {
   "cell_type": "markdown",
   "metadata": {},
   "source": [
    "To save changes in the DataFrame, we need to reassign the DataFrame to the same variable."
   ]
  },
  {
   "cell_type": "code",
   "execution_count": null,
   "metadata": {},
   "outputs": [],
   "source": [
    "slave_voyages_df = slave_voyages_df.rename(columns={'flag': 'national_affiliation'})"
   ]
  },
  {
   "cell_type": "code",
   "execution_count": null,
   "metadata": {},
   "outputs": [],
   "source": [
    "slave_voyages_df.head(1)"
   ]
  },
  {
   "cell_type": "markdown",
   "metadata": {},
   "source": [
    "## Drop Columns"
   ]
  },
  {
   "cell_type": "markdown",
   "metadata": {},
   "source": [
    "We can remove a column from the DataFrame with the `.drop()` method and the column name."
   ]
  },
  {
   "cell_type": "code",
   "execution_count": null,
   "metadata": {},
   "outputs": [],
   "source": [
    "slave_voyages_df = slave_voyages_df.drop(columns=\"sources\")"
   ]
  },
  {
   "cell_type": "code",
   "execution_count": null,
   "metadata": {},
   "outputs": [],
   "source": [
    "slave_voyages_df.columns"
   ]
  },
  {
   "cell_type": "markdown",
   "metadata": {},
   "source": [
    "## Add Columns"
   ]
  },
  {
   "cell_type": "markdown",
   "metadata": {},
   "source": [
    "To add a column, we simply put a new column name in square brackets and set it equal to whatever we want the new column to be.\n",
    "\n",
    "For example, if we wanted to create new columns for the total women and men aboard each voyage, we could set them equal to the product of the \"total_disembarked\" column * the \"percent_women\" / \"percent_men\" columns."
   ]
  },
  {
   "cell_type": "code",
   "execution_count": null,
   "metadata": {},
   "outputs": [],
   "source": [
    "slave_voyages_df['total_women'] = slave_voyages_df['total_embarked'] * slave_voyages_df['percent_women']"
   ]
  },
  {
   "cell_type": "code",
   "execution_count": null,
   "metadata": {},
   "outputs": [],
   "source": [
    "slave_voyages_df['total_men'] = slave_voyages_df['total_embarked'] * slave_voyages_df['percent_men']"
   ]
  },
  {
   "cell_type": "markdown",
   "metadata": {},
   "source": [
    "If we scroll all the way to the right side of the DataFrame, we can see that these columns have been added."
   ]
  },
  {
   "cell_type": "code",
   "execution_count": null,
   "metadata": {},
   "outputs": [],
   "source": [
    "slave_voyages_df.head(1)"
   ]
  },
  {
   "cell_type": "markdown",
   "metadata": {},
   "source": [
    "## Sort Columns"
   ]
  },
  {
   "cell_type": "markdown",
   "metadata": {},
   "source": [
    "We can sort a DataFrame with the `.sort_values()` method, inside of which we include the parameter `by=` and indicate the name of the column we want to sort by (written in quotation marks).\n",
    "\n",
    "For example, we can sort the DataFrame by the voyages that had the largest proportion of enslaved women aboard."
   ]
  },
  {
   "cell_type": "code",
   "execution_count": null,
   "metadata": {},
   "outputs": [],
   "source": [
    "slave_voyages_df.sort_values(by='percent_women', ascending=False)"
   ]
  },
  {
   "cell_type": "markdown",
   "metadata": {},
   "source": [
    "By default, Pandas will sort in \"ascending\" order, from the smallest value to the largest value. If we want to sort the largest values first, we need to include another parameter `ascending=False`."
   ]
  },
  {
   "cell_type": "markdown",
   "metadata": {},
   "source": [
    "Because the DataFrame is truncated when it has more than 100 rows, we can use a Python list slice to view the top 30 (or any number less than 100) voyages with enslaved women aboard."
   ]
  },
  {
   "cell_type": "code",
   "execution_count": null,
   "metadata": {
    "scrolled": true,
    "tags": [
     "output_scroll"
    ]
   },
   "outputs": [],
   "source": [
    "slave_voyages_df.sort_values(by='percent_women', ascending=False)[:30]"
   ]
  },
  {
   "cell_type": "markdown",
   "metadata": {},
   "source": [
    "If we want to sort a Series object, we don't need to use the `by=` paramter."
   ]
  },
  {
   "cell_type": "code",
   "execution_count": null,
   "metadata": {},
   "outputs": [],
   "source": [
    "slave_voyages_df['total_women'].sort_values(ascending=False)"
   ]
  },
  {
   "cell_type": "markdown",
   "metadata": {},
   "source": [
    "## Calculate Columns"
   ]
  },
  {
   "cell_type": "markdown",
   "metadata": {},
   "source": [
    "We can do different calculations on columns with built-in Pandas functions. These calculations will ignore `NaN` values."
   ]
  },
  {
   "cell_type": "markdown",
   "metadata": {},
   "source": [
    "| Pandas calculations | Explanation                         |\n",
    "|----------|-------------------------------------|\n",
    "| `.count()`    | Number of observations    |\n",
    "| `.sum()`      | Sum of values                       |\n",
    "| `.mean()`     | Mean of values                      |\n",
    "| `.median()`   | Median of values         |\n",
    "| `.min()`      | Minimum                             |\n",
    "| `.max()`      | Maximum                             |\n",
    "| `.mode()`     | Mode                                |\n",
    "| `.std()`      | Unbiased standard deviation         |\n",
    "\n"
   ]
  },
  {
   "cell_type": "markdown",
   "metadata": {},
   "source": [
    "For example, to find the average proprotion of enslaved women aboard the voyages (for voyages that have this information), we can use the `.mean()` method."
   ]
  },
  {
   "cell_type": "code",
   "execution_count": null,
   "metadata": {},
   "outputs": [],
   "source": [
    "slave_voyages_df['percent_women'].mean()"
   ]
  },
  {
   "cell_type": "markdown",
   "metadata": {},
   "source": [
    "There were on average 27% enslaved women aboard the voyages for voyages that recorded this information."
   ]
  },
  {
   "cell_type": "code",
   "execution_count": null,
   "metadata": {},
   "outputs": [],
   "source": [
    "slave_voyages_df['percent_women'].max()"
   ]
  },
  {
   "cell_type": "markdown",
   "metadata": {},
   "source": [
    "The highest percentage of women aboard the slave voyages was 100%. We can use this calculation as a filter to identify the voyage(s) with this maximum value."
   ]
  },
  {
   "cell_type": "code",
   "execution_count": null,
   "metadata": {},
   "outputs": [],
   "source": [
    "slave_voyages_df[slave_voyages_df['percent_women'] == slave_voyages_df['percent_women'].max()]"
   ]
  },
  {
   "cell_type": "markdown",
   "metadata": {},
   "source": [
    "According to the Trans-Atlantic Slave Trade Database, the 1819 voyage of the S José Diligente had 100% enslaved women aboard."
   ]
  },
  {
   "cell_type": "markdown",
   "metadata": {},
   "source": [
    "As demonstrated previously, we can also perform calculations with columns themselves."
   ]
  },
  {
   "cell_type": "code",
   "execution_count": null,
   "metadata": {},
   "outputs": [],
   "source": [
    "(slave_voyages_df['total_embarked'] * slave_voyages_df['percent_women']).max()"
   ]
  },
  {
   "cell_type": "markdown",
   "metadata": {},
   "source": [
    "## Groupby Columns"
   ]
  },
  {
   "cell_type": "markdown",
   "metadata": {},
   "source": [
    "The Pandas function`.groupby()` allows us to group data and perform calculations on the groups.\n",
    "\n",
    "For example, Jennifer Morgan writes about how some nations recorded more information about the gender of the enslaved people aboard their voyages than other nations did. To see the breakdown of gender information by nation, we can use a `.groupby()` function.\n",
    "\n",
    "The first step to using groupby is to type the name of the DataFrame followed by `.groupby()` with the column we'd like to aggregate based on, such as \"national_affiliation.\""
   ]
  },
  {
   "cell_type": "code",
   "execution_count": null,
   "metadata": {},
   "outputs": [],
   "source": [
    "slave_voyages_df.groupby('national_affiliation')"
   ]
  },
  {
   "cell_type": "markdown",
   "metadata": {},
   "source": [
    "This action will created a [GroupBy object](https://pandas.pydata.org/pandas-docs/stable/user_guide/groupby.html). We can perform calculations on this grouped data, such as counting the number of non-blank values in each column for each nation."
   ]
  },
  {
   "cell_type": "code",
   "execution_count": null,
   "metadata": {
    "tags": [
     "full-width"
    ]
   },
   "outputs": [],
   "source": [
    "slave_voyages_df.groupby('national_affiliation').count()"
   ]
  },
  {
   "cell_type": "markdown",
   "metadata": {},
   "source": [
    "```{sidebar} On England's Slave Ship Records\n",
    "> For example, patterns emerge that suggest that English slave ship captains provided the most data related to the age or sex characteristics of the captives they transported and sold into slavery...The degree to which the practice of recording the sex of the passengers on board accords to national origin raises some interesting questions about the possible correlations between certain notational and national presumptions of accountability.\n",
    "\n",
    "-Jennifer Morgan, [\"Accounting for 'The Most Excruciating Torment'\"](https://read.dukeupress.edu/history-of-the-present/article-abstract/6/2/184/153282/Accounting-for-The-Most-Excruciating-Torment?redirectedFrom=PDF)\n",
    "```"
   ]
  },
  {
   "cell_type": "markdown",
   "metadata": {},
   "source": [
    "We can also isolate only the \"percent_women\" column."
   ]
  },
  {
   "cell_type": "code",
   "execution_count": null,
   "metadata": {},
   "outputs": [],
   "source": [
    "slave_voyages_df.groupby('national_affiliation').count()['percent_women']"
   ]
  },
  {
   "cell_type": "code",
   "execution_count": null,
   "metadata": {},
   "outputs": [],
   "source": [
    "slave_voyages_df.groupby('national_affiliation')['percent_women'].count().sort_values(ascending=False)"
   ]
  },
  {
   "cell_type": "markdown",
   "metadata": {},
   "source": [
    "```{margin} Line Breaks\n",
    "If a line of code gets too long, you can create a line break with a backslash `\\`\n",
    "```"
   ]
  },
  {
   "cell_type": "code",
   "execution_count": null,
   "metadata": {},
   "outputs": [],
   "source": [
    "slave_voyages_df.groupby('national_affiliation')['percent_women'].count()\\\n",
    ".sort_values(ascending=False).plot(kind='bar', title='Trans-Atlantic Slave Trade (Americas): \\n Slave Voyages with Recorded Gender Information')"
   ]
  },
  {
   "cell_type": "markdown",
   "metadata": {},
   "source": [
    "## Make Time Series with Groupby"
   ]
  },
  {
   "cell_type": "markdown",
   "metadata": {},
   "source": [
    "To make a time series, we would typically want to convert our date column into datetime values rather than integers."
   ]
  },
  {
   "cell_type": "code",
   "execution_count": null,
   "metadata": {},
   "outputs": [],
   "source": [
    "slave_voyages_df['year_of_arrival'].dtype"
   ]
  },
  {
   "cell_type": "markdown",
   "metadata": {},
   "source": [
    "Datetime values allow us to do special things that we can't do with regular integers and floats, such as extract just the year, month, week, day, or second from any date or aggregate based on any of the above.\n",
    "\n",
    "Since we're only working with year information, however, we can make some simple time series plots just by grouping by the year column and performing calculations on those year groupings, such as calculating the average percentage of enslaved women aboard the voyages over time."
   ]
  },
  {
   "cell_type": "code",
   "execution_count": null,
   "metadata": {},
   "outputs": [],
   "source": [
    "slave_voyages_df.groupby('year_of_arrival')['percent_women'].mean()\\\n",
    ".plot(title=\"Trans-Atlantic Slave Trade (Americas):\\nAverage Percentage of Enslaved Women on Voyages\")"
   ]
  },
  {
   "cell_type": "markdown",
   "metadata": {},
   "source": [
    "We can do the same thing with the total number of women, this time taking the sum for every year."
   ]
  },
  {
   "cell_type": "code",
   "execution_count": null,
   "metadata": {},
   "outputs": [],
   "source": [
    "slave_voyages_df.groupby('year_of_arrival')['total_women'].sum()\\\n",
    ".plot(kind='area', title=\"Trans-Atlantic Slave Trade (Americas):\\nTotal Number of Enslaved Women on Voyages\")"
   ]
  },
  {
   "cell_type": "markdown",
   "metadata": {},
   "source": [
    "We can plot multiple columns at the same time by using two square brackets. For example, we can compare the total number of women and men aboard the voyages."
   ]
  },
  {
   "cell_type": "code",
   "execution_count": null,
   "metadata": {},
   "outputs": [],
   "source": [
    "slave_voyages_df.groupby('year_of_arrival')[['total_women', 'total_men']].sum()\\\n",
    ".plot(kind='area', title=\"Trans-Atlantic Slave Trade (Americas):\\nTotal Number of Enslaved Women and Men on Voyages\")"
   ]
  },
  {
   "cell_type": "markdown",
   "metadata": {},
   "source": [
    "Finally, we can also add in the total number of enslaved people who embarked on the voyages, offering a perspective of how mcuh gender information we have about the voyages compared to the total number of voyages."
   ]
  },
  {
   "cell_type": "code",
   "execution_count": null,
   "metadata": {},
   "outputs": [],
   "source": [
    "slave_voyages_df.groupby('year_of_arrival')[['total_women',  'total_men', 'total_embarked']].sum()\\\n",
    ".plot(kind='area', title='Trans-Atlantic Slave Trade (Americas):\\nTotal Number of Enslaved People on Voyages')"
   ]
  }
 ],
 "metadata": {
  "kernelspec": {
   "display_name": "Python 3",
   "language": "python",
   "name": "python3"
  },
  "language_info": {
   "codemirror_mode": {
    "name": "ipython",
    "version": 3
   },
   "file_extension": ".py",
   "mimetype": "text/x-python",
   "name": "python",
   "nbconvert_exporter": "python",
   "pygments_lexer": "ipython3",
   "version": "3.7.4"
  }
 },
 "nbformat": 4,
 "nbformat_minor": 4
}
