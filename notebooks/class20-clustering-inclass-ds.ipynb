{
 "cells": [
  {
   "cell_type": "markdown",
   "metadata": {},
   "source": [
    "# Clustering \n",
    "\n",
    "*Based on materials by Brandon Rose, Jacob Eisenstein, and Eun Seo Jo et al.*\n",
    "\n",
    "Last week, we learned about classification, which assumes we have a test set of data that we have already categorized: in our case, we categorized by gender. When we run models with labeled data, we call it _supervised learning_.\n",
    "\n",
    "But what happens when we don't have labeled data? Is it possible to learn anything? \n",
    "\n",
    "This scenario is known as *unsupervised learning*, and we will see that it is very possible to learn about the underlying structure of unlabeled observations. "
   ]
  },
  {
   "cell_type": "markdown",
   "metadata": {},
   "source": [
    "## An example\n",
    "\n",
    "Here’s a scenario: \n",
    "\n",
    "Suppose you scrape thousands of news articles. And suppose you want to organize, or cluster, those documents by their prevalence of language about hurricanes vs elections. You could choose a group of words relate to hurricanes and make the x-axis the frequency with which those words appear in the documents. You could do the same for words related to elections on the y-axis. We might imagine the articles clustering into four groups: one for documents that are largely about a hurricane, another for documents largely about a election, a third for documents about neither, and a fourth for documents, however unlikely, about both.\n",
    "\n",
    "These clusters represent an underlying structure of the data. But it's still supervised, because we've labeled words as belonging to categories and used them to organize documents.\n",
    "\n",
    "Unsupervised learning applies the same basic idea, but in a high-dimensional space with one dimension for every word. As such, the space can’t be visualized. But the goal is the same as in two-dimensions: identify an underlying structure of the observed data, such that documents cluster, and each cluster is internally coherent. \n",
    "\n",
    "**Clustering algorithms** are capable of finding such structure automatically."
   ]
  },
  {
   "cell_type": "markdown",
   "metadata": {},
   "source": [
    "## Enter k-means clustering \n",
    "\n",
    "Clustering algorithms assign each data point—for us, each document—to a discrete cluster. One of the best known clustering algorithms is k-means, an iterative algorithm that maintains a cluster assignment for each instance, and a central (\"mean\") location for each cluster. K-means iterates between updates to the assignments and the centers:\n",
    "\n",
    "1. each instance is placed in the cluster with the closest center;\n",
    "\n",
    "2. each center is recomputed as the average over points in the cluster."
   ]
  },
  {
   "cell_type": "markdown",
   "metadata": {},
   "source": [
    "**NOTE:** An important property of k-means is that the converged solution depends on the initialization, and a better clustering can sometimes be found simply by re-running the algorithm from a different random starting point."
   ]
  },
  {
   "cell_type": "markdown",
   "metadata": {},
   "source": [
    "## Let's get to it! ##\n",
    "\n",
    "In this example, we're going to use k-means clustering to identify the latent structures within the synopses of the top 100 films of all time (per an IMDB list), a corpus created by Brandon Rose. See [the original post](http://www.brandonrose.org/top100) for a more detailed discussion on the corpus."
   ]
  },
  {
   "cell_type": "markdown",
   "metadata": {},
   "source": [
    "Let's start with the imports. They include old friends: re, BeautifulSoup, nltk, pandas, sklearn, a veritable journey through our semester:"
   ]
  },
  {
   "cell_type": "code",
   "execution_count": null,
   "metadata": {},
   "outputs": [],
   "source": [
    "import numpy as np\n",
    "import pandas as pd\n",
    "import nltk\n",
    "from bs4 import BeautifulSoup \n",
    "import re \n",
    "from sklearn import feature_extraction"
   ]
  },
  {
   "cell_type": "markdown",
   "metadata": {},
   "source": [
    "## Corpus Pre-Proccesing ##\n",
    "\n",
    "Here we go again. Let's pre-process our corpus. "
   ]
  },
  {
   "cell_type": "code",
   "execution_count": null,
   "metadata": {},
   "outputs": [],
   "source": [
    "# import three lists: titles, links, and wikipedia synopses\n",
    "titles = open('../docs/title_list.txt').read().split('\\n')\n",
    "\n",
    "# ensures that only the first 100 are read in\n",
    "titles = titles[:100]\n",
    "\n",
    "links = open('../docs/link_list_imdb.txt').read().split('\\n')\n",
    "links = links[:100]\n",
    "\n",
    "synopses_wiki = open('../docs/synopses_list_wiki.txt').read().split('\\n BREAKS HERE')\n",
    "synopses_wiki = synopses_wiki[:100]\n",
    "\n",
    "synopses_clean_wiki = []\n",
    "\n",
    "for text in synopses_wiki:\n",
    "    text = BeautifulSoup(text, 'html.parser').getText()\n",
    "    # strips html formatting and converts to unicode\n",
    "    synopses_clean_wiki.append(text)\n",
    "\n",
    "synopses_wiki = synopses_clean_wiki\n",
    "    \n",
    "genres = open('../docs/genres_list.txt').read().split('\\n')\n",
    "genres = genres[:100]\n",
    "\n",
    "print(str(len(titles)) + ' titles')\n",
    "print(str(len(links)) + ' links')\n",
    "print(str(len(synopses_wiki)) + ' synopses')\n",
    "print(str(len(genres)) + ' genres')"
   ]
  },
  {
   "cell_type": "code",
   "execution_count": null,
   "metadata": {},
   "outputs": [],
   "source": [
    "Let's see what movies we have."
   ]
  },
  {
   "cell_type": "code",
   "execution_count": 53,
   "metadata": {},
   "outputs": [
    {
     "name": "stdout",
     "output_type": "stream",
     "text": [
      "The Godfather [u' Crime', u' Drama']\n",
      "The Shawshank Redemption [u' Crime', u' Drama']\n",
      "Schindler's List [u' Biography', u' Drama', u' History']\n",
      "Raging Bull [u' Biography', u' Drama', u' Sport']\n",
      "Casablanca [u' Drama', u' Romance', u' War']\n",
      "One Flew Over the Cuckoo's Nest [u' Drama']\n",
      "Gone with the Wind [u' Drama', u' Romance', u' War']\n",
      "Citizen Kane [u' Drama', u' Mystery']\n",
      "The Wizard of Oz [u' Adventure', u' Family', u' Fantasy', u' Musical']\n",
      "Titanic [u' Drama', u' Romance']\n",
      "Lawrence of Arabia [u' Adventure', u' Biography', u' Drama', u' History', u' War']\n",
      "The Godfather: Part II [u' Crime', u' Drama']\n",
      "Psycho [u' Horror', u' Mystery', u' Thriller']\n",
      "Sunset Blvd. [u' Drama', u' Film-Noir']\n",
      "Vertigo [u' Mystery', u' Romance', u' Thriller']\n",
      "On the Waterfront [u' Crime', u' Drama']\n",
      "Forrest Gump [u' Drama', u' Romance']\n",
      "The Sound of Music [u' Biography', u' Drama', u' Family', u' Musical', u' Romance']\n",
      "West Side Story [u' Crime', u' Drama', u' Musical', u' Romance', u' Thriller']\n",
      "Star Wars [u' Action', u' Adventure', u' Fantasy', u' Sci-Fi']\n",
      "E.T. the Extra-Terrestrial [u' Adventure', u' Family', u' Sci-Fi']\n",
      "2001: A Space Odyssey [u' Mystery', u' Sci-Fi']\n",
      "The Silence of the Lambs [u' Crime', u' Drama', u' Thriller']\n",
      "Chinatown [u' Drama', u' Mystery', u' Thriller']\n",
      "The Bridge on the River Kwai [u' Adventure', u' Drama', u' War']\n",
      "Singin' in the Rain [u' Comedy', u' Musical', u' Romance']\n",
      "It's a Wonderful Life [u' Drama', u' Family', u' Fantasy']\n",
      "Some Like It Hot [u' Comedy']\n",
      "12 Angry Men [u' Drama']\n",
      "Dr. Strangelove or: How I Learned to Stop Worrying and Love the Bomb [u' Comedy', u' War']\n",
      "Amadeus [u' Biography', u' Drama', u' Music']\n",
      "Apocalypse Now [u' Drama', u' War']\n",
      "Gandhi [u' Biography', u' Drama', u' History']\n",
      "The Lord of the Rings: The Return of the King [u' Adventure', u' Fantasy']\n",
      "Gladiator [u' Action', u' Drama']\n",
      "From Here to Eternity [u' Drama', u' Romance', u' War']\n",
      "Saving Private Ryan [u' Action', u' Drama', u' War']\n",
      "Unforgiven [u' Western']\n",
      "Raiders of the Lost Ark [u' Action', u' Adventure']\n",
      "Rocky [u' Drama', u' Sport']\n",
      "A Streetcar Named Desire [u' Drama']\n",
      "The Philadelphia Story [u' Comedy', u' Romance']\n",
      "To Kill a Mockingbird [u' Drama']\n",
      "An American in Paris [u' Musical', u' Romance']\n",
      "The Best Years of Our Lives [u' Drama', u' Romance', u' War']\n",
      "My Fair Lady [u' Drama', u' Family', u' Musical', u' Romance']\n",
      "Ben-Hur [u' Adventure', u' Drama']\n",
      "Doctor Zhivago [u' Drama', u' Romance', u' War']\n",
      "Patton [u' Biography', u' Drama', u' War']\n",
      "Jaws [u' Drama', u' Thriller']\n",
      "Braveheart [u' Action', u' Biography', u' Drama', u' History', u' War']\n",
      "The Good, the Bad and the Ugly [u' Western']\n",
      "Butch Cassidy and the Sundance Kid [u' Biography', u' Crime', u' Western']\n",
      "The Treasure of the Sierra Madre [u' Action', u' Adventure', u' Drama', u' Western']\n",
      "The Apartment [u' Comedy', u' Drama', u' Romance']\n",
      "Platoon [u' Drama', u' War']\n",
      "High Noon [u' Western']\n",
      "Dances with Wolves [u' Adventure', u' Drama', u' Western']\n",
      "The Pianist [u' Biography', u' Drama', u' War']\n",
      "Goodfellas [u' Biography', u' Crime', u' Drama']\n",
      "The Exorcist [u' Horror']\n",
      "The Deer Hunter [u' Drama', u' War']\n",
      "All Quiet on the Western Front [u' Drama', u' War']\n",
      "The French Connection [u' Action', u' Crime', u' Thriller']\n",
      "City Lights [u' Comedy', u' Drama', u' Romance']\n",
      "The King's Speech [u' Biography', u' Drama', u' History']\n",
      "It Happened One Night [u' Comedy', u' Romance']\n",
      "A Place in the Sun [u' Drama', u' Romance']\n",
      "Midnight Cowboy [u' Drama']\n",
      "Mr. Smith Goes to Washington [u' Drama']\n",
      "Rain Man [u' Drama']\n",
      "Annie Hall [u' Comedy', u' Drama', u' Romance']\n",
      "Out of Africa [u' Biography', u' Drama', u' Romance']\n",
      "Good Will Hunting [u' Drama']\n",
      "Terms of Endearment [u' Comedy', u' Drama']\n",
      "Tootsie [u' Comedy', u' Drama', u' Romance']\n",
      "Fargo [u' Crime', u' Drama', u' Thriller']\n",
      "Giant [u' Drama', u' Romance']\n",
      "The Grapes of Wrath [u' Drama']\n",
      "Shane [u' Drama', u' Romance', u' Western']\n",
      "The Green Mile [u' Crime', u' Drama', u' Fantasy', u' Mystery']\n",
      "Close Encounters of the Third Kind [u' Drama', u' Sci-Fi']\n",
      "Network [u' Drama']\n",
      "Nashville [u' Drama', u' Music']\n",
      "The Graduate [u' Comedy', u' Drama', u' Romance']\n",
      "American Graffiti [u' Comedy', u' Drama']\n",
      "Pulp Fiction [u' Crime', u' Drama', u' Thriller']\n",
      "The African Queen [u' Adventure', u' Romance', u' War']\n",
      "Stagecoach [u' Adventure', u' Western']\n",
      "Mutiny on the Bounty [u' Adventure', u' Drama', u' History']\n",
      "The Maltese Falcon [u' Drama', u' Film-Noir', u' Mystery']\n",
      "A Clockwork Orange [u' Crime', u' Drama', u' Sci-Fi']\n",
      "Taxi Driver [u' Crime', u' Drama']\n",
      "Wuthering Heights [u' Drama', u' Romance']\n",
      "Double Indemnity [u' Crime', u' Drama', u' Film-Noir', u' Thriller']\n",
      "Rebel Without a Cause [u' Drama']\n",
      "Rear Window [u' Mystery', u' Thriller']\n",
      "The Third Man [u' Film-Noir', u' Mystery', u' Thriller']\n",
      "North by Northwest [u' Mystery', u' Thriller']\n"
     ]
    }
   ],
   "source": [
    "for x in range(99):\n",
    "    print(titles[x], genres[x])"
   ]
  },
  {
   "cell_type": "markdown",
   "metadata": {},
   "source": [
    "Let's check out the first synopsis"
   ]
  },
  {
   "cell_type": "code",
   "execution_count": 51,
   "metadata": {},
   "outputs": [
    {
     "name": "stdout",
     "output_type": "stream",
     "text": [
      " Plot  [edit]  [  [  edit  edit  ]  ]  \n",
      "  On the day of his only daughter's wedding, Vito Corleone hears requests in his role as the Godfather, the Don of a New York crime family. Vito's youngest son, Michael, in a Marine Corps uniform, introduces his girlfriend, Kay Adams, to his family at the sprawling reception. Vito's godson Johnny Fontane, a popular singer, pleads for help in securing a coveted movie role, so Vito dispatches his consigliere, Tom Hagen, to Los Angeles to influence the abrasive studio head, Jack Woltz. Woltz is unmoved until the morning he wakes up in bed with the severed head of his prized stallion.  On the day of his only daughter's wedding,   Vito Corleone  Vito Corleone   hears requests in his role as the Godfather, the   Don  Don   of a New York crime family. Vito's youngest son,   Michael  Michael  , in a   Marine Corps  Marine Corps   uniform, introduces his girlfriend,   Kay Adams  Kay Adams  , to his family at the sprawling reception. Vito's godson   Johnny Fontane  Johnny Fontane  , a popular singer, pleads for help in securing a coveted movie role, so Vito dispatches his   consigliere  consigliere  ,   Tom Hagen  Tom Hagen  , to Los Angeles to influence the abrasive studio head,   Jack Woltz  Jack Woltz  . Woltz is unmoved until the morning he wakes up in bed with the severed head of his prized   stallion  stallion  .  \n",
      "  Shortly before Christmas 1945, drug baron Virgil \"The Turk\" Sollozzo, backed by the Corleones' rivals, the Tattaglias, asks Vito for investment in the emerging drug trade and protection through his political connections. Vito disapproves of drug dealers, so he sends his enforcer, Luca Brasi, to spy on them. The family then receives two fish wrapped in Brasi's vest, imparting that he \"sleeps with the fishes\". An assassination attempt by Sollozzo's men lands Vito in the hospital, so his eldest son, Sonny, takes command. Sollozzo kidnaps Hagen to pressure Sonny to accept his deal. Michael thwarts a second assassination attempt on his father at the hospital; his jaw is broken by Police Captain McCluskey, who is also Sollozzo's bodyguard. Sonny retaliates for the attacks on his father by having Tattaglia's son killed. Michael comes up with a plan to hit Sollozzo and McCluskey: on the pretext of settling the dispute, Michael accepts their offer to meet in a Bronx restaurant and, retrieving a planted handgun, murders them.  Shortly before Christmas 1945, drug baron   Virgil \"The Turk\" Sollozzo  Virgil \"The Turk\" Sollozzo  , backed by the Corleones' rivals, the Tattaglias, asks Vito for investment in the emerging drug trade and protection through his political connections. Vito disapproves of drug dealers, so he sends his enforcer,   Luca Brasi  Luca Brasi  , to spy on them. The family then receives two fish wrapped in Brasi's vest, imparting that he \"sleeps with the fishes\". An assassination attempt by Sollozzo's men lands Vito in the hospital, so his eldest son,   Sonny  Sonny  , takes command. Sollozzo kidnaps Hagen to pressure Sonny to accept his deal. Michael thwarts a second assassination attempt on his father at the hospital; his jaw is broken by Police Captain McCluskey, who is also Sollozzo's bodyguard. Sonny retaliates for the attacks on his father by having Tattaglia's son killed. Michael comes up with a plan to hit Sollozzo and McCluskey: on the pretext of settling the dispute, Michael accepts their offer to meet in a Bronx restaurant and, retrieving a planted handgun, murders them.  \n",
      "  Despite a clampdown from the authorities, the Five Families erupt in open warfare and the brothers fear for their safety. Michael takes refuge in Sicily, and Fredo Corleone is sheltered by associate Moe Greene in Las Vegas. Sonny attacks his brother-in-law Carlo on the street for abusing his sister Connie and threatens to kill him if he abuses her again. When it happens again, Sonny speeds for her home but assassins ambush him at a highway toll booth and riddle him with submachine gun fire. Michael's time abroad has led to marriage to Apollonia Vitelli. Their euphoria is shattered when a car bomb intended for him takes her life.  Despite a clampdown from the authorities, the   Five Families  Five Families   erupt in open warfare and the brothers fear for their safety. Michael takes refuge in Sicily, and   Fredo Corleone  Fredo Corleone   is sheltered by associate   Moe Greene  Moe Greene   in   Las Vegas  Las Vegas  . Sonny attacks his brother-in-law   Carlo  Carlo   on the street for abusing his sister Connie and threatens to kill him if he abuses her again. When it happens again, Sonny speeds for her home but assassins ambush him at a highway toll booth and riddle him with submachine gun fire. Michael's time abroad has led to marriage to Apollonia Vitelli. Their euphoria is shattered when a car bomb intended for him takes her life.  \n",
      "  Devastated by Sonny's death, Vito decides to end the feuds. Realising that the Tattaglias were under orders of the now dominant Don Emilio Barzini, he promises, before the heads of the Five Families, to withdraw his opposition to their heroin business and forgo revenge for his son's murder. His safety guaranteed, Michael returns home to a father saddened by his involvement in the family business and marries Kay the next year.  Devastated by Sonny's death, Vito decides to end the feuds. Realising that the Tattaglias were under orders of the now dominant Don   Emilio Barzini  Emilio Barzini  , he promises, before the heads of the Five Families, to withdraw his opposition to their heroin business and forgo revenge for his son's murder. His safety guaranteed, Michael returns home to a father saddened by his involvement in the family business and marries Kay the next year.  \n",
      "  With his father at the end of his career and his surviving brother too weak, Michael takes the reins of the family, promising Kay that he will make the business legitimate within five years. To that end, he insists Hagen relocate to Las Vegas and relinquish his role to Vito because Tom is not a \"wartime consigliere\"; the older man agrees Tom should \"have no part in what will happen\" in the coming battles with rival families. When Michael travels to Las Vegas to buy out Greene's stake in the family's casinos, Greene derides the Corleones as a fading power. To add injury to insult, Michael sees Fredo falling under Greene's sway.  With his father at the end of his career and his surviving brother too weak, Michael takes the reins of the family, promising Kay that he will make the business legitimate within five years. To that end, he insists Hagen relocate to Las Vegas and relinquish his role to Vito because Tom is not a \"wartime consigliere\"; the older man agrees Tom should \"have no part in what will happen\" in the coming battles with rival families. When Michael travels to Las Vegas to buy out Greene's stake in the family's casinos, Greene derides the Corleones as a fading power. To add injury to insult, Michael sees Fredo falling under Greene's sway.  \n",
      "  Vito collapses and dies in his garden while playing with Michael's son, Anthony. At the funeral, Salvatore Tessio arranges a meeting between Michael and Don Barzini, signalling his treachery as Vito had warned. The meeting is set for the same day as the christening of Connie's son, to whom Michael will stand as godfather. As the christening proceeds, Corleone assassins, acting on Michael's orders, murder the other New York dons and Moe Greene. Tessio is told that Michael is aware of his betrayal and taken off to his death. After Carlo is questioned by Michael on his involvement in setting up Sonny's murder and confesses he was contacted by Barzini, Peter Clemenza kills him with a wire garrote. Michael is confronted by Connie, who accuses him of having her husband killed. He denies killing Carlo when questioned by Kay, an answer she accepts. As Kay watches warily, Michael receives his capos, who address him as the new Don Corleone.  Vito collapses and dies in his garden while playing with Michael's son,   Anthony  Anthony  . At the funeral,   Salvatore Tessio  Salvatore Tessio   arranges a meeting between Michael and Don Barzini, signalling his treachery as Vito had warned. The meeting is set for the same day as the christening of Connie's son, to whom Michael will stand as godfather. As the christening proceeds, Corleone assassins, acting on Michael's orders, murder the other New York dons and Moe Greene. Tessio is told that Michael is aware of his betrayal and taken off to his death. After Carlo is questioned by Michael on his involvement in setting up Sonny's murder and confesses he was contacted by Barzini,   Peter Clemenza  Peter Clemenza   kills him with a wire   garrote  garrote  . Michael is confronted by Connie, who accuses him of having her husband killed. He denies killing Carlo when questioned by Kay, an answer she accepts. As Kay watches warily, Michael receives his   capos  capos  , who address him as the new Don Corleone.  \n",
      " \n"
     ]
    }
   ],
   "source": [
    "print(synopses_wiki[0])"
   ]
  },
  {
   "cell_type": "markdown",
   "metadata": {},
   "source": [
    "And genres:"
   ]
  },
  {
   "cell_type": "code",
   "execution_count": 52,
   "metadata": {},
   "outputs": [
    {
     "name": "stdout",
     "output_type": "stream",
     "text": [
      "[u' Crime', u' Drama']\n",
      "[u' Crime', u' Drama']\n",
      "[u' Biography', u' Drama', u' History']\n",
      "[u' Biography', u' Drama', u' Sport']\n",
      "[u' Drama', u' Romance', u' War']\n",
      "[u' Drama']\n",
      "[u' Drama', u' Romance', u' War']\n",
      "[u' Drama', u' Mystery']\n",
      "[u' Adventure', u' Family', u' Fantasy', u' Musical']\n",
      "[u' Drama', u' Romance']\n",
      "[u' Adventure', u' Biography', u' Drama', u' History', u' War']\n",
      "[u' Crime', u' Drama']\n",
      "[u' Horror', u' Mystery', u' Thriller']\n",
      "[u' Drama', u' Film-Noir']\n",
      "[u' Mystery', u' Romance', u' Thriller']\n",
      "[u' Crime', u' Drama']\n",
      "[u' Drama', u' Romance']\n",
      "[u' Biography', u' Drama', u' Family', u' Musical', u' Romance']\n",
      "[u' Crime', u' Drama', u' Musical', u' Romance', u' Thriller']\n",
      "[u' Action', u' Adventure', u' Fantasy', u' Sci-Fi']\n",
      "[u' Adventure', u' Family', u' Sci-Fi']\n",
      "[u' Mystery', u' Sci-Fi']\n",
      "[u' Crime', u' Drama', u' Thriller']\n",
      "[u' Drama', u' Mystery', u' Thriller']\n",
      "[u' Adventure', u' Drama', u' War']\n",
      "[u' Comedy', u' Musical', u' Romance']\n",
      "[u' Drama', u' Family', u' Fantasy']\n",
      "[u' Comedy']\n",
      "[u' Drama']\n",
      "[u' Comedy', u' War']\n",
      "[u' Biography', u' Drama', u' Music']\n",
      "[u' Drama', u' War']\n",
      "[u' Biography', u' Drama', u' History']\n",
      "[u' Adventure', u' Fantasy']\n",
      "[u' Action', u' Drama']\n",
      "[u' Drama', u' Romance', u' War']\n",
      "[u' Action', u' Drama', u' War']\n",
      "[u' Western']\n",
      "[u' Action', u' Adventure']\n",
      "[u' Drama', u' Sport']\n",
      "[u' Drama']\n",
      "[u' Comedy', u' Romance']\n",
      "[u' Drama']\n",
      "[u' Musical', u' Romance']\n",
      "[u' Drama', u' Romance', u' War']\n",
      "[u' Drama', u' Family', u' Musical', u' Romance']\n",
      "[u' Adventure', u' Drama']\n",
      "[u' Drama', u' Romance', u' War']\n",
      "[u' Biography', u' Drama', u' War']\n",
      "[u' Drama', u' Thriller']\n",
      "[u' Action', u' Biography', u' Drama', u' History', u' War']\n",
      "[u' Western']\n",
      "[u' Biography', u' Crime', u' Western']\n",
      "[u' Action', u' Adventure', u' Drama', u' Western']\n",
      "[u' Comedy', u' Drama', u' Romance']\n",
      "[u' Drama', u' War']\n",
      "[u' Western']\n",
      "[u' Adventure', u' Drama', u' Western']\n",
      "[u' Biography', u' Drama', u' War']\n",
      "[u' Biography', u' Crime', u' Drama']\n",
      "[u' Horror']\n",
      "[u' Drama', u' War']\n",
      "[u' Drama', u' War']\n",
      "[u' Action', u' Crime', u' Thriller']\n",
      "[u' Comedy', u' Drama', u' Romance']\n",
      "[u' Biography', u' Drama', u' History']\n",
      "[u' Comedy', u' Romance']\n",
      "[u' Drama', u' Romance']\n",
      "[u' Drama']\n",
      "[u' Drama']\n",
      "[u' Drama']\n",
      "[u' Comedy', u' Drama', u' Romance']\n",
      "[u' Biography', u' Drama', u' Romance']\n",
      "[u' Drama']\n",
      "[u' Comedy', u' Drama']\n",
      "[u' Comedy', u' Drama', u' Romance']\n",
      "[u' Crime', u' Drama', u' Thriller']\n",
      "[u' Drama', u' Romance']\n",
      "[u' Drama']\n",
      "[u' Drama', u' Romance', u' Western']\n",
      "[u' Crime', u' Drama', u' Fantasy', u' Mystery']\n",
      "[u' Drama', u' Sci-Fi']\n",
      "[u' Drama']\n",
      "[u' Drama', u' Music']\n",
      "[u' Comedy', u' Drama', u' Romance']\n",
      "[u' Comedy', u' Drama']\n",
      "[u' Crime', u' Drama', u' Thriller']\n",
      "[u' Adventure', u' Romance', u' War']\n",
      "[u' Adventure', u' Western']\n",
      "[u' Adventure', u' Drama', u' History']\n",
      "[u' Drama', u' Film-Noir', u' Mystery']\n",
      "[u' Crime', u' Drama', u' Sci-Fi']\n",
      "[u' Crime', u' Drama']\n",
      "[u' Drama', u' Romance']\n",
      "[u' Crime', u' Drama', u' Film-Noir', u' Thriller']\n",
      "[u' Drama']\n",
      "[u' Mystery', u' Thriller']\n",
      "[u' Film-Noir', u' Mystery', u' Thriller']\n",
      "[u' Mystery', u' Thriller']\n",
      "[u' Biography', u' Drama', u' Musical']\n"
     ]
    }
   ],
   "source": [
    "for genre in genres:\n",
    "    print(genre)"
   ]
  },
  {
   "cell_type": "code",
   "execution_count": null,
   "metadata": {},
   "outputs": [],
   "source": [
    "# now let's get the imdb synopses\n",
    "\n",
    "synopses_imdb = open('../docs/synopses_list_imdb.txt').read().split('\\n BREAKS HERE')\n",
    "synopses_imdb = synopses_imdb[:100]\n",
    "\n",
    "synopses_clean_imdb = []\n",
    "\n",
    "for text in synopses_imdb:\n",
    "    text = BeautifulSoup(text, 'html.parser').getText()\n",
    "    #strips html formatting and converts to unicode\n",
    "    synopses_clean_imdb.append(text)\n",
    "\n",
    "synopses_imdb = synopses_clean_imdb"
   ]
  },
  {
   "cell_type": "code",
   "execution_count": null,
   "metadata": {},
   "outputs": [],
   "source": [
    "# make a list with the two sets of synopses—from imbdb and wikipedia\n",
    "\n",
    "synopses = []\n",
    "\n",
    "for i in range(len(synopses_wiki)):\n",
    "    item = synopses_wiki[i] + synopses_imdb[i]\n",
    "    synopses.append(item)\n",
    "\n",
    "# see what one looks like\n",
    "print(synopses[0])"
   ]
  },
  {
   "cell_type": "markdown",
   "metadata": {},
   "source": [
    "### For document clustering, some people like to stem first ###"
   ]
  },
  {
   "cell_type": "code",
   "execution_count": null,
   "metadata": {},
   "outputs": [],
   "source": [
    "import sys\n",
    "# !{sys.executable} -m pip install textblob # an alternative to spaCy\n",
    "from textblob import TextBlob\n",
    "\n",
    "def textblob_tokenizer(str_input):\n",
    "    blob = TextBlob(str_input.lower())\n",
    "    tokens = blob.words\n",
    "    words = [token.stem() for token in tokens]\n",
    "    return words"
   ]
  },
  {
   "cell_type": "markdown",
   "metadata": {},
   "source": [
    "## Now tf-idf"
   ]
  },
  {
   "cell_type": "code",
   "execution_count": null,
   "metadata": {},
   "outputs": [],
   "source": [
    "from sklearn.feature_extraction.text import TfidfVectorizer\n",
    "\n",
    "tfidf_vectorizer = TfidfVectorizer(stop_words='english', use_idf=True, \n",
    "                                    ngram_range=(1,3), min_df=.2, max_df=0.8) #note new params\n",
    "\n",
    "tfidf_vectorizer_vectors = tfidf_vectorizer.fit_transform(synopses)\n",
    "\n",
    "print(tfidf_vectorizer_vectors.shape)"
   ]
  },
  {
   "cell_type": "code",
   "execution_count": null,
   "metadata": {},
   "outputs": [],
   "source": [
    "# get our feature names for future reference \n",
    "terms = tfidf_vectorizer.get_feature_names()\n",
    "terms"
   ]
  },
  {
   "cell_type": "code",
   "execution_count": null,
   "metadata": {},
   "outputs": [],
   "source": [
    "# get the first vector out (for the first synopsis) just to see what it looks like \n",
    "first_vector_tfidfvectorizer=tfidf_vectorizer_vectors[0]\n",
    " \n",
    "# place tf-idf values in a pandas data frame\n",
    "df = pd.DataFrame(first_vector_tfidfvectorizer.T.todense(), index=terms, columns=[\"tfidf\"])\n",
    "\n",
    "df.sort_values(by=[\"tfidf\"],ascending=False).head(10)"
   ]
  },
  {
   "cell_type": "markdown",
   "metadata": {},
   "source": [
    "## And on to the k-means clustering"
   ]
  },
  {
   "cell_type": "markdown",
   "metadata": {},
   "source": [
    "Using our tf-idf vectors, we can now run the k-means clustering algorithm. Remember that K-means initializes with a pre-determined number of clusters. Let's choose 5. \n",
    "\n",
    "**NOTE:** In general, there is no method for determining exact value of k, but an accurate estimate can be obtained using the following technique:\n",
    "\n",
    "One of the metrics that is commonly used to compare results across different values of k is the mean distance between data points and their cluster centroid. Since increasing the number of clusters will always reduce the distance to data points, increasing k will always decrease this metric, to the extreme of reaching zero when k is the same as the number of data points. Thus, this metric cannot be used as the sole target. Instead, mean distance to the centroid as a functionkof k is plotted and the \"elbow point,\" where the rate of decrease sharply shifts, can be used to roughly determine K.\n",
    "\n",
    "A number of other techniques exist for validating k, but that's the most common one. \n",
    "\n",
    "In any case, back to our clusters:"
   ]
  },
  {
   "cell_type": "code",
   "execution_count": null,
   "metadata": {},
   "outputs": [],
   "source": [
    "from sklearn.cluster import KMeans\n",
    "\n",
    "num_clusters = 5\n",
    "\n",
    "km = KMeans(n_clusters=num_clusters, n_init=10) # default is also 10, but good to know \n",
    "\n",
    "km.fit(tfidf_vectorizer_vectors)\n",
    "\n",
    "# km.labels_ gives you the cluster assignments\n",
    "clusters = km.labels_.tolist()"
   ]
  },
  {
   "cell_type": "code",
   "execution_count": null,
   "metadata": {},
   "outputs": [],
   "source": [
    "# dump our clusters into a dataframe\n",
    "films = { 'title': titles, 'idx': list(range(100)), 'synopsis': synopses, 'cluster': clusters, 'genre': genres }\n",
    "\n",
    "film_df = pd.DataFrame(films, columns = ['title', 'idx', 'cluster', 'genre'])\n",
    "\n",
    "film_df"
   ]
  },
  {
   "cell_type": "code",
   "execution_count": null,
   "metadata": {},
   "outputs": [],
   "source": [
    "# find out how many films are in each cluster\n",
    "film_df['cluster'].value_counts()"
   ]
  },
  {
   "cell_type": "code",
   "execution_count": null,
   "metadata": {},
   "outputs": [],
   "source": [
    "# find the top terms per cluster\n",
    "\n",
    "# this orders by the distance of each term from the center\n",
    "# (cluster_centers_ returns an array of [n_clusters, n_features] )\n",
    "order_centroids = km.cluster_centers_.argsort()[:, ::-1] \n",
    "\n",
    "for i in range(num_clusters):\n",
    "    print(\"Cluster \" + str(i) + \" top words: \")\n",
    "    top_terms = \"\"\n",
    "   \n",
    "    for ind in order_centroids[i, :10]:\n",
    "        top_terms += terms[ind] + \", \"\n",
    "  \n",
    "    print(top_terms)"
   ]
  },
  {
   "cell_type": "code",
   "execution_count": null,
   "metadata": {},
   "outputs": [],
   "source": [
    "# find all films in each cluster    \n",
    "for i in range(num_clusters):  \n",
    "    print(\"Titles in cluster \" + str(i) + \": \")\n",
    "    cluster_titles = \"\"\n",
    "\n",
    "    # create new df of only the specific cluster\n",
    "    # remember boolean selection! \n",
    "    cluster_df = film_df[ film_df[\"cluster\"] == i ]\n",
    " \n",
    "    # create series of titles assoc w/ that cluster \n",
    "    for title in cluster_df['title']: \n",
    "        cluster_titles += title + \", \"\n",
    "\n",
    "    print(cluster_titles + \"\\n\")"
   ]
  },
  {
   "cell_type": "code",
   "execution_count": null,
   "metadata": {},
   "outputs": [],
   "source": [
    "# Find the top 10 films in each cluster    \n",
    "for i in range(num_clusters):  \n",
    "    \n",
    "    # returns array w/ distances to the centroid i \n",
    "    dist = km.transform(tfidf_vectorizer_vectors)[:, i] \n",
    "    \n",
    "    # return indices for top 10 for that cluster \n",
    "    idxs = np.argsort(dist)[::][:10] \n",
    "    \n",
    "    print(\"Top 10 films in cluster \" + str(i) + \": \")\n",
    "    cluster_top_films = \"\"\n",
    "\n",
    "    # look up film title by index\n",
    "    for idx in idxs: \n",
    "        cluster_top_films += film_df.loc[idx,'title'] + \", \"\n",
    "        \n",
    "    print(cluster_top_films + \"\\n\")"
   ]
  },
  {
   "cell_type": "markdown",
   "metadata": {},
   "source": [
    "## Dimensionality Reduction with T-SNE\n",
    "\n",
    "You have maybe heard of **t-sne** (is it TEA SNEA? or TAE SNAE..).  This is newer dimension reduction method that emphasizes visual convenience. The con of t-sne is that it is not as easily interpretable as k-means. It's also non-deterministic -- you'll get different but similar results everytime. But I thought you should play with it since it is widely used in machine learning today.\n",
    "\n",
    "Example projects: [hip hop](https://pudding.cool/2017/09/hip-hop-words/) and [wikipedia political ideologies](https://genekogan.com/works/wiki-tSNE/)"
   ]
  },
  {
   "cell_type": "code",
   "execution_count": null,
   "metadata": {},
   "outputs": [],
   "source": [
    "from sklearn.manifold import TSNE\n",
    "\n",
    "tsne = TSNE(n_components=2)\n",
    "\n",
    "embed = tsne.fit_transform(tfidf_vectorizer_vectors.toarray())\n",
    "xs, ys = zip(*embed) # we'll use these coords below, after we set up our plot"
   ]
  },
  {
   "cell_type": "markdown",
   "metadata": {},
   "source": [
    "## Visualizing document clusters"
   ]
  },
  {
   "cell_type": "code",
   "execution_count": null,
   "metadata": {},
   "outputs": [],
   "source": [
    "#set up colors per clusters using a dict\n",
    "cluster_colors = {0: '#1b9e77', 1: '#d95f02', 2: '#7570b3', 3: '#e7298a', 4: '#66a61e'}\n",
    "\n",
    "#set up cluster names using a dict\n",
    "cluster_names = {0: 'Cluster 0', \n",
    "                 1: 'Cluster 1', \n",
    "                 2: 'Cluster 2', \n",
    "                 3: 'Cluster 3', \n",
    "                 4: 'Cluster 4'}"
   ]
  },
  {
   "cell_type": "code",
   "execution_count": null,
   "metadata": {},
   "outputs": [],
   "source": [
    "#create data frame that has the result of the t-sne plus the cluster numbers and titles\n",
    "df = pd.DataFrame(dict(x=xs, y=ys, label=clusters, title=titles)) # here's where the coords come in \n",
    "\n",
    "#group by cluster\n",
    "groups = df.groupby('label')"
   ]
  },
  {
   "cell_type": "code",
   "execution_count": null,
   "metadata": {},
   "outputs": [],
   "source": [
    "# set up plot\n",
    "import matplotlib.pyplot as plt\n",
    "import matplotlib as mpl\n",
    "\n",
    "%matplotlib inline\n",
    "\n",
    "fig, ax = plt.subplots(figsize=(17, 9)) # set size\n",
    "ax.margins(0.05) # Optional, just adds 5% padding to the autoscaling\n",
    "\n",
    "# iterate through groups to layer the plot\n",
    "# note that I use the cluster_name and cluster_color dicts with the 'name' lookup to return \n",
    "# the appropriate color/label\n",
    "for name, group in groups:\n",
    "    ax.plot(group.x, group.y, marker='o', linestyle='', ms=12, label=cluster_names[name], color=cluster_colors[name], mec='none')\n",
    "    ax.set_aspect('auto')\n",
    "    ax.tick_params(\\\n",
    "        axis= 'x',          # changes apply to the x-axis\n",
    "        which='both',      # both major and minor ticks are affected\n",
    "        bottom=False,      # ticks along the bottom edge are off\n",
    "        top=False,         # ticks along the top edge are off\n",
    "        labelbottom=False)\n",
    "    ax.tick_params(\\\n",
    "        axis= 'y',         # changes apply to the y-axis\n",
    "        which='both',      # both major and minor ticks are affected\n",
    "        left=False,      # ticks along the bottom edge are off\n",
    "        top=False,         # ticks along the top edge are off\n",
    "        labelleft=False)\n",
    "    \n",
    "ax.legend(numpoints=1)  #show legend with only 1 point\n",
    "\n",
    "#add label in x,y position with the label as the film title\n",
    "for i in range(len(df)):\n",
    "    ax.text(df.iloc[i]['x'], df.iloc[i]['y'], df.iloc[i]['title'], size=8)  \n",
    "    \n",
    "plt.show() #show the plot\n"
   ]
  }
 ],
 "metadata": {
  "kernelspec": {
   "display_name": "Python 3",
   "language": "python",
   "name": "python3"
  },
  "language_info": {
   "codemirror_mode": {
    "name": "ipython",
    "version": 3
   },
   "file_extension": ".py",
   "mimetype": "text/x-python",
   "name": "python",
   "nbconvert_exporter": "python",
   "pygments_lexer": "ipython3",
   "version": "3.7.4"
  }
 },
 "nbformat": 4,
 "nbformat_minor": 1
}
