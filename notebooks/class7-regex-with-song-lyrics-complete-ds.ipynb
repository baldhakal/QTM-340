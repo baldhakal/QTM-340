{
 "cells": [
  {
   "cell_type": "markdown",
   "metadata": {},
   "source": [
    "## Cleaning Your Song Lyrics with Regex (and more Beautiful Soup)\n",
    "\n",
    "_Lauren F. Klein wrote version 1.0 of this notebook._\n",
    "\n",
    "As part of the homework due today, you did something like this:"
   ]
  },
  {
   "cell_type": "code",
   "execution_count": 5,
   "metadata": {},
   "outputs": [],
   "source": [
    "# get the text of some song lyrics\n",
    "import requests \n",
    "import re\n",
    "\n",
    "resp = requests.get(\"https://genius.com/Aretha-franklin-respect-lyrics\") \n",
    "html_str = resp.text"
   ]
  },
  {
   "cell_type": "markdown",
   "metadata": {},
   "source": [
    "## Import BeautifulSoup"
   ]
  },
  {
   "cell_type": "code",
   "execution_count": 2,
   "metadata": {},
   "outputs": [],
   "source": [
    "# use BeautifulSoup to find the lyrics tag on the page\n",
    "\n",
    "from bs4 import BeautifulSoup\n",
    "document = BeautifulSoup(html_str, \"html.parser\")\n",
    "lyrics = document.find(\"p\").text"
   ]
  },
  {
   "cell_type": "markdown",
   "metadata": {},
   "source": [
    "And you ended up with something that looked like this:"
   ]
  },
  {
   "cell_type": "code",
   "execution_count": 3,
   "metadata": {},
   "outputs": [
    {
     "data": {
      "text/plain": [
       "\"[Written by Otis Redding]\\n\\n[Verse 1]\\nWhat you want, baby, I got it\\nWhat you need, do you know I got it?\\n\\n[Chorus]\\nAll I'm askin' is for a little respect when you come home\\n(Just a little bit) Hey baby\\n(Just a little bit) when you get home\\n(Just a little bit) mister\\n(Just a little bit)\\n\\n[Verse 2]\\nI ain't gonna do you wrong while you're gone\\nAin't gon' do you wrong 'cause I don't wanna\\n\\n[Chorus]\\nAll I'm askin' is for a little respect when you come home\\n(Just a little bit) Baby\\n(Just a little bit) When you get home\\n(Just a little bit) Yeah\\n(Just a little bit)\\n\\n[Verse 3]\\nI'm about to give you all of my money\\nAnd all I'm askin' in return, honey\\nIs to give me my propers when you get home\\n\\n[Refrain]\\n(Just a, just a, just a, just a) Yeah, baby\\n(Just a, just a, just a, just a) When you get home\\n(Just a little bit) Yeah\\n(Just a little bit)\\n\\n[Verse 4]\\nOoh, your kisses, sweeter than honey\\nAnd guess what? So is my money\\n\\n[Chorus 2]\\nAll I want you to do for me, is give it to me when you get home\\n(Re, re, re ,re) Yeah baby\\n(Re, re, re ,re) Whip it to me\\n(Respect, just a little bit) When you get home, now\\n(Just a little bit)\\n\\n[Verse 5]\\nR-E-S-P-E-C-T, find out what it means to me\\nR-E-S-P-E-C-T, take care, TCB, oh\\n\\n[Outro]\\n(Sock it to me, sock it to me, sock it to me, sock it to me)\\nA little respect\\n(sock it to me, sock it to me, sock it to me, sock it to me)\\nWhoa, babe\\n(Just a little bit) A little respect\\n(Just a little bit) I get tired\\n(Just a little bit) Keep on tryin'\\n(Just a little bit) You're runnin' out of fools\\n(Just a little bit) And I ain't lyin'\\n(Just a little bit)\\n(Re, re, re, re) Start when you come home\\n(Re, re, re, respect) Or you might walk in\\n(Just a little bit) And find out I'm gone\\n(Just a little bit) I gotta have\\n(Just a little bit) A little respect\\n(Just a little bit)\""
      ]
     },
     "execution_count": 3,
     "metadata": {},
     "output_type": "execute_result"
    }
   ],
   "source": [
    "lyrics"
   ]
  },
  {
   "cell_type": "markdown",
   "metadata": {},
   "source": [
    "This is pretty good. But It's still not perfect.\n",
    "\n",
    "What are some problems with this text?"
   ]
  },
  {
   "cell_type": "markdown",
   "metadata": {},
   "source": [
    "We still have words between brackets that aren't really part of the lyrics"
   ]
  },
  {
   "cell_type": "markdown",
   "metadata": {},
   "source": [
    "This is where regex comes in handy.\n",
    "\n",
    "Let's remove the info between brackets.\n",
    "\n",
    "**Which of the functions that we've discussed in class today should we use to remove it?**"
   ]
  },
  {
   "cell_type": "markdown",
   "metadata": {},
   "source": [
    "* ANSWER HERE\n",
    "* *\n",
    "* *\n",
    "* *\n",
    "* *\n",
    "* *\n",
    "* *\n",
    "* *\n",
    "* *\n",
    "* *\n",
    "* *\n",
    "* *\n",
    "* *\n",
    "* *\n",
    "* *\n",
    "* *\n",
    "* *\n",
    "* *\n",
    "* *\n",
    "* *\n",
    "* *\n",
    "* *\n",
    "* *\n",
    "* *\n",
    "* *\n",
    "* *\n",
    "* *\n",
    "* *\n",
    "* *\n",
    "* *\n",
    "* *\n",
    "* *\n",
    "* *\n",
    "* *\n",
    "* *\n",
    "* *\n",
    "* *\n",
    "* *\n",
    "* *"
   ]
  },
  {
   "cell_type": "markdown",
   "metadata": {},
   "source": [
    "Right! `sub`\n",
    "\n",
    "Remember that re.sub takes the format:\n",
    "\n",
    "`newstring = re.sub(pattern, replacement, original_string)`\n",
    "\n",
    "When we want to get rid of something without replacing it, we use `\"\"` as the replacement string.\n",
    "\n",
    "So, in our case, we can do something like:\n",
    "\n",
    "`cleaner_lyrics = re.sub(pattern, \"\", lyrics)`\n",
    "\n",
    "**But what goes in the pattern?**"
   ]
  },
  {
   "cell_type": "markdown",
   "metadata": {},
   "source": [
    "**Exercise: How can we use regex to remove the brackets and the info betwen them?**\n",
    "\n",
    "Hints:\n",
    "* In order to look for a `[`, you need to escape it like this `\\[`\n",
    "* A `.` represents any character\n",
    "* A `*` after a character matches zero or more instances"
   ]
  },
  {
   "cell_type": "code",
   "execution_count": 8,
   "metadata": {},
   "outputs": [
    {
     "data": {
      "text/plain": [
       "\"\\n\\n\\nWhat you want, baby, I got it\\nWhat you need, do you know I got it?\\n\\n\\nAll I'm askin' is for a little respect when you come home\\n(Just a little bit) Hey baby\\n(Just a little bit) when you get home\\n(Just a little bit) mister\\n(Just a little bit)\\n\\n\\nI ain't gonna do you wrong while you're gone\\nAin't gon' do you wrong 'cause I don't wanna\\n\\n\\nAll I'm askin' is for a little respect when you come home\\n(Just a little bit) Baby\\n(Just a little bit) When you get home\\n(Just a little bit) Yeah\\n(Just a little bit)\\n\\n\\nI'm about to give you all of my money\\nAnd all I'm askin' in return, honey\\nIs to give me my propers when you get home\\n\\n\\n(Just a, just a, just a, just a) Yeah, baby\\n(Just a, just a, just a, just a) When you get home\\n(Just a little bit) Yeah\\n(Just a little bit)\\n\\n\\nOoh, your kisses, sweeter than honey\\nAnd guess what? So is my money\\n\\n\\nAll I want you to do for me, is give it to me when you get home\\n(Re, re, re ,re) Yeah baby\\n(Re, re, re ,re) Whip it to me\\n(Respect, just a little bit) When you get home, now\\n(Just a little bit)\\n\\n\\nR-E-S-P-E-C-T, find out what it means to me\\nR-E-S-P-E-C-T, take care, TCB, oh\\n\\n\\n(Sock it to me, sock it to me, sock it to me, sock it to me)\\nA little respect\\n(sock it to me, sock it to me, sock it to me, sock it to me)\\nWhoa, babe\\n(Just a little bit) A little respect\\n(Just a little bit) I get tired\\n(Just a little bit) Keep on tryin'\\n(Just a little bit) You're runnin' out of fools\\n(Just a little bit) And I ain't lyin'\\n(Just a little bit)\\n(Re, re, re, re) Start when you come home\\n(Re, re, re, respect) Or you might walk in\\n(Just a little bit) And find out I'm gone\\n(Just a little bit) I gotta have\\n(Just a little bit) A little respect\\n(Just a little bit)\""
      ]
     },
     "execution_count": 8,
     "metadata": {},
     "output_type": "execute_result"
    }
   ],
   "source": [
    "cleaner_lyrics = re.sub(\"\\[.*]\", \"\", lyrics)\n",
    "\n",
    "cleaner_lyrics"
   ]
  },
  {
   "cell_type": "code",
   "execution_count": null,
   "metadata": {},
   "outputs": [],
   "source": []
  },
  {
   "cell_type": "code",
   "execution_count": null,
   "metadata": {},
   "outputs": [],
   "source": []
  },
  {
   "cell_type": "code",
   "execution_count": null,
   "metadata": {},
   "outputs": [],
   "source": []
  },
  {
   "cell_type": "markdown",
   "metadata": {},
   "source": [
    "Now there are three extra newlines at the beginning.\n",
    "\n",
    "**How can we remove these?**\n",
    "\n",
    "Hints: \n",
    "* `\\n` is the same in regex\n",
    "* `^` before square brackets matches the start of a string\n",
    "* `{}` with a number inside indicates the number of chars to match"
   ]
  },
  {
   "cell_type": "code",
   "execution_count": 9,
   "metadata": {},
   "outputs": [],
   "source": [
    "cleanest_lyrics = re.sub(\"^[\\n]{3}\",\"\", cleaner_lyrics)"
   ]
  },
  {
   "cell_type": "code",
   "execution_count": 10,
   "metadata": {},
   "outputs": [
    {
     "data": {
      "text/plain": [
       "\"What you want, baby, I got it\\nWhat you need, do you know I got it?\\n\\n\\nAll I'm askin' is for a little respect when you come home\\n(Just a little bit) Hey baby\\n(Just a little bit) when you get home\\n(Just a little bit) mister\\n(Just a little bit)\\n\\n\\nI ain't gonna do you wrong while you're gone\\nAin't gon' do you wrong 'cause I don't wanna\\n\\n\\nAll I'm askin' is for a little respect when you come home\\n(Just a little bit) Baby\\n(Just a little bit) When you get home\\n(Just a little bit) Yeah\\n(Just a little bit)\\n\\n\\nI'm about to give you all of my money\\nAnd all I'm askin' in return, honey\\nIs to give me my propers when you get home\\n\\n\\n(Just a, just a, just a, just a) Yeah, baby\\n(Just a, just a, just a, just a) When you get home\\n(Just a little bit) Yeah\\n(Just a little bit)\\n\\n\\nOoh, your kisses, sweeter than honey\\nAnd guess what? So is my money\\n\\n\\nAll I want you to do for me, is give it to me when you get home\\n(Re, re, re ,re) Yeah baby\\n(Re, re, re ,re) Whip it to me\\n(Respect, just a little bit) When you get home, now\\n(Just a little bit)\\n\\n\\nR-E-S-P-E-C-T, find out what it means to me\\nR-E-S-P-E-C-T, take care, TCB, oh\\n\\n\\n(Sock it to me, sock it to me, sock it to me, sock it to me)\\nA little respect\\n(sock it to me, sock it to me, sock it to me, sock it to me)\\nWhoa, babe\\n(Just a little bit) A little respect\\n(Just a little bit) I get tired\\n(Just a little bit) Keep on tryin'\\n(Just a little bit) You're runnin' out of fools\\n(Just a little bit) And I ain't lyin'\\n(Just a little bit)\\n(Re, re, re, re) Start when you come home\\n(Re, re, re, respect) Or you might walk in\\n(Just a little bit) And find out I'm gone\\n(Just a little bit) I gotta have\\n(Just a little bit) A little respect\\n(Just a little bit)\""
      ]
     },
     "execution_count": 10,
     "metadata": {},
     "output_type": "execute_result"
    }
   ],
   "source": [
    "cleanest_lyrics"
   ]
  },
  {
   "cell_type": "markdown",
   "metadata": {},
   "source": [
    "And with that, we're done! \n",
    "\n",
    "Now, one last thing: we need to save our clean lyrics to a file:"
   ]
  },
  {
   "cell_type": "code",
   "execution_count": 11,
   "metadata": {},
   "outputs": [],
   "source": [
    "# this is how you save to a file in python\n",
    "\n",
    "with open(\"lyrics.txt\", \"w\") as file:\n",
    "    file.writelines(cleanest_lyrics)"
   ]
  },
  {
   "cell_type": "markdown",
   "metadata": {},
   "source": [
    "We did it!"
   ]
  }
 ],
 "metadata": {
  "kernelspec": {
   "display_name": "Python 3",
   "language": "python",
   "name": "python3"
  },
  "language_info": {
   "codemirror_mode": {
    "name": "ipython",
    "version": 3
   },
   "file_extension": ".py",
   "mimetype": "text/x-python",
   "name": "python",
   "nbconvert_exporter": "python",
   "pygments_lexer": "ipython3",
   "version": "3.7.4"
  }
 },
 "nbformat": 4,
 "nbformat_minor": 2
}
