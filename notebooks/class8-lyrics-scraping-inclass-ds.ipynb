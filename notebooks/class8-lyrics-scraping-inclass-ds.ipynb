{
 "cells": [
  {
   "cell_type": "code",
   "execution_count": null,
   "metadata": {},
   "outputs": [],
   "source": [
    "# import libraries we'll need\n",
    "\n",
    "import requests\n",
    "from bs4 import BeautifulSoup"
   ]
  },
  {
   "cell_type": "code",
   "execution_count": null,
   "metadata": {},
   "outputs": [],
   "source": [
    "# get the contents of the candidate playlist page\n",
    "\n",
    "resp = requests.get(\"https://www.nytimes.com/interactive/2019/08/19/us/politics/presidential-campaign-songs-playlists.html\") "
   ]
  },
  {
   "cell_type": "code",
   "execution_count": null,
   "metadata": {},
   "outputs": [],
   "source": [
    "# convert it to string and just make sure it worked\n",
    "html_str = resp.text\n",
    "\n",
    "html_str"
   ]
  },
  {
   "cell_type": "code",
   "execution_count": null,
   "metadata": {},
   "outputs": [],
   "source": [
    "# load it into beautiful soup\n",
    "\n",
    "document = BeautifulSoup(html_str, \"html.parser\")"
   ]
  },
  {
   "cell_type": "code",
   "execution_count": null,
   "metadata": {},
   "outputs": [],
   "source": [
    "# find all the song title tags and see what they look like\n",
    "\n",
    "title_tags = document.find_all(\"span\", attrs={\"class\": \"song-title\"})\n",
    "\n",
    "title_tags"
   ]
  },
  {
   "cell_type": "code",
   "execution_count": null,
   "metadata": {},
   "outputs": [],
   "source": [
    "# now let's make a dictionary in the format {song title, artist}\n",
    "\n",
    "song_dict = {} \n",
    "\n",
    "for title in title_tags:\n",
    "    # get the string associated w/ the tag\n",
    "    song_title = title.string\n",
    "    # while we're looking at that title, look for the next sibling\n",
    "    artist_name = title.find_next_sibling('span')\n",
    "    # add it to the dict (and be sure to add only the string)\n",
    "    song_dict[song_title] = artist_name.string\n",
    "    \n",
    "song_dict"
   ]
  },
  {
   "cell_type": "code",
   "execution_count": null,
   "metadata": {},
   "outputs": [],
   "source": [
    "# now it's time to put our API knowledge to use\n",
    "\n",
    "# first, define your API key to authorize your request when using the API:\n",
    "client_access_token = \"zK66h3XvLu38c8sH0ZHu2DogDZJfBUyaE2dhuXGNhgoxbZWOjO7tNf2J9qedMbSv\" # Replace with your token"
   ]
  },
  {
   "cell_type": "code",
   "execution_count": null,
   "metadata": {},
   "outputs": [],
   "source": [
    "# now, iterate through and get our lyrics URLs\n",
    "\n",
    "url_dict = {}\n",
    "\n",
    "for item in song_dict:\n",
    "    song_title = item\n",
    "    song_artist = song_dict[item]\n",
    "        \n",
    "    # Remember this is the URL for a search via the Genius API:\n",
    "    genius_search_url = f'http://api.genius.com/search?q={song_title}&access_token={client_access_token}'\n",
    "\n",
    "    # here's the API call\n",
    "    resp = requests.get(genius_search_url)\n",
    "    data = resp.json()\n",
    "    \n",
    "    # now search for match w/ artist \n",
    "    for song in data['response']['hits']:\n",
    "        if song['result']['primary_artist']['name'] == song_artist:\n",
    "            # if there's a match, get the url\n",
    "            lyrics_url = song['result']['url']\n",
    "\n",
    "            # add it to the url dict in format {song title, url}\n",
    "            url_dict[song_title] = lyrics_url\n",
    "            \n",
    "            # just give a status update\n",
    "            print(\"Matched artist: \" + song_artist + \" and title: \" + song_title)\n",
    " \n",
    "            # break out of for loop since we've got a match \n",
    "            break\n",
    "            \n",
    "url_dict"
   ]
  },
  {
   "cell_type": "code",
   "execution_count": null,
   "metadata": {},
   "outputs": [],
   "source": [
    "# now we've got our URL dict so we can start scraping lyrics!\n",
    "\n",
    "import re\n",
    "\n",
    "for item in url_dict:\n",
    "    song_title = item\n",
    "    song_artist = song_dict[item]   # note that later in the semester, we'll learn\n",
    "                                    # another method of storing multidimensional data\n",
    "                                    # for now, though, we'll just keep these two dicts\n",
    "    song_url = url_dict[item]  \n",
    "\n",
    "    # get the contents of the lyrics page\n",
    "    resp = requests.get(song_url) \n",
    "    html_str = resp.text\n",
    "\n",
    "    # turn it into a BS object and get the lyrics div\n",
    "    document = BeautifulSoup(html_str, \"html.parser\")\n",
    "    lyrics = document.find('p').text\n",
    "    \n",
    "    # let's do some quick cleaning \n",
    "    cleaner_lyrics = re.sub(\"\\[.*\\]\\n\", \"\", lyrics) # remove square brackets and contents\n",
    "    cleanest_lyrics = re.sub(\"^[\\n]{3}\",\"\", cleaner_lyrics) # remove the three opening newlines\n",
    "\n",
    "    # store it in a file\n",
    "\n",
    "    # we'll use the final part of the URL as a filename \n",
    "    print(song_url)\n",
    "    filename = song_url.replace(\"https://genius.com/\",\"\")\n",
    "    print(filename)\n",
    "    filename = filename.replace(\"-lyrics\",\"\") + \".txt\"\n",
    "    print(filename)\n",
    "    \n",
    "    # store the lyrics in a subdir called \"lyrics\"; \n",
    "    path = \"lyrics/\" + filename\n",
    "    \n",
    "    # IMPORTANT: \"lyrics\" dir needs to exist first, otherwise it will break  \n",
    "    # you need to go to the directory on your computer that holds  \n",
    "    # this Jupyter notebook (class8-lyrics-scraping-inclass-ds) and create a new folder called 'lyrics'\n",
    "    \n",
    "    with open(path, \"w\") as file:\n",
    "        file.writelines(cleanest_lyrics)\n",
    "        print(\"Wrote lyrics to: \" + filename)"
   ]
  },
  {
   "cell_type": "markdown",
   "metadata": {},
   "source": [
    "Hurray! We got our lyrics!"
   ]
  }
 ],
 "metadata": {
  "kernelspec": {
   "display_name": "Python 3",
   "language": "python",
   "name": "python3"
  },
  "language_info": {
   "codemirror_mode": {
    "name": "ipython",
    "version": 3
   },
   "file_extension": ".py",
   "mimetype": "text/x-python",
   "name": "python",
   "nbconvert_exporter": "python",
   "pygments_lexer": "ipython3",
   "version": "3.7.4"
  }
 },
 "nbformat": 4,
 "nbformat_minor": 1
}
