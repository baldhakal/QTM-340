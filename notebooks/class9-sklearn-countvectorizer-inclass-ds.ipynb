{
 "cells": [
  {
   "cell_type": "markdown",
   "metadata": {},
   "source": [
    "after getting your text into whatever format is required, the next step us (usually) to tokenize it."
   ]
  },
  {
   "cell_type": "code",
   "execution_count": null,
   "metadata": {},
   "outputs": [],
   "source": [
    "from sklearn.feature_extraction.text import CountVectorizer\n",
    "\n",
    "#instantiate CountVectorizer()\n",
    "cv=CountVectorizer()\n",
    " \n",
    "# this steps generates word counts for the words in your docs\n",
    "word_count_vector=cv.fit_transform(all_docs)\n",
    "\n",
    "# check shape\n",
    "word_count_vector.shape\n",
    "\n",
    "# we can look at the whole vocabulary and counts like this\n",
    "cv.vocabulary_\n",
    "\n",
    "# and we can sort it like this:\n",
    "\n",
    "sum_words = word_count_vector.sum(axis=0) # sum_words is a vector that contains\n",
    "                                            # the sum of each word occurrence in all \n",
    "                                            # texts in the corpus. In other words, \n",
    "                                            # we are adding the elements for each column of\n",
    "                                            # the word_count_vector matrix\n",
    "\n",
    "# then sort the list of tuples that contain the word and their occurrence in the corpus.\n",
    "words_freq = [(word, sum_words[0, idx]) for word, idx in cv.vocabulary_.items()]\n",
    "words_freq = sorted(words_freq, key = lambda x: x[1], reverse=True)\n",
    "\n",
    "# display the top 10\n",
    "words_freq[:10]"
   ]
  }
 ],
 "metadata": {
  "kernelspec": {
   "display_name": "Python 3",
   "language": "python",
   "name": "python3"
  },
  "language_info": {
   "codemirror_mode": {
    "name": "ipython",
    "version": 3
   },
   "file_extension": ".py",
   "mimetype": "text/x-python",
   "name": "python",
   "nbconvert_exporter": "python",
   "pygments_lexer": "ipython3",
   "version": "3.7.4"
  }
 },
 "nbformat": 4,
 "nbformat_minor": 2
}
